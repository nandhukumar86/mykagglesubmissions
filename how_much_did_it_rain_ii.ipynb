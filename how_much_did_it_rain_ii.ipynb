{
  "nbformat": 4,
  "nbformat_minor": 0,
  "metadata": {
    "colab": {
      "name": "how-much-did-it-rain-ii.ipynb",
      "provenance": [],
      "collapsed_sections": [],
      "authorship_tag": "ABX9TyOrnodWAob3KG52W8kdqK3b",
      "include_colab_link": true
    },
    "kernelspec": {
      "name": "python3",
      "display_name": "Python 3"
    }
  },
  "cells": [
    {
      "cell_type": "markdown",
      "metadata": {
        "id": "view-in-github",
        "colab_type": "text"
      },
      "source": [
        "<a href=\"https://colab.research.google.com/github/nandhukumar86/mykagglesubmissions/blob/master/how_much_did_it_rain_ii.ipynb\" target=\"_parent\"><img src=\"https://colab.research.google.com/assets/colab-badge.svg\" alt=\"Open In Colab\"/></a>"
      ]
    },
    {
      "cell_type": "code",
      "metadata": {
        "id": "dqi-cVQMx9ij"
      },
      "source": [
        "# # install kaggle\n",
        "# ! pip install -q kaggle\n",
        "\n",
        "# # upload file to Colab\n",
        "# from google.colab import files\n",
        "# files.upload()\n",
        "\n",
        "# # create kaggle folder in root and copy the file.\n",
        "# ! mkdir ~/.kaggle\n",
        "# ! cp kaggle.json ~/.kaggle/\n",
        "\n",
        "# # provide permissions\n",
        "# ! chmod 600 ~/.kaggle/kaggle.json\n",
        "\n",
        "# # download competition files by providing competition name\n",
        "# ! kaggle competitions download -c 'how-much-did-it-rain-ii'\n",
        "\n",
        "# # unzip the files and folders\n",
        "# #! unzip train.csv.zip -d train\n",
        "# #! unzip test.csv.zip -d test\n"
      ],
      "execution_count": 1,
      "outputs": []
    },
    {
      "cell_type": "code",
      "metadata": {
        "id": "sViNW9f7yKyU"
      },
      "source": [
        "# ! unzip train.zip -d train\n",
        "# ! unzip test.zip -d test"
      ],
      "execution_count": 2,
      "outputs": []
    },
    {
      "cell_type": "code",
      "metadata": {
        "id": "rgX3v0rrzA_x"
      },
      "source": [
        "import pandas as pd\n",
        "import numpy as np"
      ],
      "execution_count": 3,
      "outputs": []
    },
    {
      "cell_type": "code",
      "metadata": {
        "id": "pfFITwxXyj7F"
      },
      "source": [
        "df_train = pd.read_csv('/content/train/train.csv')\n",
        "df_test = pd.read_csv('/content/test/test.csv')"
      ],
      "execution_count": 4,
      "outputs": []
    },
    {
      "cell_type": "code",
      "metadata": {
        "colab": {
          "base_uri": "https://localhost:8080/",
          "height": 224
        },
        "id": "dMDHcCAcy_J4",
        "outputId": "09c36e73-006e-425d-d4b5-59b7dd0ecb50"
      },
      "source": [
        "df_train.tail()"
      ],
      "execution_count": 5,
      "outputs": [
        {
          "output_type": "execute_result",
          "data": {
            "text/html": [
              "<div>\n",
              "<style scoped>\n",
              "    .dataframe tbody tr th:only-of-type {\n",
              "        vertical-align: middle;\n",
              "    }\n",
              "\n",
              "    .dataframe tbody tr th {\n",
              "        vertical-align: top;\n",
              "    }\n",
              "\n",
              "    .dataframe thead th {\n",
              "        text-align: right;\n",
              "    }\n",
              "</style>\n",
              "<table border=\"1\" class=\"dataframe\">\n",
              "  <thead>\n",
              "    <tr style=\"text-align: right;\">\n",
              "      <th></th>\n",
              "      <th>Id</th>\n",
              "      <th>minutes_past</th>\n",
              "      <th>radardist_km</th>\n",
              "      <th>Ref</th>\n",
              "      <th>Ref_5x5_10th</th>\n",
              "      <th>Ref_5x5_50th</th>\n",
              "      <th>Ref_5x5_90th</th>\n",
              "      <th>RefComposite</th>\n",
              "      <th>RefComposite_5x5_10th</th>\n",
              "      <th>RefComposite_5x5_50th</th>\n",
              "      <th>RefComposite_5x5_90th</th>\n",
              "      <th>RhoHV</th>\n",
              "      <th>RhoHV_5x5_10th</th>\n",
              "      <th>RhoHV_5x5_50th</th>\n",
              "      <th>RhoHV_5x5_90th</th>\n",
              "      <th>Zdr</th>\n",
              "      <th>Zdr_5x5_10th</th>\n",
              "      <th>Zdr_5x5_50th</th>\n",
              "      <th>Zdr_5x5_90th</th>\n",
              "      <th>Kdp</th>\n",
              "      <th>Kdp_5x5_10th</th>\n",
              "      <th>Kdp_5x5_50th</th>\n",
              "      <th>Kdp_5x5_90th</th>\n",
              "      <th>Expected</th>\n",
              "    </tr>\n",
              "  </thead>\n",
              "  <tbody>\n",
              "    <tr>\n",
              "      <th>13765196</th>\n",
              "      <td>1180945</td>\n",
              "      <td>38</td>\n",
              "      <td>9.0</td>\n",
              "      <td>33.0</td>\n",
              "      <td>19.5</td>\n",
              "      <td>25.5</td>\n",
              "      <td>36.5</td>\n",
              "      <td>33.0</td>\n",
              "      <td>20.5</td>\n",
              "      <td>28.0</td>\n",
              "      <td>36.5</td>\n",
              "      <td>NaN</td>\n",
              "      <td>NaN</td>\n",
              "      <td>NaN</td>\n",
              "      <td>NaN</td>\n",
              "      <td>NaN</td>\n",
              "      <td>NaN</td>\n",
              "      <td>NaN</td>\n",
              "      <td>NaN</td>\n",
              "      <td>NaN</td>\n",
              "      <td>NaN</td>\n",
              "      <td>NaN</td>\n",
              "      <td>NaN</td>\n",
              "      <td>8.636004</td>\n",
              "    </tr>\n",
              "    <tr>\n",
              "      <th>13765197</th>\n",
              "      <td>1180945</td>\n",
              "      <td>42</td>\n",
              "      <td>9.0</td>\n",
              "      <td>33.0</td>\n",
              "      <td>21.0</td>\n",
              "      <td>30.5</td>\n",
              "      <td>37.0</td>\n",
              "      <td>36.5</td>\n",
              "      <td>22.0</td>\n",
              "      <td>33.5</td>\n",
              "      <td>37.0</td>\n",
              "      <td>NaN</td>\n",
              "      <td>NaN</td>\n",
              "      <td>NaN</td>\n",
              "      <td>NaN</td>\n",
              "      <td>NaN</td>\n",
              "      <td>NaN</td>\n",
              "      <td>NaN</td>\n",
              "      <td>NaN</td>\n",
              "      <td>NaN</td>\n",
              "      <td>NaN</td>\n",
              "      <td>NaN</td>\n",
              "      <td>NaN</td>\n",
              "      <td>8.636004</td>\n",
              "    </tr>\n",
              "    <tr>\n",
              "      <th>13765198</th>\n",
              "      <td>1180945</td>\n",
              "      <td>47</td>\n",
              "      <td>9.0</td>\n",
              "      <td>29.5</td>\n",
              "      <td>10.0</td>\n",
              "      <td>26.0</td>\n",
              "      <td>30.5</td>\n",
              "      <td>31.0</td>\n",
              "      <td>16.5</td>\n",
              "      <td>26.0</td>\n",
              "      <td>33.0</td>\n",
              "      <td>1.041667</td>\n",
              "      <td>NaN</td>\n",
              "      <td>1.025000</td>\n",
              "      <td>1.051667</td>\n",
              "      <td>1.75</td>\n",
              "      <td>NaN</td>\n",
              "      <td>0.750</td>\n",
              "      <td>3.0000</td>\n",
              "      <td>13.379990</td>\n",
              "      <td>NaN</td>\n",
              "      <td>NaN</td>\n",
              "      <td>13.379990</td>\n",
              "      <td>8.636004</td>\n",
              "    </tr>\n",
              "    <tr>\n",
              "      <th>13765199</th>\n",
              "      <td>1180945</td>\n",
              "      <td>52</td>\n",
              "      <td>9.0</td>\n",
              "      <td>19.0</td>\n",
              "      <td>NaN</td>\n",
              "      <td>15.5</td>\n",
              "      <td>26.5</td>\n",
              "      <td>19.0</td>\n",
              "      <td>NaN</td>\n",
              "      <td>16.5</td>\n",
              "      <td>26.5</td>\n",
              "      <td>NaN</td>\n",
              "      <td>NaN</td>\n",
              "      <td>NaN</td>\n",
              "      <td>1.051667</td>\n",
              "      <td>NaN</td>\n",
              "      <td>NaN</td>\n",
              "      <td>NaN</td>\n",
              "      <td>2.8125</td>\n",
              "      <td>NaN</td>\n",
              "      <td>NaN</td>\n",
              "      <td>NaN</td>\n",
              "      <td>NaN</td>\n",
              "      <td>8.636004</td>\n",
              "    </tr>\n",
              "    <tr>\n",
              "      <th>13765200</th>\n",
              "      <td>1180945</td>\n",
              "      <td>57</td>\n",
              "      <td>9.0</td>\n",
              "      <td>7.5</td>\n",
              "      <td>NaN</td>\n",
              "      <td>10.0</td>\n",
              "      <td>13.0</td>\n",
              "      <td>14.5</td>\n",
              "      <td>10.0</td>\n",
              "      <td>12.5</td>\n",
              "      <td>16.0</td>\n",
              "      <td>1.051667</td>\n",
              "      <td>0.845</td>\n",
              "      <td>1.021667</td>\n",
              "      <td>1.051667</td>\n",
              "      <td>0.00</td>\n",
              "      <td>-1.125</td>\n",
              "      <td>0.375</td>\n",
              "      <td>3.2500</td>\n",
              "      <td>6.069992</td>\n",
              "      <td>NaN</td>\n",
              "      <td>-8.029999</td>\n",
              "      <td>6.069992</td>\n",
              "      <td>8.636004</td>\n",
              "    </tr>\n",
              "  </tbody>\n",
              "</table>\n",
              "</div>"
            ],
            "text/plain": [
              "               Id  minutes_past  ...  Kdp_5x5_90th  Expected\n",
              "13765196  1180945            38  ...           NaN  8.636004\n",
              "13765197  1180945            42  ...           NaN  8.636004\n",
              "13765198  1180945            47  ...     13.379990  8.636004\n",
              "13765199  1180945            52  ...           NaN  8.636004\n",
              "13765200  1180945            57  ...      6.069992  8.636004\n",
              "\n",
              "[5 rows x 24 columns]"
            ]
          },
          "metadata": {
            "tags": []
          },
          "execution_count": 5
        }
      ]
    },
    {
      "cell_type": "code",
      "metadata": {
        "colab": {
          "base_uri": "https://localhost:8080/",
          "height": 224
        },
        "id": "reEHGqIQzQj4",
        "outputId": "18d73ebb-2023-44c8-b17c-4671810a9686"
      },
      "source": [
        "df_test.tail()"
      ],
      "execution_count": 6,
      "outputs": [
        {
          "output_type": "execute_result",
          "data": {
            "text/html": [
              "<div>\n",
              "<style scoped>\n",
              "    .dataframe tbody tr th:only-of-type {\n",
              "        vertical-align: middle;\n",
              "    }\n",
              "\n",
              "    .dataframe tbody tr th {\n",
              "        vertical-align: top;\n",
              "    }\n",
              "\n",
              "    .dataframe thead th {\n",
              "        text-align: right;\n",
              "    }\n",
              "</style>\n",
              "<table border=\"1\" class=\"dataframe\">\n",
              "  <thead>\n",
              "    <tr style=\"text-align: right;\">\n",
              "      <th></th>\n",
              "      <th>Id</th>\n",
              "      <th>minutes_past</th>\n",
              "      <th>radardist_km</th>\n",
              "      <th>Ref</th>\n",
              "      <th>Ref_5x5_10th</th>\n",
              "      <th>Ref_5x5_50th</th>\n",
              "      <th>Ref_5x5_90th</th>\n",
              "      <th>RefComposite</th>\n",
              "      <th>RefComposite_5x5_10th</th>\n",
              "      <th>RefComposite_5x5_50th</th>\n",
              "      <th>RefComposite_5x5_90th</th>\n",
              "      <th>RhoHV</th>\n",
              "      <th>RhoHV_5x5_10th</th>\n",
              "      <th>RhoHV_5x5_50th</th>\n",
              "      <th>RhoHV_5x5_90th</th>\n",
              "      <th>Zdr</th>\n",
              "      <th>Zdr_5x5_10th</th>\n",
              "      <th>Zdr_5x5_50th</th>\n",
              "      <th>Zdr_5x5_90th</th>\n",
              "      <th>Kdp</th>\n",
              "      <th>Kdp_5x5_10th</th>\n",
              "      <th>Kdp_5x5_50th</th>\n",
              "      <th>Kdp_5x5_90th</th>\n",
              "    </tr>\n",
              "  </thead>\n",
              "  <tbody>\n",
              "    <tr>\n",
              "      <th>8022751</th>\n",
              "      <td>717625</td>\n",
              "      <td>40</td>\n",
              "      <td>15.0</td>\n",
              "      <td>NaN</td>\n",
              "      <td>NaN</td>\n",
              "      <td>NaN</td>\n",
              "      <td>NaN</td>\n",
              "      <td>NaN</td>\n",
              "      <td>NaN</td>\n",
              "      <td>NaN</td>\n",
              "      <td>NaN</td>\n",
              "      <td>NaN</td>\n",
              "      <td>NaN</td>\n",
              "      <td>NaN</td>\n",
              "      <td>NaN</td>\n",
              "      <td>NaN</td>\n",
              "      <td>NaN</td>\n",
              "      <td>NaN</td>\n",
              "      <td>NaN</td>\n",
              "      <td>NaN</td>\n",
              "      <td>NaN</td>\n",
              "      <td>NaN</td>\n",
              "      <td>NaN</td>\n",
              "    </tr>\n",
              "    <tr>\n",
              "      <th>8022752</th>\n",
              "      <td>717625</td>\n",
              "      <td>44</td>\n",
              "      <td>15.0</td>\n",
              "      <td>NaN</td>\n",
              "      <td>NaN</td>\n",
              "      <td>NaN</td>\n",
              "      <td>NaN</td>\n",
              "      <td>NaN</td>\n",
              "      <td>NaN</td>\n",
              "      <td>NaN</td>\n",
              "      <td>NaN</td>\n",
              "      <td>NaN</td>\n",
              "      <td>NaN</td>\n",
              "      <td>NaN</td>\n",
              "      <td>NaN</td>\n",
              "      <td>NaN</td>\n",
              "      <td>NaN</td>\n",
              "      <td>NaN</td>\n",
              "      <td>NaN</td>\n",
              "      <td>NaN</td>\n",
              "      <td>NaN</td>\n",
              "      <td>NaN</td>\n",
              "      <td>NaN</td>\n",
              "    </tr>\n",
              "    <tr>\n",
              "      <th>8022753</th>\n",
              "      <td>717625</td>\n",
              "      <td>48</td>\n",
              "      <td>15.0</td>\n",
              "      <td>NaN</td>\n",
              "      <td>NaN</td>\n",
              "      <td>NaN</td>\n",
              "      <td>NaN</td>\n",
              "      <td>NaN</td>\n",
              "      <td>NaN</td>\n",
              "      <td>NaN</td>\n",
              "      <td>NaN</td>\n",
              "      <td>NaN</td>\n",
              "      <td>NaN</td>\n",
              "      <td>NaN</td>\n",
              "      <td>NaN</td>\n",
              "      <td>NaN</td>\n",
              "      <td>NaN</td>\n",
              "      <td>NaN</td>\n",
              "      <td>NaN</td>\n",
              "      <td>NaN</td>\n",
              "      <td>NaN</td>\n",
              "      <td>NaN</td>\n",
              "      <td>NaN</td>\n",
              "    </tr>\n",
              "    <tr>\n",
              "      <th>8022754</th>\n",
              "      <td>717625</td>\n",
              "      <td>52</td>\n",
              "      <td>15.0</td>\n",
              "      <td>NaN</td>\n",
              "      <td>NaN</td>\n",
              "      <td>NaN</td>\n",
              "      <td>NaN</td>\n",
              "      <td>NaN</td>\n",
              "      <td>NaN</td>\n",
              "      <td>NaN</td>\n",
              "      <td>NaN</td>\n",
              "      <td>NaN</td>\n",
              "      <td>NaN</td>\n",
              "      <td>NaN</td>\n",
              "      <td>NaN</td>\n",
              "      <td>NaN</td>\n",
              "      <td>NaN</td>\n",
              "      <td>NaN</td>\n",
              "      <td>NaN</td>\n",
              "      <td>NaN</td>\n",
              "      <td>NaN</td>\n",
              "      <td>NaN</td>\n",
              "      <td>NaN</td>\n",
              "    </tr>\n",
              "    <tr>\n",
              "      <th>8022755</th>\n",
              "      <td>717625</td>\n",
              "      <td>56</td>\n",
              "      <td>15.0</td>\n",
              "      <td>NaN</td>\n",
              "      <td>NaN</td>\n",
              "      <td>NaN</td>\n",
              "      <td>NaN</td>\n",
              "      <td>NaN</td>\n",
              "      <td>NaN</td>\n",
              "      <td>NaN</td>\n",
              "      <td>NaN</td>\n",
              "      <td>NaN</td>\n",
              "      <td>NaN</td>\n",
              "      <td>NaN</td>\n",
              "      <td>NaN</td>\n",
              "      <td>NaN</td>\n",
              "      <td>NaN</td>\n",
              "      <td>NaN</td>\n",
              "      <td>NaN</td>\n",
              "      <td>NaN</td>\n",
              "      <td>NaN</td>\n",
              "      <td>NaN</td>\n",
              "      <td>NaN</td>\n",
              "    </tr>\n",
              "  </tbody>\n",
              "</table>\n",
              "</div>"
            ],
            "text/plain": [
              "             Id  minutes_past  ...  Kdp_5x5_50th  Kdp_5x5_90th\n",
              "8022751  717625            40  ...           NaN           NaN\n",
              "8022752  717625            44  ...           NaN           NaN\n",
              "8022753  717625            48  ...           NaN           NaN\n",
              "8022754  717625            52  ...           NaN           NaN\n",
              "8022755  717625            56  ...           NaN           NaN\n",
              "\n",
              "[5 rows x 23 columns]"
            ]
          },
          "metadata": {
            "tags": []
          },
          "execution_count": 6
        }
      ]
    },
    {
      "cell_type": "code",
      "metadata": {
        "colab": {
          "base_uri": "https://localhost:8080/",
          "height": 813
        },
        "id": "o-bGfOjezXl0",
        "outputId": "82ff6dbd-4910-4ad1-b50a-68a2dc9e8ab9"
      },
      "source": [
        "df_train.describe().T"
      ],
      "execution_count": 7,
      "outputs": [
        {
          "output_type": "execute_result",
          "data": {
            "text/html": [
              "<div>\n",
              "<style scoped>\n",
              "    .dataframe tbody tr th:only-of-type {\n",
              "        vertical-align: middle;\n",
              "    }\n",
              "\n",
              "    .dataframe tbody tr th {\n",
              "        vertical-align: top;\n",
              "    }\n",
              "\n",
              "    .dataframe thead th {\n",
              "        text-align: right;\n",
              "    }\n",
              "</style>\n",
              "<table border=\"1\" class=\"dataframe\">\n",
              "  <thead>\n",
              "    <tr style=\"text-align: right;\">\n",
              "      <th></th>\n",
              "      <th>count</th>\n",
              "      <th>mean</th>\n",
              "      <th>std</th>\n",
              "      <th>min</th>\n",
              "      <th>25%</th>\n",
              "      <th>50%</th>\n",
              "      <th>75%</th>\n",
              "      <th>max</th>\n",
              "    </tr>\n",
              "  </thead>\n",
              "  <tbody>\n",
              "    <tr>\n",
              "      <th>Id</th>\n",
              "      <td>13765201.0</td>\n",
              "      <td>592336.986614</td>\n",
              "      <td>340856.086251</td>\n",
              "      <td>1.000000</td>\n",
              "      <td>296897.000000</td>\n",
              "      <td>592199.000000</td>\n",
              "      <td>889582.000000</td>\n",
              "      <td>1.180945e+06</td>\n",
              "    </tr>\n",
              "    <tr>\n",
              "      <th>minutes_past</th>\n",
              "      <td>13765201.0</td>\n",
              "      <td>29.523733</td>\n",
              "      <td>17.308131</td>\n",
              "      <td>0.000000</td>\n",
              "      <td>15.000000</td>\n",
              "      <td>30.000000</td>\n",
              "      <td>44.000000</td>\n",
              "      <td>5.900000e+01</td>\n",
              "    </tr>\n",
              "    <tr>\n",
              "      <th>radardist_km</th>\n",
              "      <td>13765201.0</td>\n",
              "      <td>11.067943</td>\n",
              "      <td>4.206618</td>\n",
              "      <td>0.000000</td>\n",
              "      <td>9.000000</td>\n",
              "      <td>11.000000</td>\n",
              "      <td>14.000000</td>\n",
              "      <td>2.100000e+01</td>\n",
              "    </tr>\n",
              "    <tr>\n",
              "      <th>Ref</th>\n",
              "      <td>6349375.0</td>\n",
              "      <td>22.926658</td>\n",
              "      <td>10.355157</td>\n",
              "      <td>-31.000000</td>\n",
              "      <td>16.000000</td>\n",
              "      <td>22.500000</td>\n",
              "      <td>29.500000</td>\n",
              "      <td>7.100000e+01</td>\n",
              "    </tr>\n",
              "    <tr>\n",
              "      <th>Ref_5x5_10th</th>\n",
              "      <td>5283988.0</td>\n",
              "      <td>19.952271</td>\n",
              "      <td>9.208166</td>\n",
              "      <td>-32.000000</td>\n",
              "      <td>14.000000</td>\n",
              "      <td>20.000000</td>\n",
              "      <td>26.000000</td>\n",
              "      <td>6.250000e+01</td>\n",
              "    </tr>\n",
              "    <tr>\n",
              "      <th>Ref_5x5_50th</th>\n",
              "      <td>6356482.0</td>\n",
              "      <td>22.610287</td>\n",
              "      <td>10.053000</td>\n",
              "      <td>-32.000000</td>\n",
              "      <td>16.000000</td>\n",
              "      <td>22.500000</td>\n",
              "      <td>29.000000</td>\n",
              "      <td>6.900000e+01</td>\n",
              "    </tr>\n",
              "    <tr>\n",
              "      <th>Ref_5x5_90th</th>\n",
              "      <td>7551281.0</td>\n",
              "      <td>25.898461</td>\n",
              "      <td>11.109579</td>\n",
              "      <td>-28.500000</td>\n",
              "      <td>18.000000</td>\n",
              "      <td>25.500000</td>\n",
              "      <td>33.500000</td>\n",
              "      <td>7.250000e+01</td>\n",
              "    </tr>\n",
              "    <tr>\n",
              "      <th>RefComposite</th>\n",
              "      <td>6716343.0</td>\n",
              "      <td>24.711081</td>\n",
              "      <td>10.689622</td>\n",
              "      <td>-32.000000</td>\n",
              "      <td>17.500000</td>\n",
              "      <td>24.000000</td>\n",
              "      <td>31.500000</td>\n",
              "      <td>9.250000e+01</td>\n",
              "    </tr>\n",
              "    <tr>\n",
              "      <th>RefComposite_5x5_10th</th>\n",
              "      <td>5755673.0</td>\n",
              "      <td>22.158238</td>\n",
              "      <td>9.702705</td>\n",
              "      <td>-31.000000</td>\n",
              "      <td>16.000000</td>\n",
              "      <td>22.000000</td>\n",
              "      <td>28.500000</td>\n",
              "      <td>6.600000e+01</td>\n",
              "    </tr>\n",
              "    <tr>\n",
              "      <th>RefComposite_5x5_50th</th>\n",
              "      <td>6711663.0</td>\n",
              "      <td>24.420753</td>\n",
              "      <td>10.424526</td>\n",
              "      <td>-27.500000</td>\n",
              "      <td>17.500000</td>\n",
              "      <td>24.000000</td>\n",
              "      <td>31.500000</td>\n",
              "      <td>7.100000e+01</td>\n",
              "    </tr>\n",
              "    <tr>\n",
              "      <th>RefComposite_5x5_90th</th>\n",
              "      <td>7829203.0</td>\n",
              "      <td>27.368961</td>\n",
              "      <td>11.492547</td>\n",
              "      <td>-25.000000</td>\n",
              "      <td>19.500000</td>\n",
              "      <td>27.000000</td>\n",
              "      <td>35.000000</td>\n",
              "      <td>9.350000e+01</td>\n",
              "    </tr>\n",
              "    <tr>\n",
              "      <th>RhoHV</th>\n",
              "      <td>4934916.0</td>\n",
              "      <td>0.972890</td>\n",
              "      <td>0.090743</td>\n",
              "      <td>0.208333</td>\n",
              "      <td>0.971667</td>\n",
              "      <td>0.991667</td>\n",
              "      <td>1.001667</td>\n",
              "      <td>1.051667e+00</td>\n",
              "    </tr>\n",
              "    <tr>\n",
              "      <th>RhoHV_5x5_10th</th>\n",
              "      <td>4133154.0</td>\n",
              "      <td>0.918859</td>\n",
              "      <td>0.126260</td>\n",
              "      <td>0.208333</td>\n",
              "      <td>0.915000</td>\n",
              "      <td>0.958333</td>\n",
              "      <td>0.981667</td>\n",
              "      <td>1.051667e+00</td>\n",
              "    </tr>\n",
              "    <tr>\n",
              "      <th>RhoHV_5x5_50th</th>\n",
              "      <td>4936568.0</td>\n",
              "      <td>0.974400</td>\n",
              "      <td>0.075169</td>\n",
              "      <td>0.208333</td>\n",
              "      <td>0.975000</td>\n",
              "      <td>0.991667</td>\n",
              "      <td>0.998333</td>\n",
              "      <td>1.051667e+00</td>\n",
              "    </tr>\n",
              "    <tr>\n",
              "      <th>RhoHV_5x5_90th</th>\n",
              "      <td>5905584.0</td>\n",
              "      <td>1.015272</td>\n",
              "      <td>0.048616</td>\n",
              "      <td>0.208333</td>\n",
              "      <td>0.998333</td>\n",
              "      <td>1.011667</td>\n",
              "      <td>1.051667</td>\n",
              "      <td>1.051667e+00</td>\n",
              "    </tr>\n",
              "    <tr>\n",
              "      <th>Zdr</th>\n",
              "      <td>4934916.0</td>\n",
              "      <td>0.536709</td>\n",
              "      <td>1.510399</td>\n",
              "      <td>-7.875000</td>\n",
              "      <td>-0.187500</td>\n",
              "      <td>0.375000</td>\n",
              "      <td>1.062500</td>\n",
              "      <td>7.937500e+00</td>\n",
              "    </tr>\n",
              "    <tr>\n",
              "      <th>Zdr_5x5_10th</th>\n",
              "      <td>4133154.0</td>\n",
              "      <td>-0.719008</td>\n",
              "      <td>1.006068</td>\n",
              "      <td>-7.875000</td>\n",
              "      <td>-1.125000</td>\n",
              "      <td>-0.625000</td>\n",
              "      <td>-0.187500</td>\n",
              "      <td>7.937500e+00</td>\n",
              "    </tr>\n",
              "    <tr>\n",
              "      <th>Zdr_5x5_50th</th>\n",
              "      <td>4936568.0</td>\n",
              "      <td>0.337622</td>\n",
              "      <td>0.938644</td>\n",
              "      <td>-7.875000</td>\n",
              "      <td>-0.062500</td>\n",
              "      <td>0.250000</td>\n",
              "      <td>0.687500</td>\n",
              "      <td>7.937500e+00</td>\n",
              "    </tr>\n",
              "    <tr>\n",
              "      <th>Zdr_5x5_90th</th>\n",
              "      <td>5905584.0</td>\n",
              "      <td>2.072870</td>\n",
              "      <td>1.670194</td>\n",
              "      <td>-7.875000</td>\n",
              "      <td>1.062500</td>\n",
              "      <td>1.687500</td>\n",
              "      <td>2.625000</td>\n",
              "      <td>7.937500e+00</td>\n",
              "    </tr>\n",
              "    <tr>\n",
              "      <th>Kdp</th>\n",
              "      <td>4182635.0</td>\n",
              "      <td>0.035452</td>\n",
              "      <td>3.869725</td>\n",
              "      <td>-96.040000</td>\n",
              "      <td>-1.410004</td>\n",
              "      <td>0.000000</td>\n",
              "      <td>1.750000</td>\n",
              "      <td>1.797500e+02</td>\n",
              "    </tr>\n",
              "    <tr>\n",
              "      <th>Kdp_5x5_10th</th>\n",
              "      <td>3428782.0</td>\n",
              "      <td>-3.482325</td>\n",
              "      <td>2.792120</td>\n",
              "      <td>-80.790000</td>\n",
              "      <td>-4.580002</td>\n",
              "      <td>-2.820007</td>\n",
              "      <td>-1.760010</td>\n",
              "      <td>3.519989e+00</td>\n",
              "    </tr>\n",
              "    <tr>\n",
              "      <th>Kdp_5x5_50th</th>\n",
              "      <td>4187281.0</td>\n",
              "      <td>-0.473655</td>\n",
              "      <td>2.263046</td>\n",
              "      <td>-78.770004</td>\n",
              "      <td>-0.710007</td>\n",
              "      <td>0.000000</td>\n",
              "      <td>0.349991</td>\n",
              "      <td>1.280000e+01</td>\n",
              "    </tr>\n",
              "    <tr>\n",
              "      <th>Kdp_5x5_90th</th>\n",
              "      <td>5052776.0</td>\n",
              "      <td>4.079836</td>\n",
              "      <td>4.147337</td>\n",
              "      <td>-100.200005</td>\n",
              "      <td>2.069992</td>\n",
              "      <td>3.519989</td>\n",
              "      <td>5.639999</td>\n",
              "      <td>1.446000e+02</td>\n",
              "    </tr>\n",
              "    <tr>\n",
              "      <th>Expected</th>\n",
              "      <td>13765201.0</td>\n",
              "      <td>108.626306</td>\n",
              "      <td>548.605805</td>\n",
              "      <td>0.010000</td>\n",
              "      <td>0.254000</td>\n",
              "      <td>1.016000</td>\n",
              "      <td>3.810002</td>\n",
              "      <td>3.301773e+04</td>\n",
              "    </tr>\n",
              "  </tbody>\n",
              "</table>\n",
              "</div>"
            ],
            "text/plain": [
              "                            count           mean  ...            75%           max\n",
              "Id                     13765201.0  592336.986614  ...  889582.000000  1.180945e+06\n",
              "minutes_past           13765201.0      29.523733  ...      44.000000  5.900000e+01\n",
              "radardist_km           13765201.0      11.067943  ...      14.000000  2.100000e+01\n",
              "Ref                     6349375.0      22.926658  ...      29.500000  7.100000e+01\n",
              "Ref_5x5_10th            5283988.0      19.952271  ...      26.000000  6.250000e+01\n",
              "Ref_5x5_50th            6356482.0      22.610287  ...      29.000000  6.900000e+01\n",
              "Ref_5x5_90th            7551281.0      25.898461  ...      33.500000  7.250000e+01\n",
              "RefComposite            6716343.0      24.711081  ...      31.500000  9.250000e+01\n",
              "RefComposite_5x5_10th   5755673.0      22.158238  ...      28.500000  6.600000e+01\n",
              "RefComposite_5x5_50th   6711663.0      24.420753  ...      31.500000  7.100000e+01\n",
              "RefComposite_5x5_90th   7829203.0      27.368961  ...      35.000000  9.350000e+01\n",
              "RhoHV                   4934916.0       0.972890  ...       1.001667  1.051667e+00\n",
              "RhoHV_5x5_10th          4133154.0       0.918859  ...       0.981667  1.051667e+00\n",
              "RhoHV_5x5_50th          4936568.0       0.974400  ...       0.998333  1.051667e+00\n",
              "RhoHV_5x5_90th          5905584.0       1.015272  ...       1.051667  1.051667e+00\n",
              "Zdr                     4934916.0       0.536709  ...       1.062500  7.937500e+00\n",
              "Zdr_5x5_10th            4133154.0      -0.719008  ...      -0.187500  7.937500e+00\n",
              "Zdr_5x5_50th            4936568.0       0.337622  ...       0.687500  7.937500e+00\n",
              "Zdr_5x5_90th            5905584.0       2.072870  ...       2.625000  7.937500e+00\n",
              "Kdp                     4182635.0       0.035452  ...       1.750000  1.797500e+02\n",
              "Kdp_5x5_10th            3428782.0      -3.482325  ...      -1.760010  3.519989e+00\n",
              "Kdp_5x5_50th            4187281.0      -0.473655  ...       0.349991  1.280000e+01\n",
              "Kdp_5x5_90th            5052776.0       4.079836  ...       5.639999  1.446000e+02\n",
              "Expected               13765201.0     108.626306  ...       3.810002  3.301773e+04\n",
              "\n",
              "[24 rows x 8 columns]"
            ]
          },
          "metadata": {
            "tags": []
          },
          "execution_count": 7
        }
      ]
    },
    {
      "cell_type": "code",
      "metadata": {
        "colab": {
          "base_uri": "https://localhost:8080/"
        },
        "id": "1yCxpN5p2QfP",
        "outputId": "8dccbea7-5ffe-4228-a74c-8ac031342a9f"
      },
      "source": [
        "df_train.dtypes"
      ],
      "execution_count": 8,
      "outputs": [
        {
          "output_type": "execute_result",
          "data": {
            "text/plain": [
              "Id                         int64\n",
              "minutes_past               int64\n",
              "radardist_km             float64\n",
              "Ref                      float64\n",
              "Ref_5x5_10th             float64\n",
              "Ref_5x5_50th             float64\n",
              "Ref_5x5_90th             float64\n",
              "RefComposite             float64\n",
              "RefComposite_5x5_10th    float64\n",
              "RefComposite_5x5_50th    float64\n",
              "RefComposite_5x5_90th    float64\n",
              "RhoHV                    float64\n",
              "RhoHV_5x5_10th           float64\n",
              "RhoHV_5x5_50th           float64\n",
              "RhoHV_5x5_90th           float64\n",
              "Zdr                      float64\n",
              "Zdr_5x5_10th             float64\n",
              "Zdr_5x5_50th             float64\n",
              "Zdr_5x5_90th             float64\n",
              "Kdp                      float64\n",
              "Kdp_5x5_10th             float64\n",
              "Kdp_5x5_50th             float64\n",
              "Kdp_5x5_90th             float64\n",
              "Expected                 float64\n",
              "dtype: object"
            ]
          },
          "metadata": {
            "tags": []
          },
          "execution_count": 8
        }
      ]
    },
    {
      "cell_type": "code",
      "metadata": {
        "colab": {
          "base_uri": "https://localhost:8080/"
        },
        "id": "S7ScmUAv2emQ",
        "outputId": "944a4566-4647-4c76-d244-87c0ada47355"
      },
      "source": [
        "df_train.isnull().sum()"
      ],
      "execution_count": 9,
      "outputs": [
        {
          "output_type": "execute_result",
          "data": {
            "text/plain": [
              "Id                              0\n",
              "minutes_past                    0\n",
              "radardist_km                    0\n",
              "Ref                       7415826\n",
              "Ref_5x5_10th              8481213\n",
              "Ref_5x5_50th              7408719\n",
              "Ref_5x5_90th              6213920\n",
              "RefComposite              7048858\n",
              "RefComposite_5x5_10th     8009528\n",
              "RefComposite_5x5_50th     7053538\n",
              "RefComposite_5x5_90th     5935998\n",
              "RhoHV                     8830285\n",
              "RhoHV_5x5_10th            9632047\n",
              "RhoHV_5x5_50th            8828633\n",
              "RhoHV_5x5_90th            7859617\n",
              "Zdr                       8830285\n",
              "Zdr_5x5_10th              9632047\n",
              "Zdr_5x5_50th              8828633\n",
              "Zdr_5x5_90th              7859617\n",
              "Kdp                       9582566\n",
              "Kdp_5x5_10th             10336419\n",
              "Kdp_5x5_50th              9577920\n",
              "Kdp_5x5_90th              8712425\n",
              "Expected                        0\n",
              "dtype: int64"
            ]
          },
          "metadata": {
            "tags": []
          },
          "execution_count": 9
        }
      ]
    },
    {
      "cell_type": "code",
      "metadata": {
        "id": "10jdv3OS2syT"
      },
      "source": [
        "corr_matrix = df_train.corr()            \n",
        "upper = corr_matrix.abs().where(np.triu(np.ones(corr_matrix.shape), k = 1).astype(np.bool))\n",
        "high_correlation_features = [column for column in upper.columns if any(upper[column] > 0.8)]\n"
      ],
      "execution_count": 10,
      "outputs": []
    },
    {
      "cell_type": "code",
      "metadata": {
        "id": "jfXW-xMj3u0i"
      },
      "source": [
        "high_correlation_features = [column for column in upper.columns if any(upper[column] > 0.7)]"
      ],
      "execution_count": 11,
      "outputs": []
    },
    {
      "cell_type": "code",
      "metadata": {
        "colab": {
          "base_uri": "https://localhost:8080/"
        },
        "id": "jmAjRXOR34XN",
        "outputId": "24842bd8-fc54-40ef-a131-87d658d13e04"
      },
      "source": [
        "high_correlation_features"
      ],
      "execution_count": 12,
      "outputs": [
        {
          "output_type": "execute_result",
          "data": {
            "text/plain": [
              "['Ref_5x5_10th',\n",
              " 'Ref_5x5_50th',\n",
              " 'Ref_5x5_90th',\n",
              " 'RefComposite',\n",
              " 'RefComposite_5x5_10th',\n",
              " 'RefComposite_5x5_50th',\n",
              " 'RefComposite_5x5_90th',\n",
              " 'RhoHV_5x5_50th']"
            ]
          },
          "metadata": {
            "tags": []
          },
          "execution_count": 12
        }
      ]
    },
    {
      "cell_type": "code",
      "metadata": {
        "id": "aM_zkyW_4HW1"
      },
      "source": [
        "df_train.drop(columns= high_correlation_features, inplace=True)\n",
        "df_test.drop(columns= high_correlation_features, inplace=True)"
      ],
      "execution_count": 13,
      "outputs": []
    },
    {
      "cell_type": "code",
      "metadata": {
        "colab": {
          "base_uri": "https://localhost:8080/"
        },
        "id": "9ZXw9SJ-4T9I",
        "outputId": "fbeef927-9cb7-41b4-d7cc-e52fa124d8ba"
      },
      "source": [
        "df_train.isnull().sum()"
      ],
      "execution_count": 14,
      "outputs": [
        {
          "output_type": "execute_result",
          "data": {
            "text/plain": [
              "Id                       0\n",
              "minutes_past             0\n",
              "radardist_km             0\n",
              "Ref                7415826\n",
              "RhoHV              8830285\n",
              "RhoHV_5x5_10th     9632047\n",
              "RhoHV_5x5_90th     7859617\n",
              "Zdr                8830285\n",
              "Zdr_5x5_10th       9632047\n",
              "Zdr_5x5_50th       8828633\n",
              "Zdr_5x5_90th       7859617\n",
              "Kdp                9582566\n",
              "Kdp_5x5_10th      10336419\n",
              "Kdp_5x5_50th       9577920\n",
              "Kdp_5x5_90th       8712425\n",
              "Expected                 0\n",
              "dtype: int64"
            ]
          },
          "metadata": {
            "tags": []
          },
          "execution_count": 14
        }
      ]
    },
    {
      "cell_type": "code",
      "metadata": {
        "colab": {
          "base_uri": "https://localhost:8080/",
          "height": 472
        },
        "id": "e_CAQPi74ah4",
        "outputId": "9c9a0f03-dc1a-4f97-a516-4b87d6687e37"
      },
      "source": [
        "df_train.query('Id == 4')"
      ],
      "execution_count": 15,
      "outputs": [
        {
          "output_type": "execute_result",
          "data": {
            "text/html": [
              "<div>\n",
              "<style scoped>\n",
              "    .dataframe tbody tr th:only-of-type {\n",
              "        vertical-align: middle;\n",
              "    }\n",
              "\n",
              "    .dataframe tbody tr th {\n",
              "        vertical-align: top;\n",
              "    }\n",
              "\n",
              "    .dataframe thead th {\n",
              "        text-align: right;\n",
              "    }\n",
              "</style>\n",
              "<table border=\"1\" class=\"dataframe\">\n",
              "  <thead>\n",
              "    <tr style=\"text-align: right;\">\n",
              "      <th></th>\n",
              "      <th>Id</th>\n",
              "      <th>minutes_past</th>\n",
              "      <th>radardist_km</th>\n",
              "      <th>Ref</th>\n",
              "      <th>RhoHV</th>\n",
              "      <th>RhoHV_5x5_10th</th>\n",
              "      <th>RhoHV_5x5_90th</th>\n",
              "      <th>Zdr</th>\n",
              "      <th>Zdr_5x5_10th</th>\n",
              "      <th>Zdr_5x5_50th</th>\n",
              "      <th>Zdr_5x5_90th</th>\n",
              "      <th>Kdp</th>\n",
              "      <th>Kdp_5x5_10th</th>\n",
              "      <th>Kdp_5x5_50th</th>\n",
              "      <th>Kdp_5x5_90th</th>\n",
              "      <th>Expected</th>\n",
              "    </tr>\n",
              "  </thead>\n",
              "  <tbody>\n",
              "    <tr>\n",
              "      <th>30</th>\n",
              "      <td>4</td>\n",
              "      <td>0</td>\n",
              "      <td>9.0</td>\n",
              "      <td>18.5</td>\n",
              "      <td>NaN</td>\n",
              "      <td>NaN</td>\n",
              "      <td>0.998333</td>\n",
              "      <td>NaN</td>\n",
              "      <td>NaN</td>\n",
              "      <td>NaN</td>\n",
              "      <td>1.4375</td>\n",
              "      <td>NaN</td>\n",
              "      <td>NaN</td>\n",
              "      <td>NaN</td>\n",
              "      <td>NaN</td>\n",
              "      <td>4.064002</td>\n",
              "    </tr>\n",
              "    <tr>\n",
              "      <th>31</th>\n",
              "      <td>4</td>\n",
              "      <td>5</td>\n",
              "      <td>9.0</td>\n",
              "      <td>22.0</td>\n",
              "      <td>NaN</td>\n",
              "      <td>NaN</td>\n",
              "      <td>NaN</td>\n",
              "      <td>NaN</td>\n",
              "      <td>NaN</td>\n",
              "      <td>NaN</td>\n",
              "      <td>NaN</td>\n",
              "      <td>NaN</td>\n",
              "      <td>NaN</td>\n",
              "      <td>NaN</td>\n",
              "      <td>NaN</td>\n",
              "      <td>4.064002</td>\n",
              "    </tr>\n",
              "    <tr>\n",
              "      <th>32</th>\n",
              "      <td>4</td>\n",
              "      <td>9</td>\n",
              "      <td>9.0</td>\n",
              "      <td>35.5</td>\n",
              "      <td>NaN</td>\n",
              "      <td>NaN</td>\n",
              "      <td>NaN</td>\n",
              "      <td>NaN</td>\n",
              "      <td>NaN</td>\n",
              "      <td>NaN</td>\n",
              "      <td>NaN</td>\n",
              "      <td>NaN</td>\n",
              "      <td>NaN</td>\n",
              "      <td>NaN</td>\n",
              "      <td>NaN</td>\n",
              "      <td>4.064002</td>\n",
              "    </tr>\n",
              "    <tr>\n",
              "      <th>33</th>\n",
              "      <td>4</td>\n",
              "      <td>14</td>\n",
              "      <td>9.0</td>\n",
              "      <td>16.5</td>\n",
              "      <td>NaN</td>\n",
              "      <td>NaN</td>\n",
              "      <td>NaN</td>\n",
              "      <td>NaN</td>\n",
              "      <td>NaN</td>\n",
              "      <td>NaN</td>\n",
              "      <td>NaN</td>\n",
              "      <td>NaN</td>\n",
              "      <td>NaN</td>\n",
              "      <td>NaN</td>\n",
              "      <td>NaN</td>\n",
              "      <td>4.064002</td>\n",
              "    </tr>\n",
              "    <tr>\n",
              "      <th>34</th>\n",
              "      <td>4</td>\n",
              "      <td>19</td>\n",
              "      <td>9.0</td>\n",
              "      <td>16.0</td>\n",
              "      <td>NaN</td>\n",
              "      <td>NaN</td>\n",
              "      <td>NaN</td>\n",
              "      <td>NaN</td>\n",
              "      <td>NaN</td>\n",
              "      <td>NaN</td>\n",
              "      <td>NaN</td>\n",
              "      <td>NaN</td>\n",
              "      <td>NaN</td>\n",
              "      <td>NaN</td>\n",
              "      <td>NaN</td>\n",
              "      <td>4.064002</td>\n",
              "    </tr>\n",
              "    <tr>\n",
              "      <th>35</th>\n",
              "      <td>4</td>\n",
              "      <td>23</td>\n",
              "      <td>9.0</td>\n",
              "      <td>NaN</td>\n",
              "      <td>NaN</td>\n",
              "      <td>NaN</td>\n",
              "      <td>NaN</td>\n",
              "      <td>NaN</td>\n",
              "      <td>NaN</td>\n",
              "      <td>NaN</td>\n",
              "      <td>NaN</td>\n",
              "      <td>NaN</td>\n",
              "      <td>NaN</td>\n",
              "      <td>NaN</td>\n",
              "      <td>NaN</td>\n",
              "      <td>4.064002</td>\n",
              "    </tr>\n",
              "    <tr>\n",
              "      <th>36</th>\n",
              "      <td>4</td>\n",
              "      <td>28</td>\n",
              "      <td>9.0</td>\n",
              "      <td>32.5</td>\n",
              "      <td>NaN</td>\n",
              "      <td>NaN</td>\n",
              "      <td>NaN</td>\n",
              "      <td>NaN</td>\n",
              "      <td>NaN</td>\n",
              "      <td>NaN</td>\n",
              "      <td>NaN</td>\n",
              "      <td>NaN</td>\n",
              "      <td>NaN</td>\n",
              "      <td>NaN</td>\n",
              "      <td>NaN</td>\n",
              "      <td>4.064002</td>\n",
              "    </tr>\n",
              "    <tr>\n",
              "      <th>37</th>\n",
              "      <td>4</td>\n",
              "      <td>33</td>\n",
              "      <td>9.0</td>\n",
              "      <td>41.5</td>\n",
              "      <td>NaN</td>\n",
              "      <td>NaN</td>\n",
              "      <td>NaN</td>\n",
              "      <td>NaN</td>\n",
              "      <td>NaN</td>\n",
              "      <td>NaN</td>\n",
              "      <td>NaN</td>\n",
              "      <td>NaN</td>\n",
              "      <td>NaN</td>\n",
              "      <td>NaN</td>\n",
              "      <td>NaN</td>\n",
              "      <td>4.064002</td>\n",
              "    </tr>\n",
              "    <tr>\n",
              "      <th>38</th>\n",
              "      <td>4</td>\n",
              "      <td>38</td>\n",
              "      <td>9.0</td>\n",
              "      <td>34.0</td>\n",
              "      <td>NaN</td>\n",
              "      <td>NaN</td>\n",
              "      <td>NaN</td>\n",
              "      <td>NaN</td>\n",
              "      <td>NaN</td>\n",
              "      <td>NaN</td>\n",
              "      <td>NaN</td>\n",
              "      <td>NaN</td>\n",
              "      <td>NaN</td>\n",
              "      <td>NaN</td>\n",
              "      <td>NaN</td>\n",
              "      <td>4.064002</td>\n",
              "    </tr>\n",
              "    <tr>\n",
              "      <th>39</th>\n",
              "      <td>4</td>\n",
              "      <td>42</td>\n",
              "      <td>9.0</td>\n",
              "      <td>29.5</td>\n",
              "      <td>NaN</td>\n",
              "      <td>NaN</td>\n",
              "      <td>NaN</td>\n",
              "      <td>NaN</td>\n",
              "      <td>NaN</td>\n",
              "      <td>NaN</td>\n",
              "      <td>NaN</td>\n",
              "      <td>NaN</td>\n",
              "      <td>NaN</td>\n",
              "      <td>NaN</td>\n",
              "      <td>NaN</td>\n",
              "      <td>4.064002</td>\n",
              "    </tr>\n",
              "    <tr>\n",
              "      <th>40</th>\n",
              "      <td>4</td>\n",
              "      <td>47</td>\n",
              "      <td>9.0</td>\n",
              "      <td>NaN</td>\n",
              "      <td>NaN</td>\n",
              "      <td>NaN</td>\n",
              "      <td>1.008333</td>\n",
              "      <td>NaN</td>\n",
              "      <td>NaN</td>\n",
              "      <td>NaN</td>\n",
              "      <td>0.5625</td>\n",
              "      <td>NaN</td>\n",
              "      <td>NaN</td>\n",
              "      <td>NaN</td>\n",
              "      <td>5.629990</td>\n",
              "      <td>4.064002</td>\n",
              "    </tr>\n",
              "    <tr>\n",
              "      <th>41</th>\n",
              "      <td>4</td>\n",
              "      <td>52</td>\n",
              "      <td>9.0</td>\n",
              "      <td>NaN</td>\n",
              "      <td>NaN</td>\n",
              "      <td>NaN</td>\n",
              "      <td>1.005000</td>\n",
              "      <td>NaN</td>\n",
              "      <td>NaN</td>\n",
              "      <td>NaN</td>\n",
              "      <td>0.5625</td>\n",
              "      <td>NaN</td>\n",
              "      <td>NaN</td>\n",
              "      <td>NaN</td>\n",
              "      <td>NaN</td>\n",
              "      <td>4.064002</td>\n",
              "    </tr>\n",
              "    <tr>\n",
              "      <th>42</th>\n",
              "      <td>4</td>\n",
              "      <td>56</td>\n",
              "      <td>9.0</td>\n",
              "      <td>20.0</td>\n",
              "      <td>0.988333</td>\n",
              "      <td>NaN</td>\n",
              "      <td>1.051667</td>\n",
              "      <td>-1.125</td>\n",
              "      <td>NaN</td>\n",
              "      <td>0.5</td>\n",
              "      <td>3.5000</td>\n",
              "      <td>7.029999</td>\n",
              "      <td>NaN</td>\n",
              "      <td>0.0</td>\n",
              "      <td>7.029999</td>\n",
              "      <td>4.064002</td>\n",
              "    </tr>\n",
              "  </tbody>\n",
              "</table>\n",
              "</div>"
            ],
            "text/plain": [
              "    Id  minutes_past  radardist_km  ...  Kdp_5x5_50th  Kdp_5x5_90th  Expected\n",
              "30   4             0           9.0  ...           NaN           NaN  4.064002\n",
              "31   4             5           9.0  ...           NaN           NaN  4.064002\n",
              "32   4             9           9.0  ...           NaN           NaN  4.064002\n",
              "33   4            14           9.0  ...           NaN           NaN  4.064002\n",
              "34   4            19           9.0  ...           NaN           NaN  4.064002\n",
              "35   4            23           9.0  ...           NaN           NaN  4.064002\n",
              "36   4            28           9.0  ...           NaN           NaN  4.064002\n",
              "37   4            33           9.0  ...           NaN           NaN  4.064002\n",
              "38   4            38           9.0  ...           NaN           NaN  4.064002\n",
              "39   4            42           9.0  ...           NaN           NaN  4.064002\n",
              "40   4            47           9.0  ...           NaN      5.629990  4.064002\n",
              "41   4            52           9.0  ...           NaN           NaN  4.064002\n",
              "42   4            56           9.0  ...           0.0      7.029999  4.064002\n",
              "\n",
              "[13 rows x 16 columns]"
            ]
          },
          "metadata": {
            "tags": []
          },
          "execution_count": 15
        }
      ]
    },
    {
      "cell_type": "code",
      "metadata": {
        "id": "Ihc80G7e5O2M"
      },
      "source": [
        "X_train = df_train.groupby(['Id']).mean()\n",
        "X_test = df_test.groupby(['Id']).mean()"
      ],
      "execution_count": 16,
      "outputs": []
    },
    {
      "cell_type": "code",
      "metadata": {
        "id": "RwHZiOfL6L_K"
      },
      "source": [
        "X_train.drop(columns= ['minutes_past'], inplace=True)\n",
        "X_test.drop(columns= ['minutes_past'], inplace=True)"
      ],
      "execution_count": 17,
      "outputs": []
    },
    {
      "cell_type": "code",
      "metadata": {
        "colab": {
          "base_uri": "https://localhost:8080/",
          "height": 255
        },
        "id": "gz-gG6uQ6vV7",
        "outputId": "c8317a77-3440-43e3-aae0-99cc87e88501"
      },
      "source": [
        "X_train.head()"
      ],
      "execution_count": 18,
      "outputs": [
        {
          "output_type": "execute_result",
          "data": {
            "text/html": [
              "<div>\n",
              "<style scoped>\n",
              "    .dataframe tbody tr th:only-of-type {\n",
              "        vertical-align: middle;\n",
              "    }\n",
              "\n",
              "    .dataframe tbody tr th {\n",
              "        vertical-align: top;\n",
              "    }\n",
              "\n",
              "    .dataframe thead th {\n",
              "        text-align: right;\n",
              "    }\n",
              "</style>\n",
              "<table border=\"1\" class=\"dataframe\">\n",
              "  <thead>\n",
              "    <tr style=\"text-align: right;\">\n",
              "      <th></th>\n",
              "      <th>radardist_km</th>\n",
              "      <th>Ref</th>\n",
              "      <th>RhoHV</th>\n",
              "      <th>RhoHV_5x5_10th</th>\n",
              "      <th>RhoHV_5x5_90th</th>\n",
              "      <th>Zdr</th>\n",
              "      <th>Zdr_5x5_10th</th>\n",
              "      <th>Zdr_5x5_50th</th>\n",
              "      <th>Zdr_5x5_90th</th>\n",
              "      <th>Kdp</th>\n",
              "      <th>Kdp_5x5_10th</th>\n",
              "      <th>Kdp_5x5_50th</th>\n",
              "      <th>Kdp_5x5_90th</th>\n",
              "      <th>Expected</th>\n",
              "    </tr>\n",
              "    <tr>\n",
              "      <th>Id</th>\n",
              "      <th></th>\n",
              "      <th></th>\n",
              "      <th></th>\n",
              "      <th></th>\n",
              "      <th></th>\n",
              "      <th></th>\n",
              "      <th></th>\n",
              "      <th></th>\n",
              "      <th></th>\n",
              "      <th></th>\n",
              "      <th></th>\n",
              "      <th></th>\n",
              "      <th></th>\n",
              "      <th></th>\n",
              "    </tr>\n",
              "  </thead>\n",
              "  <tbody>\n",
              "    <tr>\n",
              "      <th>1</th>\n",
              "      <td>10.0</td>\n",
              "      <td>NaN</td>\n",
              "      <td>NaN</td>\n",
              "      <td>NaN</td>\n",
              "      <td>NaN</td>\n",
              "      <td>NaN</td>\n",
              "      <td>NaN</td>\n",
              "      <td>NaN</td>\n",
              "      <td>NaN</td>\n",
              "      <td>NaN</td>\n",
              "      <td>NaN</td>\n",
              "      <td>NaN</td>\n",
              "      <td>NaN</td>\n",
              "      <td>0.254000</td>\n",
              "    </tr>\n",
              "    <tr>\n",
              "      <th>2</th>\n",
              "      <td>2.0</td>\n",
              "      <td>16.625</td>\n",
              "      <td>0.998611</td>\n",
              "      <td>0.993611</td>\n",
              "      <td>1.000000</td>\n",
              "      <td>0.380208</td>\n",
              "      <td>0.119792</td>\n",
              "      <td>0.416667</td>\n",
              "      <td>0.781250</td>\n",
              "      <td>-0.288187</td>\n",
              "      <td>-1.448893</td>\n",
              "      <td>-0.319096</td>\n",
              "      <td>1.116661</td>\n",
              "      <td>1.016001</td>\n",
              "    </tr>\n",
              "    <tr>\n",
              "      <th>3</th>\n",
              "      <td>10.0</td>\n",
              "      <td>NaN</td>\n",
              "      <td>NaN</td>\n",
              "      <td>NaN</td>\n",
              "      <td>0.801667</td>\n",
              "      <td>NaN</td>\n",
              "      <td>NaN</td>\n",
              "      <td>NaN</td>\n",
              "      <td>2.062500</td>\n",
              "      <td>NaN</td>\n",
              "      <td>NaN</td>\n",
              "      <td>NaN</td>\n",
              "      <td>NaN</td>\n",
              "      <td>26.162014</td>\n",
              "    </tr>\n",
              "    <tr>\n",
              "      <th>4</th>\n",
              "      <td>9.0</td>\n",
              "      <td>26.600</td>\n",
              "      <td>0.988333</td>\n",
              "      <td>NaN</td>\n",
              "      <td>1.015833</td>\n",
              "      <td>-1.125000</td>\n",
              "      <td>NaN</td>\n",
              "      <td>0.500000</td>\n",
              "      <td>1.515625</td>\n",
              "      <td>7.029999</td>\n",
              "      <td>NaN</td>\n",
              "      <td>0.000000</td>\n",
              "      <td>6.329994</td>\n",
              "      <td>4.064002</td>\n",
              "    </tr>\n",
              "    <tr>\n",
              "      <th>5</th>\n",
              "      <td>13.0</td>\n",
              "      <td>NaN</td>\n",
              "      <td>NaN</td>\n",
              "      <td>NaN</td>\n",
              "      <td>NaN</td>\n",
              "      <td>NaN</td>\n",
              "      <td>NaN</td>\n",
              "      <td>NaN</td>\n",
              "      <td>NaN</td>\n",
              "      <td>NaN</td>\n",
              "      <td>NaN</td>\n",
              "      <td>NaN</td>\n",
              "      <td>NaN</td>\n",
              "      <td>774.700440</td>\n",
              "    </tr>\n",
              "  </tbody>\n",
              "</table>\n",
              "</div>"
            ],
            "text/plain": [
              "    radardist_km     Ref     RhoHV  ...  Kdp_5x5_50th  Kdp_5x5_90th    Expected\n",
              "Id                                  ...                                        \n",
              "1           10.0     NaN       NaN  ...           NaN           NaN    0.254000\n",
              "2            2.0  16.625  0.998611  ...     -0.319096      1.116661    1.016001\n",
              "3           10.0     NaN       NaN  ...           NaN           NaN   26.162014\n",
              "4            9.0  26.600  0.988333  ...      0.000000      6.329994    4.064002\n",
              "5           13.0     NaN       NaN  ...           NaN           NaN  774.700440\n",
              "\n",
              "[5 rows x 14 columns]"
            ]
          },
          "metadata": {
            "tags": []
          },
          "execution_count": 18
        }
      ]
    },
    {
      "cell_type": "code",
      "metadata": {
        "id": "HxCC58b87afa"
      },
      "source": [
        "y_train = X_train.pop('Expected')"
      ],
      "execution_count": 19,
      "outputs": []
    },
    {
      "cell_type": "code",
      "metadata": {
        "id": "L1EmI9Au6zfE"
      },
      "source": [
        "from sklearn.impute import SimpleImputer\n",
        "\n",
        "imputer = SimpleImputer(missing_values=np.nan, strategy='mean')\n",
        "\n",
        "sImputer_array_train = imputer.fit_transform(X_train)\n",
        "sImputer_array_test = imputer.transform(X_test)"
      ],
      "execution_count": 20,
      "outputs": []
    },
    {
      "cell_type": "code",
      "metadata": {
        "id": "7zhWURKx7UfW"
      },
      "source": [
        "features = X_test.columns"
      ],
      "execution_count": 21,
      "outputs": []
    },
    {
      "cell_type": "code",
      "metadata": {
        "id": "YF0nsJ3v7ufh"
      },
      "source": [
        "X_train_imputed = pd.DataFrame(sImputer_array_train, columns = features)\n",
        "X_test_imputed = pd.DataFrame(sImputer_array_test, columns = features)"
      ],
      "execution_count": 22,
      "outputs": []
    },
    {
      "cell_type": "code",
      "metadata": {
        "colab": {
          "base_uri": "https://localhost:8080/",
          "height": 224
        },
        "id": "-y8D_EhZ7-Ba",
        "outputId": "5b1374bf-c79e-475c-bbad-b7b6f72d8cdd"
      },
      "source": [
        "X_train_imputed.head()"
      ],
      "execution_count": 23,
      "outputs": [
        {
          "output_type": "execute_result",
          "data": {
            "text/html": [
              "<div>\n",
              "<style scoped>\n",
              "    .dataframe tbody tr th:only-of-type {\n",
              "        vertical-align: middle;\n",
              "    }\n",
              "\n",
              "    .dataframe tbody tr th {\n",
              "        vertical-align: top;\n",
              "    }\n",
              "\n",
              "    .dataframe thead th {\n",
              "        text-align: right;\n",
              "    }\n",
              "</style>\n",
              "<table border=\"1\" class=\"dataframe\">\n",
              "  <thead>\n",
              "    <tr style=\"text-align: right;\">\n",
              "      <th></th>\n",
              "      <th>radardist_km</th>\n",
              "      <th>Ref</th>\n",
              "      <th>RhoHV</th>\n",
              "      <th>RhoHV_5x5_10th</th>\n",
              "      <th>RhoHV_5x5_90th</th>\n",
              "      <th>Zdr</th>\n",
              "      <th>Zdr_5x5_10th</th>\n",
              "      <th>Zdr_5x5_50th</th>\n",
              "      <th>Zdr_5x5_90th</th>\n",
              "      <th>Kdp</th>\n",
              "      <th>Kdp_5x5_10th</th>\n",
              "      <th>Kdp_5x5_50th</th>\n",
              "      <th>Kdp_5x5_90th</th>\n",
              "    </tr>\n",
              "  </thead>\n",
              "  <tbody>\n",
              "    <tr>\n",
              "      <th>0</th>\n",
              "      <td>10.0</td>\n",
              "      <td>21.336602</td>\n",
              "      <td>0.977571</td>\n",
              "      <td>0.919720</td>\n",
              "      <td>1.014938</td>\n",
              "      <td>0.595266</td>\n",
              "      <td>-0.791519</td>\n",
              "      <td>0.222968</td>\n",
              "      <td>1.983754</td>\n",
              "      <td>0.048311</td>\n",
              "      <td>-3.641417</td>\n",
              "      <td>-0.848601</td>\n",
              "      <td>3.733510</td>\n",
              "    </tr>\n",
              "    <tr>\n",
              "      <th>1</th>\n",
              "      <td>2.0</td>\n",
              "      <td>16.625000</td>\n",
              "      <td>0.998611</td>\n",
              "      <td>0.993611</td>\n",
              "      <td>1.000000</td>\n",
              "      <td>0.380208</td>\n",
              "      <td>0.119792</td>\n",
              "      <td>0.416667</td>\n",
              "      <td>0.781250</td>\n",
              "      <td>-0.288187</td>\n",
              "      <td>-1.448893</td>\n",
              "      <td>-0.319096</td>\n",
              "      <td>1.116661</td>\n",
              "    </tr>\n",
              "    <tr>\n",
              "      <th>2</th>\n",
              "      <td>10.0</td>\n",
              "      <td>21.336602</td>\n",
              "      <td>0.977571</td>\n",
              "      <td>0.919720</td>\n",
              "      <td>0.801667</td>\n",
              "      <td>0.595266</td>\n",
              "      <td>-0.791519</td>\n",
              "      <td>0.222968</td>\n",
              "      <td>2.062500</td>\n",
              "      <td>0.048311</td>\n",
              "      <td>-3.641417</td>\n",
              "      <td>-0.848601</td>\n",
              "      <td>3.733510</td>\n",
              "    </tr>\n",
              "    <tr>\n",
              "      <th>3</th>\n",
              "      <td>9.0</td>\n",
              "      <td>26.600000</td>\n",
              "      <td>0.988333</td>\n",
              "      <td>0.919720</td>\n",
              "      <td>1.015833</td>\n",
              "      <td>-1.125000</td>\n",
              "      <td>-0.791519</td>\n",
              "      <td>0.500000</td>\n",
              "      <td>1.515625</td>\n",
              "      <td>7.029999</td>\n",
              "      <td>-3.641417</td>\n",
              "      <td>0.000000</td>\n",
              "      <td>6.329994</td>\n",
              "    </tr>\n",
              "    <tr>\n",
              "      <th>4</th>\n",
              "      <td>13.0</td>\n",
              "      <td>21.336602</td>\n",
              "      <td>0.977571</td>\n",
              "      <td>0.919720</td>\n",
              "      <td>1.014938</td>\n",
              "      <td>0.595266</td>\n",
              "      <td>-0.791519</td>\n",
              "      <td>0.222968</td>\n",
              "      <td>1.983754</td>\n",
              "      <td>0.048311</td>\n",
              "      <td>-3.641417</td>\n",
              "      <td>-0.848601</td>\n",
              "      <td>3.733510</td>\n",
              "    </tr>\n",
              "  </tbody>\n",
              "</table>\n",
              "</div>"
            ],
            "text/plain": [
              "   radardist_km        Ref     RhoHV  ...  Kdp_5x5_10th  Kdp_5x5_50th  Kdp_5x5_90th\n",
              "0          10.0  21.336602  0.977571  ...     -3.641417     -0.848601      3.733510\n",
              "1           2.0  16.625000  0.998611  ...     -1.448893     -0.319096      1.116661\n",
              "2          10.0  21.336602  0.977571  ...     -3.641417     -0.848601      3.733510\n",
              "3           9.0  26.600000  0.988333  ...     -3.641417      0.000000      6.329994\n",
              "4          13.0  21.336602  0.977571  ...     -3.641417     -0.848601      3.733510\n",
              "\n",
              "[5 rows x 13 columns]"
            ]
          },
          "metadata": {
            "tags": []
          },
          "execution_count": 23
        }
      ]
    },
    {
      "cell_type": "code",
      "metadata": {
        "id": "wRQPNb1s8Ck_"
      },
      "source": [
        "y_id = df_test['Id']"
      ],
      "execution_count": 24,
      "outputs": []
    },
    {
      "cell_type": "code",
      "metadata": {
        "colab": {
          "base_uri": "https://localhost:8080/",
          "height": 470
        },
        "id": "izUccb7o8aQT",
        "outputId": "c833c432-2950-4121-939c-5770303c42cf"
      },
      "source": [
        "X_train"
      ],
      "execution_count": 25,
      "outputs": [
        {
          "output_type": "execute_result",
          "data": {
            "text/html": [
              "<div>\n",
              "<style scoped>\n",
              "    .dataframe tbody tr th:only-of-type {\n",
              "        vertical-align: middle;\n",
              "    }\n",
              "\n",
              "    .dataframe tbody tr th {\n",
              "        vertical-align: top;\n",
              "    }\n",
              "\n",
              "    .dataframe thead th {\n",
              "        text-align: right;\n",
              "    }\n",
              "</style>\n",
              "<table border=\"1\" class=\"dataframe\">\n",
              "  <thead>\n",
              "    <tr style=\"text-align: right;\">\n",
              "      <th></th>\n",
              "      <th>radardist_km</th>\n",
              "      <th>Ref</th>\n",
              "      <th>RhoHV</th>\n",
              "      <th>RhoHV_5x5_10th</th>\n",
              "      <th>RhoHV_5x5_90th</th>\n",
              "      <th>Zdr</th>\n",
              "      <th>Zdr_5x5_10th</th>\n",
              "      <th>Zdr_5x5_50th</th>\n",
              "      <th>Zdr_5x5_90th</th>\n",
              "      <th>Kdp</th>\n",
              "      <th>Kdp_5x5_10th</th>\n",
              "      <th>Kdp_5x5_50th</th>\n",
              "      <th>Kdp_5x5_90th</th>\n",
              "    </tr>\n",
              "    <tr>\n",
              "      <th>Id</th>\n",
              "      <th></th>\n",
              "      <th></th>\n",
              "      <th></th>\n",
              "      <th></th>\n",
              "      <th></th>\n",
              "      <th></th>\n",
              "      <th></th>\n",
              "      <th></th>\n",
              "      <th></th>\n",
              "      <th></th>\n",
              "      <th></th>\n",
              "      <th></th>\n",
              "      <th></th>\n",
              "    </tr>\n",
              "  </thead>\n",
              "  <tbody>\n",
              "    <tr>\n",
              "      <th>1</th>\n",
              "      <td>10.0</td>\n",
              "      <td>NaN</td>\n",
              "      <td>NaN</td>\n",
              "      <td>NaN</td>\n",
              "      <td>NaN</td>\n",
              "      <td>NaN</td>\n",
              "      <td>NaN</td>\n",
              "      <td>NaN</td>\n",
              "      <td>NaN</td>\n",
              "      <td>NaN</td>\n",
              "      <td>NaN</td>\n",
              "      <td>NaN</td>\n",
              "      <td>NaN</td>\n",
              "    </tr>\n",
              "    <tr>\n",
              "      <th>2</th>\n",
              "      <td>2.0</td>\n",
              "      <td>16.625000</td>\n",
              "      <td>0.998611</td>\n",
              "      <td>0.993611</td>\n",
              "      <td>1.000000</td>\n",
              "      <td>0.380208</td>\n",
              "      <td>0.119792</td>\n",
              "      <td>0.416667</td>\n",
              "      <td>0.781250</td>\n",
              "      <td>-0.288187</td>\n",
              "      <td>-1.448893</td>\n",
              "      <td>-0.319096</td>\n",
              "      <td>1.116661</td>\n",
              "    </tr>\n",
              "    <tr>\n",
              "      <th>3</th>\n",
              "      <td>10.0</td>\n",
              "      <td>NaN</td>\n",
              "      <td>NaN</td>\n",
              "      <td>NaN</td>\n",
              "      <td>0.801667</td>\n",
              "      <td>NaN</td>\n",
              "      <td>NaN</td>\n",
              "      <td>NaN</td>\n",
              "      <td>2.062500</td>\n",
              "      <td>NaN</td>\n",
              "      <td>NaN</td>\n",
              "      <td>NaN</td>\n",
              "      <td>NaN</td>\n",
              "    </tr>\n",
              "    <tr>\n",
              "      <th>4</th>\n",
              "      <td>9.0</td>\n",
              "      <td>26.600000</td>\n",
              "      <td>0.988333</td>\n",
              "      <td>NaN</td>\n",
              "      <td>1.015833</td>\n",
              "      <td>-1.125000</td>\n",
              "      <td>NaN</td>\n",
              "      <td>0.500000</td>\n",
              "      <td>1.515625</td>\n",
              "      <td>7.029999</td>\n",
              "      <td>NaN</td>\n",
              "      <td>0.000000</td>\n",
              "      <td>6.329994</td>\n",
              "    </tr>\n",
              "    <tr>\n",
              "      <th>5</th>\n",
              "      <td>13.0</td>\n",
              "      <td>NaN</td>\n",
              "      <td>NaN</td>\n",
              "      <td>NaN</td>\n",
              "      <td>NaN</td>\n",
              "      <td>NaN</td>\n",
              "      <td>NaN</td>\n",
              "      <td>NaN</td>\n",
              "      <td>NaN</td>\n",
              "      <td>NaN</td>\n",
              "      <td>NaN</td>\n",
              "      <td>NaN</td>\n",
              "      <td>NaN</td>\n",
              "    </tr>\n",
              "    <tr>\n",
              "      <th>...</th>\n",
              "      <td>...</td>\n",
              "      <td>...</td>\n",
              "      <td>...</td>\n",
              "      <td>...</td>\n",
              "      <td>...</td>\n",
              "      <td>...</td>\n",
              "      <td>...</td>\n",
              "      <td>...</td>\n",
              "      <td>...</td>\n",
              "      <td>...</td>\n",
              "      <td>...</td>\n",
              "      <td>...</td>\n",
              "      <td>...</td>\n",
              "    </tr>\n",
              "    <tr>\n",
              "      <th>1180941</th>\n",
              "      <td>15.0</td>\n",
              "      <td>NaN</td>\n",
              "      <td>NaN</td>\n",
              "      <td>NaN</td>\n",
              "      <td>NaN</td>\n",
              "      <td>NaN</td>\n",
              "      <td>NaN</td>\n",
              "      <td>NaN</td>\n",
              "      <td>NaN</td>\n",
              "      <td>NaN</td>\n",
              "      <td>NaN</td>\n",
              "      <td>NaN</td>\n",
              "      <td>NaN</td>\n",
              "    </tr>\n",
              "    <tr>\n",
              "      <th>1180942</th>\n",
              "      <td>9.0</td>\n",
              "      <td>15.666667</td>\n",
              "      <td>NaN</td>\n",
              "      <td>NaN</td>\n",
              "      <td>NaN</td>\n",
              "      <td>NaN</td>\n",
              "      <td>NaN</td>\n",
              "      <td>NaN</td>\n",
              "      <td>NaN</td>\n",
              "      <td>NaN</td>\n",
              "      <td>NaN</td>\n",
              "      <td>NaN</td>\n",
              "      <td>NaN</td>\n",
              "    </tr>\n",
              "    <tr>\n",
              "      <th>1180943</th>\n",
              "      <td>14.0</td>\n",
              "      <td>NaN</td>\n",
              "      <td>NaN</td>\n",
              "      <td>NaN</td>\n",
              "      <td>NaN</td>\n",
              "      <td>NaN</td>\n",
              "      <td>NaN</td>\n",
              "      <td>NaN</td>\n",
              "      <td>NaN</td>\n",
              "      <td>NaN</td>\n",
              "      <td>NaN</td>\n",
              "      <td>NaN</td>\n",
              "      <td>NaN</td>\n",
              "    </tr>\n",
              "    <tr>\n",
              "      <th>1180944</th>\n",
              "      <td>11.0</td>\n",
              "      <td>26.666667</td>\n",
              "      <td>NaN</td>\n",
              "      <td>NaN</td>\n",
              "      <td>NaN</td>\n",
              "      <td>NaN</td>\n",
              "      <td>NaN</td>\n",
              "      <td>NaN</td>\n",
              "      <td>NaN</td>\n",
              "      <td>NaN</td>\n",
              "      <td>NaN</td>\n",
              "      <td>NaN</td>\n",
              "      <td>NaN</td>\n",
              "    </tr>\n",
              "    <tr>\n",
              "      <th>1180945</th>\n",
              "      <td>9.0</td>\n",
              "      <td>28.166667</td>\n",
              "      <td>1.046667</td>\n",
              "      <td>0.845000</td>\n",
              "      <td>1.051667</td>\n",
              "      <td>0.875000</td>\n",
              "      <td>-1.125000</td>\n",
              "      <td>0.562500</td>\n",
              "      <td>3.020833</td>\n",
              "      <td>9.724991</td>\n",
              "      <td>NaN</td>\n",
              "      <td>-8.029999</td>\n",
              "      <td>9.724991</td>\n",
              "    </tr>\n",
              "  </tbody>\n",
              "</table>\n",
              "<p>1180945 rows × 13 columns</p>\n",
              "</div>"
            ],
            "text/plain": [
              "         radardist_km        Ref  ...  Kdp_5x5_50th  Kdp_5x5_90th\n",
              "Id                                ...                            \n",
              "1                10.0        NaN  ...           NaN           NaN\n",
              "2                 2.0  16.625000  ...     -0.319096      1.116661\n",
              "3                10.0        NaN  ...           NaN           NaN\n",
              "4                 9.0  26.600000  ...      0.000000      6.329994\n",
              "5                13.0        NaN  ...           NaN           NaN\n",
              "...               ...        ...  ...           ...           ...\n",
              "1180941          15.0        NaN  ...           NaN           NaN\n",
              "1180942           9.0  15.666667  ...           NaN           NaN\n",
              "1180943          14.0        NaN  ...           NaN           NaN\n",
              "1180944          11.0  26.666667  ...           NaN           NaN\n",
              "1180945           9.0  28.166667  ...     -8.029999      9.724991\n",
              "\n",
              "[1180945 rows x 13 columns]"
            ]
          },
          "metadata": {
            "tags": []
          },
          "execution_count": 25
        }
      ]
    },
    {
      "cell_type": "code",
      "metadata": {
        "id": "4edWmMb88f5F"
      },
      "source": [
        "y_id = X_test.reset_index()['Id']"
      ],
      "execution_count": 26,
      "outputs": []
    },
    {
      "cell_type": "code",
      "metadata": {
        "colab": {
          "base_uri": "https://localhost:8080/"
        },
        "id": "xvj_T0CABHAv",
        "outputId": "dd4e760c-fe88-42a5-d0df-ffbd3589f358"
      },
      "source": [
        "y_id "
      ],
      "execution_count": 27,
      "outputs": [
        {
          "output_type": "execute_result",
          "data": {
            "text/plain": [
              "0              1\n",
              "1              2\n",
              "2              3\n",
              "3              4\n",
              "4              5\n",
              "           ...  \n",
              "717620    717621\n",
              "717621    717622\n",
              "717622    717623\n",
              "717623    717624\n",
              "717624    717625\n",
              "Name: Id, Length: 717625, dtype: int64"
            ]
          },
          "metadata": {
            "tags": []
          },
          "execution_count": 27
        }
      ]
    },
    {
      "cell_type": "code",
      "metadata": {
        "id": "nqf739BABV8r"
      },
      "source": [
        "corr_matrix = X_train_imputed.corr()            \n",
        "upper = corr_matrix.abs().where(np.triu(np.ones(corr_matrix.shape), k = 1).astype(np.bool))\n",
        "high_correlation_features = [column for column in upper.columns if any(upper[column] > 0.8)]\n"
      ],
      "execution_count": 28,
      "outputs": []
    },
    {
      "cell_type": "code",
      "metadata": {
        "colab": {
          "base_uri": "https://localhost:8080/"
        },
        "id": "WHmyHuw6Btfn",
        "outputId": "d93bf844-f5e2-4c7f-adcb-f19018f7dee7"
      },
      "source": [
        "high_correlation_features"
      ],
      "execution_count": 29,
      "outputs": [
        {
          "output_type": "execute_result",
          "data": {
            "text/plain": [
              "[]"
            ]
          },
          "metadata": {
            "tags": []
          },
          "execution_count": 29
        }
      ]
    },
    {
      "cell_type": "code",
      "metadata": {
        "colab": {
          "base_uri": "https://localhost:8080/",
          "height": 224
        },
        "id": "uwD-gzTwBu36",
        "outputId": "eda22aac-6cf2-4bc1-d2cb-be1755dd3242"
      },
      "source": [
        "X_train_imputed.head()"
      ],
      "execution_count": 30,
      "outputs": [
        {
          "output_type": "execute_result",
          "data": {
            "text/html": [
              "<div>\n",
              "<style scoped>\n",
              "    .dataframe tbody tr th:only-of-type {\n",
              "        vertical-align: middle;\n",
              "    }\n",
              "\n",
              "    .dataframe tbody tr th {\n",
              "        vertical-align: top;\n",
              "    }\n",
              "\n",
              "    .dataframe thead th {\n",
              "        text-align: right;\n",
              "    }\n",
              "</style>\n",
              "<table border=\"1\" class=\"dataframe\">\n",
              "  <thead>\n",
              "    <tr style=\"text-align: right;\">\n",
              "      <th></th>\n",
              "      <th>radardist_km</th>\n",
              "      <th>Ref</th>\n",
              "      <th>RhoHV</th>\n",
              "      <th>RhoHV_5x5_10th</th>\n",
              "      <th>RhoHV_5x5_90th</th>\n",
              "      <th>Zdr</th>\n",
              "      <th>Zdr_5x5_10th</th>\n",
              "      <th>Zdr_5x5_50th</th>\n",
              "      <th>Zdr_5x5_90th</th>\n",
              "      <th>Kdp</th>\n",
              "      <th>Kdp_5x5_10th</th>\n",
              "      <th>Kdp_5x5_50th</th>\n",
              "      <th>Kdp_5x5_90th</th>\n",
              "    </tr>\n",
              "  </thead>\n",
              "  <tbody>\n",
              "    <tr>\n",
              "      <th>0</th>\n",
              "      <td>10.0</td>\n",
              "      <td>21.336602</td>\n",
              "      <td>0.977571</td>\n",
              "      <td>0.919720</td>\n",
              "      <td>1.014938</td>\n",
              "      <td>0.595266</td>\n",
              "      <td>-0.791519</td>\n",
              "      <td>0.222968</td>\n",
              "      <td>1.983754</td>\n",
              "      <td>0.048311</td>\n",
              "      <td>-3.641417</td>\n",
              "      <td>-0.848601</td>\n",
              "      <td>3.733510</td>\n",
              "    </tr>\n",
              "    <tr>\n",
              "      <th>1</th>\n",
              "      <td>2.0</td>\n",
              "      <td>16.625000</td>\n",
              "      <td>0.998611</td>\n",
              "      <td>0.993611</td>\n",
              "      <td>1.000000</td>\n",
              "      <td>0.380208</td>\n",
              "      <td>0.119792</td>\n",
              "      <td>0.416667</td>\n",
              "      <td>0.781250</td>\n",
              "      <td>-0.288187</td>\n",
              "      <td>-1.448893</td>\n",
              "      <td>-0.319096</td>\n",
              "      <td>1.116661</td>\n",
              "    </tr>\n",
              "    <tr>\n",
              "      <th>2</th>\n",
              "      <td>10.0</td>\n",
              "      <td>21.336602</td>\n",
              "      <td>0.977571</td>\n",
              "      <td>0.919720</td>\n",
              "      <td>0.801667</td>\n",
              "      <td>0.595266</td>\n",
              "      <td>-0.791519</td>\n",
              "      <td>0.222968</td>\n",
              "      <td>2.062500</td>\n",
              "      <td>0.048311</td>\n",
              "      <td>-3.641417</td>\n",
              "      <td>-0.848601</td>\n",
              "      <td>3.733510</td>\n",
              "    </tr>\n",
              "    <tr>\n",
              "      <th>3</th>\n",
              "      <td>9.0</td>\n",
              "      <td>26.600000</td>\n",
              "      <td>0.988333</td>\n",
              "      <td>0.919720</td>\n",
              "      <td>1.015833</td>\n",
              "      <td>-1.125000</td>\n",
              "      <td>-0.791519</td>\n",
              "      <td>0.500000</td>\n",
              "      <td>1.515625</td>\n",
              "      <td>7.029999</td>\n",
              "      <td>-3.641417</td>\n",
              "      <td>0.000000</td>\n",
              "      <td>6.329994</td>\n",
              "    </tr>\n",
              "    <tr>\n",
              "      <th>4</th>\n",
              "      <td>13.0</td>\n",
              "      <td>21.336602</td>\n",
              "      <td>0.977571</td>\n",
              "      <td>0.919720</td>\n",
              "      <td>1.014938</td>\n",
              "      <td>0.595266</td>\n",
              "      <td>-0.791519</td>\n",
              "      <td>0.222968</td>\n",
              "      <td>1.983754</td>\n",
              "      <td>0.048311</td>\n",
              "      <td>-3.641417</td>\n",
              "      <td>-0.848601</td>\n",
              "      <td>3.733510</td>\n",
              "    </tr>\n",
              "  </tbody>\n",
              "</table>\n",
              "</div>"
            ],
            "text/plain": [
              "   radardist_km        Ref     RhoHV  ...  Kdp_5x5_10th  Kdp_5x5_50th  Kdp_5x5_90th\n",
              "0          10.0  21.336602  0.977571  ...     -3.641417     -0.848601      3.733510\n",
              "1           2.0  16.625000  0.998611  ...     -1.448893     -0.319096      1.116661\n",
              "2          10.0  21.336602  0.977571  ...     -3.641417     -0.848601      3.733510\n",
              "3           9.0  26.600000  0.988333  ...     -3.641417      0.000000      6.329994\n",
              "4          13.0  21.336602  0.977571  ...     -3.641417     -0.848601      3.733510\n",
              "\n",
              "[5 rows x 13 columns]"
            ]
          },
          "metadata": {
            "tags": []
          },
          "execution_count": 30
        }
      ]
    },
    {
      "cell_type": "code",
      "metadata": {
        "colab": {
          "base_uri": "https://localhost:8080/",
          "height": 224
        },
        "id": "p1pi1LtUBz-O",
        "outputId": "aff8c0c5-7065-49de-d94a-31727d3a7330"
      },
      "source": [
        "X_test_imputed.head()"
      ],
      "execution_count": 31,
      "outputs": [
        {
          "output_type": "execute_result",
          "data": {
            "text/html": [
              "<div>\n",
              "<style scoped>\n",
              "    .dataframe tbody tr th:only-of-type {\n",
              "        vertical-align: middle;\n",
              "    }\n",
              "\n",
              "    .dataframe tbody tr th {\n",
              "        vertical-align: top;\n",
              "    }\n",
              "\n",
              "    .dataframe thead th {\n",
              "        text-align: right;\n",
              "    }\n",
              "</style>\n",
              "<table border=\"1\" class=\"dataframe\">\n",
              "  <thead>\n",
              "    <tr style=\"text-align: right;\">\n",
              "      <th></th>\n",
              "      <th>radardist_km</th>\n",
              "      <th>Ref</th>\n",
              "      <th>RhoHV</th>\n",
              "      <th>RhoHV_5x5_10th</th>\n",
              "      <th>RhoHV_5x5_90th</th>\n",
              "      <th>Zdr</th>\n",
              "      <th>Zdr_5x5_10th</th>\n",
              "      <th>Zdr_5x5_50th</th>\n",
              "      <th>Zdr_5x5_90th</th>\n",
              "      <th>Kdp</th>\n",
              "      <th>Kdp_5x5_10th</th>\n",
              "      <th>Kdp_5x5_50th</th>\n",
              "      <th>Kdp_5x5_90th</th>\n",
              "    </tr>\n",
              "  </thead>\n",
              "  <tbody>\n",
              "    <tr>\n",
              "      <th>0</th>\n",
              "      <td>8.0</td>\n",
              "      <td>10.500000</td>\n",
              "      <td>1.011667</td>\n",
              "      <td>0.848333</td>\n",
              "      <td>1.043571</td>\n",
              "      <td>-0.546875</td>\n",
              "      <td>-1.750000</td>\n",
              "      <td>0.062500</td>\n",
              "      <td>2.598214</td>\n",
              "      <td>-1.523336</td>\n",
              "      <td>-3.641417</td>\n",
              "      <td>-1.290003</td>\n",
              "      <td>2.601664</td>\n",
              "    </tr>\n",
              "    <tr>\n",
              "      <th>1</th>\n",
              "      <td>15.0</td>\n",
              "      <td>21.336602</td>\n",
              "      <td>0.977571</td>\n",
              "      <td>0.919720</td>\n",
              "      <td>1.014938</td>\n",
              "      <td>0.595266</td>\n",
              "      <td>-0.791519</td>\n",
              "      <td>0.222968</td>\n",
              "      <td>1.983754</td>\n",
              "      <td>0.048311</td>\n",
              "      <td>-3.641417</td>\n",
              "      <td>-0.848601</td>\n",
              "      <td>3.733510</td>\n",
              "    </tr>\n",
              "    <tr>\n",
              "      <th>2</th>\n",
              "      <td>11.0</td>\n",
              "      <td>23.722222</td>\n",
              "      <td>0.927333</td>\n",
              "      <td>0.895333</td>\n",
              "      <td>0.981333</td>\n",
              "      <td>0.418750</td>\n",
              "      <td>-0.562500</td>\n",
              "      <td>0.456250</td>\n",
              "      <td>1.825000</td>\n",
              "      <td>0.219994</td>\n",
              "      <td>-4.359003</td>\n",
              "      <td>0.169997</td>\n",
              "      <td>5.382997</td>\n",
              "    </tr>\n",
              "    <tr>\n",
              "      <th>3</th>\n",
              "      <td>9.0</td>\n",
              "      <td>30.812500</td>\n",
              "      <td>0.967667</td>\n",
              "      <td>0.931667</td>\n",
              "      <td>0.982143</td>\n",
              "      <td>0.100000</td>\n",
              "      <td>-0.537500</td>\n",
              "      <td>0.177083</td>\n",
              "      <td>1.241071</td>\n",
              "      <td>0.911996</td>\n",
              "      <td>-2.890003</td>\n",
              "      <td>-0.140002</td>\n",
              "      <td>5.563329</td>\n",
              "    </tr>\n",
              "    <tr>\n",
              "      <th>4</th>\n",
              "      <td>17.0</td>\n",
              "      <td>21.336602</td>\n",
              "      <td>0.977571</td>\n",
              "      <td>0.919720</td>\n",
              "      <td>1.014938</td>\n",
              "      <td>0.595266</td>\n",
              "      <td>-0.791519</td>\n",
              "      <td>0.222968</td>\n",
              "      <td>1.983754</td>\n",
              "      <td>0.048311</td>\n",
              "      <td>-3.641417</td>\n",
              "      <td>-0.848601</td>\n",
              "      <td>3.733510</td>\n",
              "    </tr>\n",
              "  </tbody>\n",
              "</table>\n",
              "</div>"
            ],
            "text/plain": [
              "   radardist_km        Ref     RhoHV  ...  Kdp_5x5_10th  Kdp_5x5_50th  Kdp_5x5_90th\n",
              "0           8.0  10.500000  1.011667  ...     -3.641417     -1.290003      2.601664\n",
              "1          15.0  21.336602  0.977571  ...     -3.641417     -0.848601      3.733510\n",
              "2          11.0  23.722222  0.927333  ...     -4.359003      0.169997      5.382997\n",
              "3           9.0  30.812500  0.967667  ...     -2.890003     -0.140002      5.563329\n",
              "4          17.0  21.336602  0.977571  ...     -3.641417     -0.848601      3.733510\n",
              "\n",
              "[5 rows x 13 columns]"
            ]
          },
          "metadata": {
            "tags": []
          },
          "execution_count": 31
        }
      ]
    },
    {
      "cell_type": "code",
      "metadata": {
        "colab": {
          "base_uri": "https://localhost:8080/"
        },
        "id": "udmNDfv0B4Fq",
        "outputId": "082aaf10-898f-47f2-8ace-8dd5fe1a625b"
      },
      "source": [
        "y_train.head()"
      ],
      "execution_count": 32,
      "outputs": [
        {
          "output_type": "execute_result",
          "data": {
            "text/plain": [
              "Id\n",
              "1      0.254000\n",
              "2      1.016001\n",
              "3     26.162014\n",
              "4      4.064002\n",
              "5    774.700440\n",
              "Name: Expected, dtype: float64"
            ]
          },
          "metadata": {
            "tags": []
          },
          "execution_count": 32
        }
      ]
    },
    {
      "cell_type": "code",
      "metadata": {
        "colab": {
          "base_uri": "https://localhost:8080/",
          "height": 302
        },
        "id": "qvJny8u-B7Ij",
        "outputId": "7e76f2b8-ba15-4817-edac-3df7ce1c4f7b"
      },
      "source": [
        "import seaborn as sns\n",
        "import matplotlib.pyplot as plt\n",
        "sns.set(color_codes=True)\n",
        "%matplotlib inline\n",
        "\n",
        "\n",
        "sns.scatterplot(x = 'RhoHV', y = 'RhoHV_5x5_10th', data = X_train_imputed)"
      ],
      "execution_count": 33,
      "outputs": [
        {
          "output_type": "execute_result",
          "data": {
            "text/plain": [
              "<matplotlib.axes._subplots.AxesSubplot at 0x7f0bbe074ef0>"
            ]
          },
          "metadata": {
            "tags": []
          },
          "execution_count": 33
        },
        {
          "output_type": "display_data",
          "data": {
            "image/png": "[encoded data removed]",
            "text/plain": [
              "<Figure size 432x288 with 1 Axes>"
            ]
          },
          "metadata": {
            "tags": [],
            "needs_background": "light"
          }
        }
      ]
    },
    {
      "cell_type": "code",
      "metadata": {
        "id": "FhI9aCqmCYwp"
      },
      "source": [
        "from sklearn.preprocessing import StandardScaler\n",
        "from sklearn.decomposition import PCA\n",
        "from sklearn.pipeline import Pipeline\n",
        "from sklearn.dummy import DummyRegressor\n",
        "from sklearn.linear_model import LinearRegression, Lasso, Ridge\n",
        "from sklearn import svm\n",
        "from sklearn.tree import DecisionTreeRegressor\n",
        "from sklearn.ensemble import AdaBoostRegressor\n",
        "from sklearn.ensemble import RandomForestRegressor\n",
        "\n",
        "pl = Pipeline([\n",
        "               ('scaler', StandardScaler()),\n",
        "               ('pca', PCA(0.95)),\n",
        "               ('reg', DummyRegressor())\n",
        "])"
      ],
      "execution_count": 34,
      "outputs": []
    },
    {
      "cell_type": "code",
      "metadata": {
        "id": "JFM4x2SQEMbE"
      },
      "source": [
        "models = []\n",
        "models.append(('Linear Regression', LinearRegression()))\n",
        "# models.append(('SVM Regressor', svm.SVR()))\n",
        "models.append(('Decision Tree Regressor', DecisionTreeRegressor()))\n",
        "# models.append(('Ada Boost Regressor', AdaBoostRegressor())) negative result\n",
        "models.append(('Lasso Regressor', Lasso()))\n",
        "models.append(('Ridge Regressor', Ridge()))\n",
        "# models.append(('Random Forest Regressor', RandomForestRegressor()))\n"
      ],
      "execution_count": 35,
      "outputs": []
    },
    {
      "cell_type": "code",
      "metadata": {
        "colab": {
          "base_uri": "https://localhost:8080/"
        },
        "id": "57NxyFKdd1wc",
        "outputId": "86150d27-a8ea-401b-b061-b22b8fb5a4c2"
      },
      "source": [
        "for model in models:\n",
        "  \n",
        "  pl = Pipeline([\n",
        "               ('scaler', StandardScaler()),\n",
        "              #  ('pca', PCA(0.95)),\n",
        "               ('reg', model[1])\n",
        "  ])\n",
        "\n",
        "  reduced_array = pl.fit(X_train_imputed, y_train)\n",
        "  y_test_predict = pl.predict(X_test_imputed)\n",
        "\n",
        "  print(model[0], ' - Training Score: ', pl.score(X_train_imputed, y_train))"
      ],
      "execution_count": 50,
      "outputs": [
        {
          "output_type": "stream",
          "text": [
            "Linear Regression  - Training Score:  0.01573526624193633\n",
            "Decision Tree Regressor  - Training Score:  0.2732004276943083\n",
            "Lasso Regressor  - Training Score:  0.015707603860264485\n",
            "Ridge Regressor  - Training Score:  0.01573526624191912\n"
          ],
          "name": "stdout"
        }
      ]
    },
    {
      "cell_type": "code",
      "metadata": {
        "id": "-qjLRhIbzFcH"
      },
      "source": [
        "y_train_transformed = np.log(y_train)"
      ],
      "execution_count": 48,
      "outputs": []
    },
    {
      "cell_type": "code",
      "metadata": {
        "colab": {
          "base_uri": "https://localhost:8080/"
        },
        "id": "9s6NV9Lmz53p",
        "outputId": "87195769-3c31-48aa-b9e7-49dfa067fc39"
      },
      "source": [
        "y_train_transformed.describe()"
      ],
      "execution_count": 49,
      "outputs": [
        {
          "output_type": "execute_result",
          "data": {
            "text/plain": [
              "count    1.180945e+06\n",
              "mean     5.277145e-01\n",
              "std      2.457159e+00\n",
              "min     -4.605170e+00\n",
              "25%     -1.370421e+00\n",
              "50%      1.587384e-02\n",
              "75%      1.337630e+00\n",
              "max      1.040480e+01\n",
              "Name: Expected, dtype: float64"
            ]
          },
          "metadata": {
            "tags": []
          },
          "execution_count": 49
        }
      ]
    },
    {
      "cell_type": "code",
      "metadata": {
        "colab": {
          "base_uri": "https://localhost:8080/"
        },
        "id": "PzvECojyz9Co",
        "outputId": "2421cd14-14c9-4f30-ca5e-400eb770d7eb"
      },
      "source": [
        "for model in models:\n",
        "  \n",
        "  pl = Pipeline([\n",
        "               ('scaler', StandardScaler()),\n",
        "              #  ('pca', PCA(0.95)),\n",
        "               ('reg', model[1])\n",
        "  ])\n",
        "\n",
        "  reduced_array = pl.fit(X_train_imputed, y_train_transformed)\n",
        "  y_test_predict = pl.predict(X_test_imputed)\n",
        "\n",
        "  print(model[0], ' - Training Score: ', pl.score(X_train_imputed, y_train_transformed))"
      ],
      "execution_count": 51,
      "outputs": [
        {
          "output_type": "stream",
          "text": [
            "Linear Regression  - Training Score:  0.037356800154684455\n",
            "Decision Tree Regressor  - Training Score:  0.43136968670183695\n",
            "Lasso Regressor  - Training Score:  0.0\n",
            "Ridge Regressor  - Training Score:  0.03735680015464926\n"
          ],
          "name": "stdout"
        }
      ]
    },
    {
      "cell_type": "code",
      "metadata": {
        "colab": {
          "base_uri": "https://localhost:8080/"
        },
        "id": "kYuUAVq_0g04",
        "outputId": "4d979e86-4ef0-48cc-ae97-d7d2702c4dbd"
      },
      "source": [
        "pl = Pipeline([\n",
        "               ('scaler', StandardScaler()),\n",
        "               ('reg', DecisionTreeRegressor())\n",
        "  ])\n",
        "\n",
        "reduced_array = pl.fit(X_train_imputed, y_train_transformed)\n",
        "y_test_predict = pl.predict(X_test_imputed)\n",
        "\n",
        "print(pl.score(X_train_imputed, y_train_transformed))\n"
      ],
      "execution_count": 52,
      "outputs": [
        {
          "output_type": "stream",
          "text": [
            "0.43136968670183684\n"
          ],
          "name": "stdout"
        }
      ]
    },
    {
      "cell_type": "code",
      "metadata": {
        "id": "6iu5FFMv1Qra"
      },
      "source": [
        "y_test_predict = np.exp(y_test_predict)"
      ],
      "execution_count": 53,
      "outputs": []
    },
    {
      "cell_type": "code",
      "metadata": {
        "colab": {
          "base_uri": "https://localhost:8080/"
        },
        "id": "oZEM-psk1bep",
        "outputId": "40ec1469-7031-4fb8-9474-914408e8de14"
      },
      "source": [
        "y_id"
      ],
      "execution_count": 54,
      "outputs": [
        {
          "output_type": "execute_result",
          "data": {
            "text/plain": [
              "0              1\n",
              "1              2\n",
              "2              3\n",
              "3              4\n",
              "4              5\n",
              "           ...  \n",
              "717620    717621\n",
              "717621    717622\n",
              "717622    717623\n",
              "717623    717624\n",
              "717624    717625\n",
              "Name: Id, Length: 717625, dtype: int64"
            ]
          },
          "metadata": {
            "tags": []
          },
          "execution_count": 54
        }
      ]
    },
    {
      "cell_type": "code",
      "metadata": {
        "colab": {
          "base_uri": "https://localhost:8080/"
        },
        "id": "ZV7-oN2s1dhX",
        "outputId": "15715d3a-e2ea-47cd-ef77-b2379baabdd6"
      },
      "source": [
        "y_test_predict"
      ],
      "execution_count": 55,
      "outputs": [
        {
          "output_type": "execute_result",
          "data": {
            "text/plain": [
              "array([  0.25400013,  18.11860622, 166.37009   , ...,   0.50800025,\n",
              "         2.22861715,  18.11860622])"
            ]
          },
          "metadata": {
            "tags": []
          },
          "execution_count": 55
        }
      ]
    },
    {
      "cell_type": "code",
      "metadata": {
        "id": "AOGnhrbD1iD4"
      },
      "source": [
        "df = pd.concat([pd.DataFrame(y_id),pd.DataFrame(y_test_predict)], axis=1, ignore_index=True)\n",
        "df.columns = ['Id','Expected']\n",
        "df.to_csv('Submission.csv', index=False)\n",
        "\n"
      ],
      "execution_count": 56,
      "outputs": []
    },
    {
      "cell_type": "code",
      "metadata": {
        "colab": {
          "base_uri": "https://localhost:8080/",
          "height": 204
        },
        "id": "Y2tqa8tz163q",
        "outputId": "7f70fd5c-66a5-43dc-9080-29230a4ac3be"
      },
      "source": [
        "df.head()"
      ],
      "execution_count": 57,
      "outputs": [
        {
          "output_type": "execute_result",
          "data": {
            "text/html": [
              "<div>\n",
              "<style scoped>\n",
              "    .dataframe tbody tr th:only-of-type {\n",
              "        vertical-align: middle;\n",
              "    }\n",
              "\n",
              "    .dataframe tbody tr th {\n",
              "        vertical-align: top;\n",
              "    }\n",
              "\n",
              "    .dataframe thead th {\n",
              "        text-align: right;\n",
              "    }\n",
              "</style>\n",
              "<table border=\"1\" class=\"dataframe\">\n",
              "  <thead>\n",
              "    <tr style=\"text-align: right;\">\n",
              "      <th></th>\n",
              "      <th>Id</th>\n",
              "      <th>Expected</th>\n",
              "    </tr>\n",
              "  </thead>\n",
              "  <tbody>\n",
              "    <tr>\n",
              "      <th>0</th>\n",
              "      <td>1</td>\n",
              "      <td>0.254000</td>\n",
              "    </tr>\n",
              "    <tr>\n",
              "      <th>1</th>\n",
              "      <td>2</td>\n",
              "      <td>18.118606</td>\n",
              "    </tr>\n",
              "    <tr>\n",
              "      <th>2</th>\n",
              "      <td>3</td>\n",
              "      <td>166.370090</td>\n",
              "    </tr>\n",
              "    <tr>\n",
              "      <th>3</th>\n",
              "      <td>4</td>\n",
              "      <td>1.178964</td>\n",
              "    </tr>\n",
              "    <tr>\n",
              "      <th>4</th>\n",
              "      <td>5</td>\n",
              "      <td>1.964141</td>\n",
              "    </tr>\n",
              "  </tbody>\n",
              "</table>\n",
              "</div>"
            ],
            "text/plain": [
              "   Id    Expected\n",
              "0   1    0.254000\n",
              "1   2   18.118606\n",
              "2   3  166.370090\n",
              "3   4    1.178964\n",
              "4   5    1.964141"
            ]
          },
          "metadata": {
            "tags": []
          },
          "execution_count": 57
        }
      ]
    },
    {
      "cell_type": "code",
      "metadata": {
        "colab": {
          "base_uri": "https://localhost:8080/"
        },
        "id": "APOom3Mq19TH",
        "outputId": "07336141-6655-43e1-e9a9-9796e393d4bb"
      },
      "source": [
        "!kaggle competitions submit -c how-much-did-it-rain-ii -f /content/Submission.csv -m \"Decision Tree Regressor\""
      ],
      "execution_count": 58,
      "outputs": [
        {
          "output_type": "stream",
          "text": [
            "Warning: Looks like you're using an outdated API Version, please consider updating (server 1.5.9 / client 1.5.4)\n",
            "100% 17.0M/17.0M [00:03<00:00, 5.14MB/s]\n",
            "Successfully submitted to How Much Did It Rain? II"
          ],
          "name": "stdout"
        }
      ]
    },
    {
      "cell_type": "code",
      "metadata": {
        "id": "x74hoERY2KxI"
      },
      "source": [
        ""
      ],
      "execution_count": null,
      "outputs": []
    }
  ]
}