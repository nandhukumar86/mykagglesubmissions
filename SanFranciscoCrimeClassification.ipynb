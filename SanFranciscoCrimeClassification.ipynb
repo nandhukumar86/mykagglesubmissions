{
  "nbformat": 4,
  "nbformat_minor": 0,
  "metadata": {
    "colab": {
      "name": "SanFranciscoCrimeClassification.ipynb",
      "provenance": [],
      "collapsed_sections": [],
      "toc_visible": true,
      "authorship_tag": "ABX9TyPKXkGe6sO8nxd+RCvwqpie",
      "include_colab_link": true
    },
    "kernelspec": {
      "name": "python3",
      "display_name": "Python 3"
    }
  },
  "cells": [
    {
      "cell_type": "markdown",
      "metadata": {
        "id": "view-in-github",
        "colab_type": "text"
      },
      "source": [
        "<a href=\"https://colab.research.google.com/github/nandhukumar86/mykagglesubmissions/blob/master/SanFranciscoCrimeClassification.ipynb\" target=\"_parent\"><img src=\"https://colab.research.google.com/assets/colab-badge.svg\" alt=\"Open In Colab\"/></a>"
      ]
    },
    {
      "cell_type": "markdown",
      "metadata": {
        "id": "jpYdqZ24YpHF"
      },
      "source": [
        "# Import Data from Kaggle"
      ]
    },
    {
      "cell_type": "code",
      "metadata": {
        "id": "qv826gDbh2vW"
      },
      "source": [
        "# # install kaggle\n",
        "# ! pip install -q kaggle\n",
        "\n",
        "# # upload file to Colab\n",
        "# from google.colab import files\n",
        "# files.upload()\n",
        "\n",
        "# # create kaggle folder in root and copy the file.\n",
        "# ! mkdir ~/.kaggle\n",
        "# ! cp kaggle.json ~/.kaggle/\n",
        "\n",
        "# # provide permissions\n",
        "# ! chmod 600 ~/.kaggle/kaggle.json\n",
        "\n",
        "# # download competition files by providing competition name\n",
        "# ! kaggle competitions download -c 'sf-crime'\n",
        "\n",
        "# # unzip the files and folders\n",
        "# #! unzip train.csv.zip -d train\n",
        "# #! unzip test.csv.zip -d test"
      ],
      "execution_count": 1,
      "outputs": []
    },
    {
      "cell_type": "code",
      "metadata": {
        "id": "RDSFFZv1h_n_"
      },
      "source": [
        "# !unzip train.csv.zip"
      ],
      "execution_count": 2,
      "outputs": []
    },
    {
      "cell_type": "code",
      "metadata": {
        "id": "eiUOzUoYip4n"
      },
      "source": [
        "# !unzip test.csv.zip"
      ],
      "execution_count": 3,
      "outputs": []
    },
    {
      "cell_type": "markdown",
      "metadata": {
        "id": "bxHbYE25Yuij"
      },
      "source": [
        "# Basic imports"
      ]
    },
    {
      "cell_type": "code",
      "metadata": {
        "id": "T3_t91criyWV"
      },
      "source": [
        "import pandas as pd\n",
        "import numpy as np\n",
        "\n",
        "import seaborn as sns\n",
        "import matplotlib.pyplot as plt\n",
        "sns.set(color_codes=True)\n",
        "%matplotlib inline\n"
      ],
      "execution_count": 133,
      "outputs": []
    },
    {
      "cell_type": "code",
      "metadata": {
        "id": "IGa0LNYwkHfh"
      },
      "source": [
        "df_train = pd.read_csv('train.csv')"
      ],
      "execution_count": 225,
      "outputs": []
    },
    {
      "cell_type": "code",
      "metadata": {
        "id": "cdeZ1JENkMXh"
      },
      "source": [
        "df_test = pd.read_csv('test.csv')"
      ],
      "execution_count": 226,
      "outputs": []
    },
    {
      "cell_type": "code",
      "metadata": {
        "colab": {
          "base_uri": "https://localhost:8080/"
        },
        "id": "X9max_vOXmFq",
        "outputId": "1dc3970e-bd60-4f18-c82a-416ec213100e"
      },
      "source": [
        "df_train.columns"
      ],
      "execution_count": 227,
      "outputs": [
        {
          "output_type": "execute_result",
          "data": {
            "text/plain": [
              "Index(['Dates', 'Category', 'Descript', 'DayOfWeek', 'PdDistrict',\n",
              "       'Resolution', 'Address', 'X', 'Y'],\n",
              "      dtype='object')"
            ]
          },
          "metadata": {
            "tags": []
          },
          "execution_count": 227
        }
      ]
    },
    {
      "cell_type": "code",
      "metadata": {
        "colab": {
          "base_uri": "https://localhost:8080/"
        },
        "id": "c6lFSwqJXqXx",
        "outputId": "cd41e45a-07da-4d35-8199-50c6d89ee5de"
      },
      "source": [
        "df_test.columns"
      ],
      "execution_count": 228,
      "outputs": [
        {
          "output_type": "execute_result",
          "data": {
            "text/plain": [
              "Index(['Id', 'Dates', 'DayOfWeek', 'PdDistrict', 'Address', 'X', 'Y'], dtype='object')"
            ]
          },
          "metadata": {
            "tags": []
          },
          "execution_count": 228
        }
      ]
    },
    {
      "cell_type": "code",
      "metadata": {
        "id": "dIv0RnSmXuJe"
      },
      "source": [
        "default_features = ['Dates', 'Descript', 'DayOfWeek', 'PdDistrict', 'Address', 'X', 'Y']\n",
        "target = ['Category']"
      ],
      "execution_count": 229,
      "outputs": []
    },
    {
      "cell_type": "code",
      "metadata": {
        "colab": {
          "base_uri": "https://localhost:8080/"
        },
        "id": "izmQ4ulYX_qJ",
        "outputId": "ceabe9cf-b12b-40d3-92f3-68850dde5e65"
      },
      "source": [
        "df_train.Category.value_counts()"
      ],
      "execution_count": 230,
      "outputs": [
        {
          "output_type": "execute_result",
          "data": {
            "text/plain": [
              "LARCENY/THEFT                  174900\n",
              "OTHER OFFENSES                 126182\n",
              "NON-CRIMINAL                    92304\n",
              "ASSAULT                         76876\n",
              "DRUG/NARCOTIC                   53971\n",
              "VEHICLE THEFT                   53781\n",
              "VANDALISM                       44725\n",
              "WARRANTS                        42214\n",
              "BURGLARY                        36755\n",
              "SUSPICIOUS OCC                  31414\n",
              "MISSING PERSON                  25989\n",
              "ROBBERY                         23000\n",
              "FRAUD                           16679\n",
              "FORGERY/COUNTERFEITING          10609\n",
              "SECONDARY CODES                  9985\n",
              "WEAPON LAWS                      8555\n",
              "PROSTITUTION                     7484\n",
              "TRESPASS                         7326\n",
              "STOLEN PROPERTY                  4540\n",
              "SEX OFFENSES FORCIBLE            4388\n",
              "DISORDERLY CONDUCT               4320\n",
              "DRUNKENNESS                      4280\n",
              "RECOVERED VEHICLE                3138\n",
              "KIDNAPPING                       2341\n",
              "DRIVING UNDER THE INFLUENCE      2268\n",
              "RUNAWAY                          1946\n",
              "LIQUOR LAWS                      1903\n",
              "ARSON                            1513\n",
              "LOITERING                        1225\n",
              "EMBEZZLEMENT                     1166\n",
              "SUICIDE                           508\n",
              "FAMILY OFFENSES                   491\n",
              "BAD CHECKS                        406\n",
              "BRIBERY                           289\n",
              "EXTORTION                         256\n",
              "SEX OFFENSES NON FORCIBLE         148\n",
              "GAMBLING                          146\n",
              "PORNOGRAPHY/OBSCENE MAT            22\n",
              "TREA                                6\n",
              "Name: Category, dtype: int64"
            ]
          },
          "metadata": {
            "tags": []
          },
          "execution_count": 230
        }
      ]
    },
    {
      "cell_type": "code",
      "metadata": {
        "colab": {
          "base_uri": "https://localhost:8080/",
          "height": 279
        },
        "id": "KOpZOvsaZTyc",
        "outputId": "a047162b-7311-4c20-bc07-abf4171cb67f"
      },
      "source": [
        "df_train.head()"
      ],
      "execution_count": 231,
      "outputs": [
        {
          "output_type": "execute_result",
          "data": {
            "text/html": [
              "<div>\n",
              "<style scoped>\n",
              "    .dataframe tbody tr th:only-of-type {\n",
              "        vertical-align: middle;\n",
              "    }\n",
              "\n",
              "    .dataframe tbody tr th {\n",
              "        vertical-align: top;\n",
              "    }\n",
              "\n",
              "    .dataframe thead th {\n",
              "        text-align: right;\n",
              "    }\n",
              "</style>\n",
              "<table border=\"1\" class=\"dataframe\">\n",
              "  <thead>\n",
              "    <tr style=\"text-align: right;\">\n",
              "      <th></th>\n",
              "      <th>Dates</th>\n",
              "      <th>Category</th>\n",
              "      <th>Descript</th>\n",
              "      <th>DayOfWeek</th>\n",
              "      <th>PdDistrict</th>\n",
              "      <th>Resolution</th>\n",
              "      <th>Address</th>\n",
              "      <th>X</th>\n",
              "      <th>Y</th>\n",
              "    </tr>\n",
              "  </thead>\n",
              "  <tbody>\n",
              "    <tr>\n",
              "      <th>0</th>\n",
              "      <td>2015-05-13 23:53:00</td>\n",
              "      <td>WARRANTS</td>\n",
              "      <td>WARRANT ARREST</td>\n",
              "      <td>Wednesday</td>\n",
              "      <td>NORTHERN</td>\n",
              "      <td>ARREST, BOOKED</td>\n",
              "      <td>OAK ST / LAGUNA ST</td>\n",
              "      <td>-122.425892</td>\n",
              "      <td>37.774599</td>\n",
              "    </tr>\n",
              "    <tr>\n",
              "      <th>1</th>\n",
              "      <td>2015-05-13 23:53:00</td>\n",
              "      <td>OTHER OFFENSES</td>\n",
              "      <td>TRAFFIC VIOLATION ARREST</td>\n",
              "      <td>Wednesday</td>\n",
              "      <td>NORTHERN</td>\n",
              "      <td>ARREST, BOOKED</td>\n",
              "      <td>OAK ST / LAGUNA ST</td>\n",
              "      <td>-122.425892</td>\n",
              "      <td>37.774599</td>\n",
              "    </tr>\n",
              "    <tr>\n",
              "      <th>2</th>\n",
              "      <td>2015-05-13 23:33:00</td>\n",
              "      <td>OTHER OFFENSES</td>\n",
              "      <td>TRAFFIC VIOLATION ARREST</td>\n",
              "      <td>Wednesday</td>\n",
              "      <td>NORTHERN</td>\n",
              "      <td>ARREST, BOOKED</td>\n",
              "      <td>VANNESS AV / GREENWICH ST</td>\n",
              "      <td>-122.424363</td>\n",
              "      <td>37.800414</td>\n",
              "    </tr>\n",
              "    <tr>\n",
              "      <th>3</th>\n",
              "      <td>2015-05-13 23:30:00</td>\n",
              "      <td>LARCENY/THEFT</td>\n",
              "      <td>GRAND THEFT FROM LOCKED AUTO</td>\n",
              "      <td>Wednesday</td>\n",
              "      <td>NORTHERN</td>\n",
              "      <td>NONE</td>\n",
              "      <td>1500 Block of LOMBARD ST</td>\n",
              "      <td>-122.426995</td>\n",
              "      <td>37.800873</td>\n",
              "    </tr>\n",
              "    <tr>\n",
              "      <th>4</th>\n",
              "      <td>2015-05-13 23:30:00</td>\n",
              "      <td>LARCENY/THEFT</td>\n",
              "      <td>GRAND THEFT FROM LOCKED AUTO</td>\n",
              "      <td>Wednesday</td>\n",
              "      <td>PARK</td>\n",
              "      <td>NONE</td>\n",
              "      <td>100 Block of BRODERICK ST</td>\n",
              "      <td>-122.438738</td>\n",
              "      <td>37.771541</td>\n",
              "    </tr>\n",
              "  </tbody>\n",
              "</table>\n",
              "</div>"
            ],
            "text/plain": [
              "                 Dates        Category  ...           X          Y\n",
              "0  2015-05-13 23:53:00        WARRANTS  ... -122.425892  37.774599\n",
              "1  2015-05-13 23:53:00  OTHER OFFENSES  ... -122.425892  37.774599\n",
              "2  2015-05-13 23:33:00  OTHER OFFENSES  ... -122.424363  37.800414\n",
              "3  2015-05-13 23:30:00   LARCENY/THEFT  ... -122.426995  37.800873\n",
              "4  2015-05-13 23:30:00   LARCENY/THEFT  ... -122.438738  37.771541\n",
              "\n",
              "[5 rows x 9 columns]"
            ]
          },
          "metadata": {
            "tags": []
          },
          "execution_count": 231
        }
      ]
    },
    {
      "cell_type": "code",
      "metadata": {
        "colab": {
          "base_uri": "https://localhost:8080/"
        },
        "id": "lGphXDnbaGM2",
        "outputId": "c0fb82a8-c1cc-453b-c296-94adbaea4909"
      },
      "source": [
        "df_train.Descript.value_counts()"
      ],
      "execution_count": 232,
      "outputs": [
        {
          "output_type": "execute_result",
          "data": {
            "text/plain": [
              "GRAND THEFT FROM LOCKED AUTO                       60022\n",
              "LOST PROPERTY                                      31729\n",
              "BATTERY                                            27441\n",
              "STOLEN AUTOMOBILE                                  26897\n",
              "DRIVERS LICENSE, SUSPENDED OR REVOKED              26839\n",
              "                                                   ...  \n",
              "PURCHASE FEMALE FOR THE PURPOSE OF PROSTITUTION        1\n",
              "REFUSAL TO IDENTIFY                                    1\n",
              "HAZARDOUS MATERIALS, DUMP OIL INTO SEWERS              1\n",
              "ARSON OF A POLICE VEHICLE                              1\n",
              "DESTROYING JAIL PROPERTY-$200 OR UNDER                 1\n",
              "Name: Descript, Length: 879, dtype: int64"
            ]
          },
          "metadata": {
            "tags": []
          },
          "execution_count": 232
        }
      ]
    },
    {
      "cell_type": "markdown",
      "metadata": {
        "id": "D8vks6sYaF8f"
      },
      "source": [
        ""
      ]
    },
    {
      "cell_type": "code",
      "metadata": {
        "colab": {
          "base_uri": "https://localhost:8080/"
        },
        "id": "fRXjBMJbbJmS",
        "outputId": "3d988383-8a21-4e12-bc03-fe29aa41493d"
      },
      "source": [
        "df_train.PdDistrict.value_counts()"
      ],
      "execution_count": 233,
      "outputs": [
        {
          "output_type": "execute_result",
          "data": {
            "text/plain": [
              "SOUTHERN      157182\n",
              "MISSION       119908\n",
              "NORTHERN      105296\n",
              "BAYVIEW        89431\n",
              "CENTRAL        85460\n",
              "TENDERLOIN     81809\n",
              "INGLESIDE      78845\n",
              "TARAVAL        65596\n",
              "PARK           49313\n",
              "RICHMOND       45209\n",
              "Name: PdDistrict, dtype: int64"
            ]
          },
          "metadata": {
            "tags": []
          },
          "execution_count": 233
        }
      ]
    },
    {
      "cell_type": "markdown",
      "metadata": {
        "id": "nsHDLOCRY4Aw"
      },
      "source": [
        "# Data preprocessing"
      ]
    },
    {
      "cell_type": "markdown",
      "metadata": {
        "id": "6eaRFuLdZGXw"
      },
      "source": [
        "1. Category column needs label encoding.\n",
        "2. Dates column needs to be parsed in to components.\n",
        "3. Descript column has some good amount of data that describes the type of violation, we will use TfidfVectorizer to learn the insider data.\n",
        "4. Day of the week can be correlated with the dates, we will do one hot encoding on this.\n",
        "5. PdDistrict is categrical column and can to one hot encoding.\n",
        "6. We can drop the resolution from the training set as this columns is not available in test set.\n",
        "7. Address and X,Y coordinates are same, we can drop of Address column."
      ]
    },
    {
      "cell_type": "code",
      "metadata": {
        "colab": {
          "base_uri": "https://localhost:8080/"
        },
        "id": "vxdEpvrQYav4",
        "outputId": "95bf68d8-74b8-401b-ad42-6eb964f6c0d7"
      },
      "source": [
        "df_train.isnull().sum()"
      ],
      "execution_count": 234,
      "outputs": [
        {
          "output_type": "execute_result",
          "data": {
            "text/plain": [
              "Dates         0\n",
              "Category      0\n",
              "Descript      0\n",
              "DayOfWeek     0\n",
              "PdDistrict    0\n",
              "Resolution    0\n",
              "Address       0\n",
              "X             0\n",
              "Y             0\n",
              "dtype: int64"
            ]
          },
          "metadata": {
            "tags": []
          },
          "execution_count": 234
        }
      ]
    },
    {
      "cell_type": "code",
      "metadata": {
        "colab": {
          "base_uri": "https://localhost:8080/"
        },
        "id": "sbaBjDehf2Pr",
        "outputId": "16e64ba2-d405-400a-8a8a-a6a30379578a"
      },
      "source": [
        "df_train.dtypes"
      ],
      "execution_count": 235,
      "outputs": [
        {
          "output_type": "execute_result",
          "data": {
            "text/plain": [
              "Dates          object\n",
              "Category       object\n",
              "Descript       object\n",
              "DayOfWeek      object\n",
              "PdDistrict     object\n",
              "Resolution     object\n",
              "Address        object\n",
              "X             float64\n",
              "Y             float64\n",
              "dtype: object"
            ]
          },
          "metadata": {
            "tags": []
          },
          "execution_count": 235
        }
      ]
    },
    {
      "cell_type": "code",
      "metadata": {
        "colab": {
          "base_uri": "https://localhost:8080/"
        },
        "id": "gFxHSc2Ib5mH",
        "outputId": "077a4832-a55d-455b-cf6c-b25b30aef75a"
      },
      "source": [
        "df_test.isnull().sum()"
      ],
      "execution_count": 236,
      "outputs": [
        {
          "output_type": "execute_result",
          "data": {
            "text/plain": [
              "Id            0\n",
              "Dates         0\n",
              "DayOfWeek     0\n",
              "PdDistrict    0\n",
              "Address       0\n",
              "X             0\n",
              "Y             0\n",
              "dtype: int64"
            ]
          },
          "metadata": {
            "tags": []
          },
          "execution_count": 236
        }
      ]
    },
    {
      "cell_type": "markdown",
      "metadata": {
        "id": "r_P4mQIhcO2l"
      },
      "source": [
        "Checking the coordinates"
      ]
    },
    {
      "cell_type": "code",
      "metadata": {
        "colab": {
          "base_uri": "https://localhost:8080/",
          "height": 302
        },
        "id": "D9TUjHR8cEkE",
        "outputId": "533b0a56-b90c-4089-880b-d95e6c727cef"
      },
      "source": [
        "sns.scatterplot(x = 'X', y = 'Y', data = df_train)"
      ],
      "execution_count": 237,
      "outputs": [
        {
          "output_type": "execute_result",
          "data": {
            "text/plain": [
              "<matplotlib.axes._subplots.AxesSubplot at 0x7ffa8d55e198>"
            ]
          },
          "metadata": {
            "tags": []
          },
          "execution_count": 237
        },
        {
          "output_type": "display_data",
          "data": {
            "image/png": "[encoded data removed]",
            "text/plain": [
              "<Figure size 432x288 with 1 Axes>"
            ]
          },
          "metadata": {
            "tags": [],
            "needs_background": "light"
          }
        }
      ]
    },
    {
      "cell_type": "code",
      "metadata": {
        "colab": {
          "base_uri": "https://localhost:8080/",
          "height": 284
        },
        "id": "IDPIYKU7cioO",
        "outputId": "8240e1d2-71e7-4a7a-8c15-0d980b2df1d2"
      },
      "source": [
        "df_train.describe()"
      ],
      "execution_count": 238,
      "outputs": [
        {
          "output_type": "execute_result",
          "data": {
            "text/html": [
              "<div>\n",
              "<style scoped>\n",
              "    .dataframe tbody tr th:only-of-type {\n",
              "        vertical-align: middle;\n",
              "    }\n",
              "\n",
              "    .dataframe tbody tr th {\n",
              "        vertical-align: top;\n",
              "    }\n",
              "\n",
              "    .dataframe thead th {\n",
              "        text-align: right;\n",
              "    }\n",
              "</style>\n",
              "<table border=\"1\" class=\"dataframe\">\n",
              "  <thead>\n",
              "    <tr style=\"text-align: right;\">\n",
              "      <th></th>\n",
              "      <th>X</th>\n",
              "      <th>Y</th>\n",
              "    </tr>\n",
              "  </thead>\n",
              "  <tbody>\n",
              "    <tr>\n",
              "      <th>count</th>\n",
              "      <td>878049.000000</td>\n",
              "      <td>878049.000000</td>\n",
              "    </tr>\n",
              "    <tr>\n",
              "      <th>mean</th>\n",
              "      <td>-122.422616</td>\n",
              "      <td>37.771020</td>\n",
              "    </tr>\n",
              "    <tr>\n",
              "      <th>std</th>\n",
              "      <td>0.030354</td>\n",
              "      <td>0.456893</td>\n",
              "    </tr>\n",
              "    <tr>\n",
              "      <th>min</th>\n",
              "      <td>-122.513642</td>\n",
              "      <td>37.707879</td>\n",
              "    </tr>\n",
              "    <tr>\n",
              "      <th>25%</th>\n",
              "      <td>-122.432952</td>\n",
              "      <td>37.752427</td>\n",
              "    </tr>\n",
              "    <tr>\n",
              "      <th>50%</th>\n",
              "      <td>-122.416420</td>\n",
              "      <td>37.775421</td>\n",
              "    </tr>\n",
              "    <tr>\n",
              "      <th>75%</th>\n",
              "      <td>-122.406959</td>\n",
              "      <td>37.784369</td>\n",
              "    </tr>\n",
              "    <tr>\n",
              "      <th>max</th>\n",
              "      <td>-120.500000</td>\n",
              "      <td>90.000000</td>\n",
              "    </tr>\n",
              "  </tbody>\n",
              "</table>\n",
              "</div>"
            ],
            "text/plain": [
              "                   X              Y\n",
              "count  878049.000000  878049.000000\n",
              "mean     -122.422616      37.771020\n",
              "std         0.030354       0.456893\n",
              "min      -122.513642      37.707879\n",
              "25%      -122.432952      37.752427\n",
              "50%      -122.416420      37.775421\n",
              "75%      -122.406959      37.784369\n",
              "max      -120.500000      90.000000"
            ]
          },
          "metadata": {
            "tags": []
          },
          "execution_count": 238
        }
      ]
    },
    {
      "cell_type": "markdown",
      "metadata": {
        "id": "879jfVWndBFd"
      },
      "source": [
        "Looks like there is an outlier on Y coordinate"
      ]
    },
    {
      "cell_type": "markdown",
      "metadata": {
        "id": "0wd7yTP-dV1R"
      },
      "source": [
        "This outlier can be handled using Standardization mechanism."
      ]
    },
    {
      "cell_type": "code",
      "metadata": {
        "id": "tJzfhbWGwnke"
      },
      "source": [
        "df_train.drop(columns= ['Resolution'], inplace=True)"
      ],
      "execution_count": 239,
      "outputs": []
    },
    {
      "cell_type": "code",
      "metadata": {
        "id": "5x3mnHyewsKd"
      },
      "source": [
        "df_train['Dates'] = pd.to_datetime(df_train['Dates'])\n",
        "df_test['Dates'] = pd.to_datetime(df_test['Dates'])"
      ],
      "execution_count": 240,
      "outputs": []
    },
    {
      "cell_type": "code",
      "metadata": {
        "id": "saX1nw8JyhdL"
      },
      "source": [
        ""
      ],
      "execution_count": 240,
      "outputs": []
    },
    {
      "cell_type": "code",
      "metadata": {
        "id": "B6T9kIyExAku"
      },
      "source": [
        "df_train['year'] =  df_train['Dates'].apply(lambda x: x.year)\n"
      ],
      "execution_count": 241,
      "outputs": []
    },
    {
      "cell_type": "code",
      "metadata": {
        "id": "gRf5vasSxzt1"
      },
      "source": [
        "df_test['year'] =  df_test['Dates'].apply(lambda x: x.year)"
      ],
      "execution_count": 242,
      "outputs": []
    },
    {
      "cell_type": "code",
      "metadata": {
        "id": "vOTrw6MKzFtL"
      },
      "source": [
        "df_train['month'] =  df_train['Dates'].apply(lambda x: x.month)\n",
        "df_test['month'] =  df_test['Dates'].apply(lambda x: x.month)\n",
        "\n",
        "df_train['day'] =  df_train['Dates'].apply(lambda x: x.day)\n",
        "df_test['day'] =  df_test['Dates'].apply(lambda x: x.day)\n",
        "\n",
        "df_train['hour'] =  df_train['Dates'].apply(lambda x: x.hour)\n",
        "df_test['hour'] =  df_test['Dates'].apply(lambda x: x.hour)"
      ],
      "execution_count": 243,
      "outputs": []
    },
    {
      "cell_type": "code",
      "metadata": {
        "id": "SIkcrpakzhhm"
      },
      "source": [
        "df_train.drop(columns= ['Dates'], inplace=True)\n",
        "df_test.drop(columns= ['Dates'], inplace=True)"
      ],
      "execution_count": 244,
      "outputs": []
    },
    {
      "cell_type": "code",
      "metadata": {
        "id": "KJEVS5LH0M1E"
      },
      "source": [
        "y_train = df_train.pop('Category')"
      ],
      "execution_count": 245,
      "outputs": []
    },
    {
      "cell_type": "code",
      "metadata": {
        "id": "ByOmMsifNvTq"
      },
      "source": [
        "y_train = pd.DataFrame(y_train, columns=['Category'])"
      ],
      "execution_count": 246,
      "outputs": []
    },
    {
      "cell_type": "code",
      "metadata": {
        "id": "pMt9cksX0lya"
      },
      "source": [
        "X_train = df_train.copy(deep=True)\n",
        "X_test = df_test.copy(deep=True)"
      ],
      "execution_count": 247,
      "outputs": []
    },
    {
      "cell_type": "code",
      "metadata": {
        "id": "reZCZ1oO1E5V"
      },
      "source": [
        "X_train.drop(columns= ['Descript'], inplace=True)"
      ],
      "execution_count": 248,
      "outputs": []
    },
    {
      "cell_type": "code",
      "metadata": {
        "colab": {
          "base_uri": "https://localhost:8080/"
        },
        "id": "GIFj79mD0qCV",
        "outputId": "fb7c7cc6-49bd-4fdd-f4e5-f2380f68212e"
      },
      "source": [
        "X_train.columns"
      ],
      "execution_count": 249,
      "outputs": [
        {
          "output_type": "execute_result",
          "data": {
            "text/plain": [
              "Index(['DayOfWeek', 'PdDistrict', 'Address', 'X', 'Y', 'year', 'month', 'day',\n",
              "       'hour'],\n",
              "      dtype='object')"
            ]
          },
          "metadata": {
            "tags": []
          },
          "execution_count": 249
        }
      ]
    },
    {
      "cell_type": "code",
      "metadata": {
        "colab": {
          "base_uri": "https://localhost:8080/"
        },
        "id": "UAdS8a9_0uRP",
        "outputId": "2fad9bd2-7b18-4a0e-ccab-09b76ab3584a"
      },
      "source": [
        "X_test.columns"
      ],
      "execution_count": 250,
      "outputs": [
        {
          "output_type": "execute_result",
          "data": {
            "text/plain": [
              "Index(['Id', 'DayOfWeek', 'PdDistrict', 'Address', 'X', 'Y', 'year', 'month',\n",
              "       'day', 'hour'],\n",
              "      dtype='object')"
            ]
          },
          "metadata": {
            "tags": []
          },
          "execution_count": 250
        }
      ]
    },
    {
      "cell_type": "code",
      "metadata": {
        "colab": {
          "base_uri": "https://localhost:8080/",
          "height": 195
        },
        "id": "Nun0WTYl1P5J",
        "outputId": "6cc34c6a-08b2-4ad0-fdf9-6905bf75740a"
      },
      "source": [
        "X_train.head()"
      ],
      "execution_count": 251,
      "outputs": [
        {
          "output_type": "execute_result",
          "data": {
            "text/html": [
              "<div>\n",
              "<style scoped>\n",
              "    .dataframe tbody tr th:only-of-type {\n",
              "        vertical-align: middle;\n",
              "    }\n",
              "\n",
              "    .dataframe tbody tr th {\n",
              "        vertical-align: top;\n",
              "    }\n",
              "\n",
              "    .dataframe thead th {\n",
              "        text-align: right;\n",
              "    }\n",
              "</style>\n",
              "<table border=\"1\" class=\"dataframe\">\n",
              "  <thead>\n",
              "    <tr style=\"text-align: right;\">\n",
              "      <th></th>\n",
              "      <th>DayOfWeek</th>\n",
              "      <th>PdDistrict</th>\n",
              "      <th>Address</th>\n",
              "      <th>X</th>\n",
              "      <th>Y</th>\n",
              "      <th>year</th>\n",
              "      <th>month</th>\n",
              "      <th>day</th>\n",
              "      <th>hour</th>\n",
              "    </tr>\n",
              "  </thead>\n",
              "  <tbody>\n",
              "    <tr>\n",
              "      <th>0</th>\n",
              "      <td>Wednesday</td>\n",
              "      <td>NORTHERN</td>\n",
              "      <td>OAK ST / LAGUNA ST</td>\n",
              "      <td>-122.425892</td>\n",
              "      <td>37.774599</td>\n",
              "      <td>2015</td>\n",
              "      <td>5</td>\n",
              "      <td>13</td>\n",
              "      <td>23</td>\n",
              "    </tr>\n",
              "    <tr>\n",
              "      <th>1</th>\n",
              "      <td>Wednesday</td>\n",
              "      <td>NORTHERN</td>\n",
              "      <td>OAK ST / LAGUNA ST</td>\n",
              "      <td>-122.425892</td>\n",
              "      <td>37.774599</td>\n",
              "      <td>2015</td>\n",
              "      <td>5</td>\n",
              "      <td>13</td>\n",
              "      <td>23</td>\n",
              "    </tr>\n",
              "    <tr>\n",
              "      <th>2</th>\n",
              "      <td>Wednesday</td>\n",
              "      <td>NORTHERN</td>\n",
              "      <td>VANNESS AV / GREENWICH ST</td>\n",
              "      <td>-122.424363</td>\n",
              "      <td>37.800414</td>\n",
              "      <td>2015</td>\n",
              "      <td>5</td>\n",
              "      <td>13</td>\n",
              "      <td>23</td>\n",
              "    </tr>\n",
              "    <tr>\n",
              "      <th>3</th>\n",
              "      <td>Wednesday</td>\n",
              "      <td>NORTHERN</td>\n",
              "      <td>1500 Block of LOMBARD ST</td>\n",
              "      <td>-122.426995</td>\n",
              "      <td>37.800873</td>\n",
              "      <td>2015</td>\n",
              "      <td>5</td>\n",
              "      <td>13</td>\n",
              "      <td>23</td>\n",
              "    </tr>\n",
              "    <tr>\n",
              "      <th>4</th>\n",
              "      <td>Wednesday</td>\n",
              "      <td>PARK</td>\n",
              "      <td>100 Block of BRODERICK ST</td>\n",
              "      <td>-122.438738</td>\n",
              "      <td>37.771541</td>\n",
              "      <td>2015</td>\n",
              "      <td>5</td>\n",
              "      <td>13</td>\n",
              "      <td>23</td>\n",
              "    </tr>\n",
              "  </tbody>\n",
              "</table>\n",
              "</div>"
            ],
            "text/plain": [
              "   DayOfWeek PdDistrict                    Address  ...  month  day  hour\n",
              "0  Wednesday   NORTHERN         OAK ST / LAGUNA ST  ...      5   13    23\n",
              "1  Wednesday   NORTHERN         OAK ST / LAGUNA ST  ...      5   13    23\n",
              "2  Wednesday   NORTHERN  VANNESS AV / GREENWICH ST  ...      5   13    23\n",
              "3  Wednesday   NORTHERN   1500 Block of LOMBARD ST  ...      5   13    23\n",
              "4  Wednesday       PARK  100 Block of BRODERICK ST  ...      5   13    23\n",
              "\n",
              "[5 rows x 9 columns]"
            ]
          },
          "metadata": {
            "tags": []
          },
          "execution_count": 251
        }
      ]
    },
    {
      "cell_type": "code",
      "metadata": {
        "colab": {
          "base_uri": "https://localhost:8080/",
          "height": 195
        },
        "id": "gV-MaC0z1jGF",
        "outputId": "97dea993-ca39-409e-9f38-9d74f5c4d964"
      },
      "source": [
        "X_test.head()"
      ],
      "execution_count": 252,
      "outputs": [
        {
          "output_type": "execute_result",
          "data": {
            "text/html": [
              "<div>\n",
              "<style scoped>\n",
              "    .dataframe tbody tr th:only-of-type {\n",
              "        vertical-align: middle;\n",
              "    }\n",
              "\n",
              "    .dataframe tbody tr th {\n",
              "        vertical-align: top;\n",
              "    }\n",
              "\n",
              "    .dataframe thead th {\n",
              "        text-align: right;\n",
              "    }\n",
              "</style>\n",
              "<table border=\"1\" class=\"dataframe\">\n",
              "  <thead>\n",
              "    <tr style=\"text-align: right;\">\n",
              "      <th></th>\n",
              "      <th>Id</th>\n",
              "      <th>DayOfWeek</th>\n",
              "      <th>PdDistrict</th>\n",
              "      <th>Address</th>\n",
              "      <th>X</th>\n",
              "      <th>Y</th>\n",
              "      <th>year</th>\n",
              "      <th>month</th>\n",
              "      <th>day</th>\n",
              "      <th>hour</th>\n",
              "    </tr>\n",
              "  </thead>\n",
              "  <tbody>\n",
              "    <tr>\n",
              "      <th>0</th>\n",
              "      <td>0</td>\n",
              "      <td>Sunday</td>\n",
              "      <td>BAYVIEW</td>\n",
              "      <td>2000 Block of THOMAS AV</td>\n",
              "      <td>-122.399588</td>\n",
              "      <td>37.735051</td>\n",
              "      <td>2015</td>\n",
              "      <td>5</td>\n",
              "      <td>10</td>\n",
              "      <td>23</td>\n",
              "    </tr>\n",
              "    <tr>\n",
              "      <th>1</th>\n",
              "      <td>1</td>\n",
              "      <td>Sunday</td>\n",
              "      <td>BAYVIEW</td>\n",
              "      <td>3RD ST / REVERE AV</td>\n",
              "      <td>-122.391523</td>\n",
              "      <td>37.732432</td>\n",
              "      <td>2015</td>\n",
              "      <td>5</td>\n",
              "      <td>10</td>\n",
              "      <td>23</td>\n",
              "    </tr>\n",
              "    <tr>\n",
              "      <th>2</th>\n",
              "      <td>2</td>\n",
              "      <td>Sunday</td>\n",
              "      <td>NORTHERN</td>\n",
              "      <td>2000 Block of GOUGH ST</td>\n",
              "      <td>-122.426002</td>\n",
              "      <td>37.792212</td>\n",
              "      <td>2015</td>\n",
              "      <td>5</td>\n",
              "      <td>10</td>\n",
              "      <td>23</td>\n",
              "    </tr>\n",
              "    <tr>\n",
              "      <th>3</th>\n",
              "      <td>3</td>\n",
              "      <td>Sunday</td>\n",
              "      <td>INGLESIDE</td>\n",
              "      <td>4700 Block of MISSION ST</td>\n",
              "      <td>-122.437394</td>\n",
              "      <td>37.721412</td>\n",
              "      <td>2015</td>\n",
              "      <td>5</td>\n",
              "      <td>10</td>\n",
              "      <td>23</td>\n",
              "    </tr>\n",
              "    <tr>\n",
              "      <th>4</th>\n",
              "      <td>4</td>\n",
              "      <td>Sunday</td>\n",
              "      <td>INGLESIDE</td>\n",
              "      <td>4700 Block of MISSION ST</td>\n",
              "      <td>-122.437394</td>\n",
              "      <td>37.721412</td>\n",
              "      <td>2015</td>\n",
              "      <td>5</td>\n",
              "      <td>10</td>\n",
              "      <td>23</td>\n",
              "    </tr>\n",
              "  </tbody>\n",
              "</table>\n",
              "</div>"
            ],
            "text/plain": [
              "   Id DayOfWeek PdDistrict                   Address  ...  year  month  day  hour\n",
              "0   0    Sunday    BAYVIEW   2000 Block of THOMAS AV  ...  2015      5   10    23\n",
              "1   1    Sunday    BAYVIEW        3RD ST / REVERE AV  ...  2015      5   10    23\n",
              "2   2    Sunday   NORTHERN    2000 Block of GOUGH ST  ...  2015      5   10    23\n",
              "3   3    Sunday  INGLESIDE  4700 Block of MISSION ST  ...  2015      5   10    23\n",
              "4   4    Sunday  INGLESIDE  4700 Block of MISSION ST  ...  2015      5   10    23\n",
              "\n",
              "[5 rows x 10 columns]"
            ]
          },
          "metadata": {
            "tags": []
          },
          "execution_count": 252
        }
      ]
    },
    {
      "cell_type": "code",
      "metadata": {
        "id": "hOQePRdj11mE"
      },
      "source": [
        "y_Id = X_test.pop('Id')"
      ],
      "execution_count": 253,
      "outputs": []
    },
    {
      "cell_type": "code",
      "metadata": {
        "colab": {
          "base_uri": "https://localhost:8080/"
        },
        "id": "f4ITGy2v2AWm",
        "outputId": "94152fec-b857-42a6-acbc-32d77aa151a8"
      },
      "source": [
        "y_Id"
      ],
      "execution_count": 254,
      "outputs": [
        {
          "output_type": "execute_result",
          "data": {
            "text/plain": [
              "0              0\n",
              "1              1\n",
              "2              2\n",
              "3              3\n",
              "4              4\n",
              "           ...  \n",
              "884257    884257\n",
              "884258    884258\n",
              "884259    884259\n",
              "884260    884260\n",
              "884261    884261\n",
              "Name: Id, Length: 884262, dtype: int64"
            ]
          },
          "metadata": {
            "tags": []
          },
          "execution_count": 254
        }
      ]
    },
    {
      "cell_type": "code",
      "metadata": {
        "colab": {
          "base_uri": "https://localhost:8080/",
          "height": 195
        },
        "id": "Yh2ePcj22Lgo",
        "outputId": "449ec20f-7824-481a-db22-2327518c1226"
      },
      "source": [
        "X_test.head()"
      ],
      "execution_count": 255,
      "outputs": [
        {
          "output_type": "execute_result",
          "data": {
            "text/html": [
              "<div>\n",
              "<style scoped>\n",
              "    .dataframe tbody tr th:only-of-type {\n",
              "        vertical-align: middle;\n",
              "    }\n",
              "\n",
              "    .dataframe tbody tr th {\n",
              "        vertical-align: top;\n",
              "    }\n",
              "\n",
              "    .dataframe thead th {\n",
              "        text-align: right;\n",
              "    }\n",
              "</style>\n",
              "<table border=\"1\" class=\"dataframe\">\n",
              "  <thead>\n",
              "    <tr style=\"text-align: right;\">\n",
              "      <th></th>\n",
              "      <th>DayOfWeek</th>\n",
              "      <th>PdDistrict</th>\n",
              "      <th>Address</th>\n",
              "      <th>X</th>\n",
              "      <th>Y</th>\n",
              "      <th>year</th>\n",
              "      <th>month</th>\n",
              "      <th>day</th>\n",
              "      <th>hour</th>\n",
              "    </tr>\n",
              "  </thead>\n",
              "  <tbody>\n",
              "    <tr>\n",
              "      <th>0</th>\n",
              "      <td>Sunday</td>\n",
              "      <td>BAYVIEW</td>\n",
              "      <td>2000 Block of THOMAS AV</td>\n",
              "      <td>-122.399588</td>\n",
              "      <td>37.735051</td>\n",
              "      <td>2015</td>\n",
              "      <td>5</td>\n",
              "      <td>10</td>\n",
              "      <td>23</td>\n",
              "    </tr>\n",
              "    <tr>\n",
              "      <th>1</th>\n",
              "      <td>Sunday</td>\n",
              "      <td>BAYVIEW</td>\n",
              "      <td>3RD ST / REVERE AV</td>\n",
              "      <td>-122.391523</td>\n",
              "      <td>37.732432</td>\n",
              "      <td>2015</td>\n",
              "      <td>5</td>\n",
              "      <td>10</td>\n",
              "      <td>23</td>\n",
              "    </tr>\n",
              "    <tr>\n",
              "      <th>2</th>\n",
              "      <td>Sunday</td>\n",
              "      <td>NORTHERN</td>\n",
              "      <td>2000 Block of GOUGH ST</td>\n",
              "      <td>-122.426002</td>\n",
              "      <td>37.792212</td>\n",
              "      <td>2015</td>\n",
              "      <td>5</td>\n",
              "      <td>10</td>\n",
              "      <td>23</td>\n",
              "    </tr>\n",
              "    <tr>\n",
              "      <th>3</th>\n",
              "      <td>Sunday</td>\n",
              "      <td>INGLESIDE</td>\n",
              "      <td>4700 Block of MISSION ST</td>\n",
              "      <td>-122.437394</td>\n",
              "      <td>37.721412</td>\n",
              "      <td>2015</td>\n",
              "      <td>5</td>\n",
              "      <td>10</td>\n",
              "      <td>23</td>\n",
              "    </tr>\n",
              "    <tr>\n",
              "      <th>4</th>\n",
              "      <td>Sunday</td>\n",
              "      <td>INGLESIDE</td>\n",
              "      <td>4700 Block of MISSION ST</td>\n",
              "      <td>-122.437394</td>\n",
              "      <td>37.721412</td>\n",
              "      <td>2015</td>\n",
              "      <td>5</td>\n",
              "      <td>10</td>\n",
              "      <td>23</td>\n",
              "    </tr>\n",
              "  </tbody>\n",
              "</table>\n",
              "</div>"
            ],
            "text/plain": [
              "  DayOfWeek PdDistrict                   Address  ...  month  day  hour\n",
              "0    Sunday    BAYVIEW   2000 Block of THOMAS AV  ...      5   10    23\n",
              "1    Sunday    BAYVIEW        3RD ST / REVERE AV  ...      5   10    23\n",
              "2    Sunday   NORTHERN    2000 Block of GOUGH ST  ...      5   10    23\n",
              "3    Sunday  INGLESIDE  4700 Block of MISSION ST  ...      5   10    23\n",
              "4    Sunday  INGLESIDE  4700 Block of MISSION ST  ...      5   10    23\n",
              "\n",
              "[5 rows x 9 columns]"
            ]
          },
          "metadata": {
            "tags": []
          },
          "execution_count": 255
        }
      ]
    },
    {
      "cell_type": "code",
      "metadata": {
        "colab": {
          "base_uri": "https://localhost:8080/",
          "height": 195
        },
        "id": "7Z438sdj2Qq6",
        "outputId": "9929cf69-893a-4ebe-e3db-7744b52954f8"
      },
      "source": [
        "X_train.head()"
      ],
      "execution_count": 256,
      "outputs": [
        {
          "output_type": "execute_result",
          "data": {
            "text/html": [
              "<div>\n",
              "<style scoped>\n",
              "    .dataframe tbody tr th:only-of-type {\n",
              "        vertical-align: middle;\n",
              "    }\n",
              "\n",
              "    .dataframe tbody tr th {\n",
              "        vertical-align: top;\n",
              "    }\n",
              "\n",
              "    .dataframe thead th {\n",
              "        text-align: right;\n",
              "    }\n",
              "</style>\n",
              "<table border=\"1\" class=\"dataframe\">\n",
              "  <thead>\n",
              "    <tr style=\"text-align: right;\">\n",
              "      <th></th>\n",
              "      <th>DayOfWeek</th>\n",
              "      <th>PdDistrict</th>\n",
              "      <th>Address</th>\n",
              "      <th>X</th>\n",
              "      <th>Y</th>\n",
              "      <th>year</th>\n",
              "      <th>month</th>\n",
              "      <th>day</th>\n",
              "      <th>hour</th>\n",
              "    </tr>\n",
              "  </thead>\n",
              "  <tbody>\n",
              "    <tr>\n",
              "      <th>0</th>\n",
              "      <td>Wednesday</td>\n",
              "      <td>NORTHERN</td>\n",
              "      <td>OAK ST / LAGUNA ST</td>\n",
              "      <td>-122.425892</td>\n",
              "      <td>37.774599</td>\n",
              "      <td>2015</td>\n",
              "      <td>5</td>\n",
              "      <td>13</td>\n",
              "      <td>23</td>\n",
              "    </tr>\n",
              "    <tr>\n",
              "      <th>1</th>\n",
              "      <td>Wednesday</td>\n",
              "      <td>NORTHERN</td>\n",
              "      <td>OAK ST / LAGUNA ST</td>\n",
              "      <td>-122.425892</td>\n",
              "      <td>37.774599</td>\n",
              "      <td>2015</td>\n",
              "      <td>5</td>\n",
              "      <td>13</td>\n",
              "      <td>23</td>\n",
              "    </tr>\n",
              "    <tr>\n",
              "      <th>2</th>\n",
              "      <td>Wednesday</td>\n",
              "      <td>NORTHERN</td>\n",
              "      <td>VANNESS AV / GREENWICH ST</td>\n",
              "      <td>-122.424363</td>\n",
              "      <td>37.800414</td>\n",
              "      <td>2015</td>\n",
              "      <td>5</td>\n",
              "      <td>13</td>\n",
              "      <td>23</td>\n",
              "    </tr>\n",
              "    <tr>\n",
              "      <th>3</th>\n",
              "      <td>Wednesday</td>\n",
              "      <td>NORTHERN</td>\n",
              "      <td>1500 Block of LOMBARD ST</td>\n",
              "      <td>-122.426995</td>\n",
              "      <td>37.800873</td>\n",
              "      <td>2015</td>\n",
              "      <td>5</td>\n",
              "      <td>13</td>\n",
              "      <td>23</td>\n",
              "    </tr>\n",
              "    <tr>\n",
              "      <th>4</th>\n",
              "      <td>Wednesday</td>\n",
              "      <td>PARK</td>\n",
              "      <td>100 Block of BRODERICK ST</td>\n",
              "      <td>-122.438738</td>\n",
              "      <td>37.771541</td>\n",
              "      <td>2015</td>\n",
              "      <td>5</td>\n",
              "      <td>13</td>\n",
              "      <td>23</td>\n",
              "    </tr>\n",
              "  </tbody>\n",
              "</table>\n",
              "</div>"
            ],
            "text/plain": [
              "   DayOfWeek PdDistrict                    Address  ...  month  day  hour\n",
              "0  Wednesday   NORTHERN         OAK ST / LAGUNA ST  ...      5   13    23\n",
              "1  Wednesday   NORTHERN         OAK ST / LAGUNA ST  ...      5   13    23\n",
              "2  Wednesday   NORTHERN  VANNESS AV / GREENWICH ST  ...      5   13    23\n",
              "3  Wednesday   NORTHERN   1500 Block of LOMBARD ST  ...      5   13    23\n",
              "4  Wednesday       PARK  100 Block of BRODERICK ST  ...      5   13    23\n",
              "\n",
              "[5 rows x 9 columns]"
            ]
          },
          "metadata": {
            "tags": []
          },
          "execution_count": 256
        }
      ]
    },
    {
      "cell_type": "code",
      "metadata": {
        "colab": {
          "base_uri": "https://localhost:8080/",
          "height": 402
        },
        "id": "nBnsPmqMI0YL",
        "outputId": "fbb31ed1-c06c-4ac2-ac23-f4e8f4935b35"
      },
      "source": [
        "y_train"
      ],
      "execution_count": 257,
      "outputs": [
        {
          "output_type": "execute_result",
          "data": {
            "text/html": [
              "<div>\n",
              "<style scoped>\n",
              "    .dataframe tbody tr th:only-of-type {\n",
              "        vertical-align: middle;\n",
              "    }\n",
              "\n",
              "    .dataframe tbody tr th {\n",
              "        vertical-align: top;\n",
              "    }\n",
              "\n",
              "    .dataframe thead th {\n",
              "        text-align: right;\n",
              "    }\n",
              "</style>\n",
              "<table border=\"1\" class=\"dataframe\">\n",
              "  <thead>\n",
              "    <tr style=\"text-align: right;\">\n",
              "      <th></th>\n",
              "      <th>Category</th>\n",
              "    </tr>\n",
              "  </thead>\n",
              "  <tbody>\n",
              "    <tr>\n",
              "      <th>0</th>\n",
              "      <td>WARRANTS</td>\n",
              "    </tr>\n",
              "    <tr>\n",
              "      <th>1</th>\n",
              "      <td>OTHER OFFENSES</td>\n",
              "    </tr>\n",
              "    <tr>\n",
              "      <th>2</th>\n",
              "      <td>OTHER OFFENSES</td>\n",
              "    </tr>\n",
              "    <tr>\n",
              "      <th>3</th>\n",
              "      <td>LARCENY/THEFT</td>\n",
              "    </tr>\n",
              "    <tr>\n",
              "      <th>4</th>\n",
              "      <td>LARCENY/THEFT</td>\n",
              "    </tr>\n",
              "    <tr>\n",
              "      <th>...</th>\n",
              "      <td>...</td>\n",
              "    </tr>\n",
              "    <tr>\n",
              "      <th>878044</th>\n",
              "      <td>ROBBERY</td>\n",
              "    </tr>\n",
              "    <tr>\n",
              "      <th>878045</th>\n",
              "      <td>LARCENY/THEFT</td>\n",
              "    </tr>\n",
              "    <tr>\n",
              "      <th>878046</th>\n",
              "      <td>LARCENY/THEFT</td>\n",
              "    </tr>\n",
              "    <tr>\n",
              "      <th>878047</th>\n",
              "      <td>VANDALISM</td>\n",
              "    </tr>\n",
              "    <tr>\n",
              "      <th>878048</th>\n",
              "      <td>FORGERY/COUNTERFEITING</td>\n",
              "    </tr>\n",
              "  </tbody>\n",
              "</table>\n",
              "<p>878049 rows × 1 columns</p>\n",
              "</div>"
            ],
            "text/plain": [
              "                      Category\n",
              "0                     WARRANTS\n",
              "1               OTHER OFFENSES\n",
              "2               OTHER OFFENSES\n",
              "3                LARCENY/THEFT\n",
              "4                LARCENY/THEFT\n",
              "...                        ...\n",
              "878044                 ROBBERY\n",
              "878045           LARCENY/THEFT\n",
              "878046           LARCENY/THEFT\n",
              "878047               VANDALISM\n",
              "878048  FORGERY/COUNTERFEITING\n",
              "\n",
              "[878049 rows x 1 columns]"
            ]
          },
          "metadata": {
            "tags": []
          },
          "execution_count": 257
        }
      ]
    },
    {
      "cell_type": "code",
      "metadata": {
        "id": "8mINOHVzQfIw"
      },
      "source": [
        "X_train = X_train.iloc[:,3:9]\n",
        "X_test = X_test.iloc[:,3:9]"
      ],
      "execution_count": 258,
      "outputs": []
    },
    {
      "cell_type": "code",
      "metadata": {
        "colab": {
          "base_uri": "https://localhost:8080/",
          "height": 195
        },
        "id": "RnEqCmiyQqQk",
        "outputId": "23aec578-0244-44e9-9ff8-0ccb3c92b02d"
      },
      "source": [
        "X_test.head()"
      ],
      "execution_count": 259,
      "outputs": [
        {
          "output_type": "execute_result",
          "data": {
            "text/html": [
              "<div>\n",
              "<style scoped>\n",
              "    .dataframe tbody tr th:only-of-type {\n",
              "        vertical-align: middle;\n",
              "    }\n",
              "\n",
              "    .dataframe tbody tr th {\n",
              "        vertical-align: top;\n",
              "    }\n",
              "\n",
              "    .dataframe thead th {\n",
              "        text-align: right;\n",
              "    }\n",
              "</style>\n",
              "<table border=\"1\" class=\"dataframe\">\n",
              "  <thead>\n",
              "    <tr style=\"text-align: right;\">\n",
              "      <th></th>\n",
              "      <th>X</th>\n",
              "      <th>Y</th>\n",
              "      <th>year</th>\n",
              "      <th>month</th>\n",
              "      <th>day</th>\n",
              "      <th>hour</th>\n",
              "    </tr>\n",
              "  </thead>\n",
              "  <tbody>\n",
              "    <tr>\n",
              "      <th>0</th>\n",
              "      <td>-122.399588</td>\n",
              "      <td>37.735051</td>\n",
              "      <td>2015</td>\n",
              "      <td>5</td>\n",
              "      <td>10</td>\n",
              "      <td>23</td>\n",
              "    </tr>\n",
              "    <tr>\n",
              "      <th>1</th>\n",
              "      <td>-122.391523</td>\n",
              "      <td>37.732432</td>\n",
              "      <td>2015</td>\n",
              "      <td>5</td>\n",
              "      <td>10</td>\n",
              "      <td>23</td>\n",
              "    </tr>\n",
              "    <tr>\n",
              "      <th>2</th>\n",
              "      <td>-122.426002</td>\n",
              "      <td>37.792212</td>\n",
              "      <td>2015</td>\n",
              "      <td>5</td>\n",
              "      <td>10</td>\n",
              "      <td>23</td>\n",
              "    </tr>\n",
              "    <tr>\n",
              "      <th>3</th>\n",
              "      <td>-122.437394</td>\n",
              "      <td>37.721412</td>\n",
              "      <td>2015</td>\n",
              "      <td>5</td>\n",
              "      <td>10</td>\n",
              "      <td>23</td>\n",
              "    </tr>\n",
              "    <tr>\n",
              "      <th>4</th>\n",
              "      <td>-122.437394</td>\n",
              "      <td>37.721412</td>\n",
              "      <td>2015</td>\n",
              "      <td>5</td>\n",
              "      <td>10</td>\n",
              "      <td>23</td>\n",
              "    </tr>\n",
              "  </tbody>\n",
              "</table>\n",
              "</div>"
            ],
            "text/plain": [
              "            X          Y  year  month  day  hour\n",
              "0 -122.399588  37.735051  2015      5   10    23\n",
              "1 -122.391523  37.732432  2015      5   10    23\n",
              "2 -122.426002  37.792212  2015      5   10    23\n",
              "3 -122.437394  37.721412  2015      5   10    23\n",
              "4 -122.437394  37.721412  2015      5   10    23"
            ]
          },
          "metadata": {
            "tags": []
          },
          "execution_count": 259
        }
      ]
    },
    {
      "cell_type": "code",
      "metadata": {
        "colab": {
          "base_uri": "https://localhost:8080/",
          "height": 195
        },
        "id": "HLahS2-RQ3H6",
        "outputId": "7bd7387f-9ff0-48b7-c23b-cba1441bf71e"
      },
      "source": [
        "X_train.head()"
      ],
      "execution_count": 260,
      "outputs": [
        {
          "output_type": "execute_result",
          "data": {
            "text/html": [
              "<div>\n",
              "<style scoped>\n",
              "    .dataframe tbody tr th:only-of-type {\n",
              "        vertical-align: middle;\n",
              "    }\n",
              "\n",
              "    .dataframe tbody tr th {\n",
              "        vertical-align: top;\n",
              "    }\n",
              "\n",
              "    .dataframe thead th {\n",
              "        text-align: right;\n",
              "    }\n",
              "</style>\n",
              "<table border=\"1\" class=\"dataframe\">\n",
              "  <thead>\n",
              "    <tr style=\"text-align: right;\">\n",
              "      <th></th>\n",
              "      <th>X</th>\n",
              "      <th>Y</th>\n",
              "      <th>year</th>\n",
              "      <th>month</th>\n",
              "      <th>day</th>\n",
              "      <th>hour</th>\n",
              "    </tr>\n",
              "  </thead>\n",
              "  <tbody>\n",
              "    <tr>\n",
              "      <th>0</th>\n",
              "      <td>-122.425892</td>\n",
              "      <td>37.774599</td>\n",
              "      <td>2015</td>\n",
              "      <td>5</td>\n",
              "      <td>13</td>\n",
              "      <td>23</td>\n",
              "    </tr>\n",
              "    <tr>\n",
              "      <th>1</th>\n",
              "      <td>-122.425892</td>\n",
              "      <td>37.774599</td>\n",
              "      <td>2015</td>\n",
              "      <td>5</td>\n",
              "      <td>13</td>\n",
              "      <td>23</td>\n",
              "    </tr>\n",
              "    <tr>\n",
              "      <th>2</th>\n",
              "      <td>-122.424363</td>\n",
              "      <td>37.800414</td>\n",
              "      <td>2015</td>\n",
              "      <td>5</td>\n",
              "      <td>13</td>\n",
              "      <td>23</td>\n",
              "    </tr>\n",
              "    <tr>\n",
              "      <th>3</th>\n",
              "      <td>-122.426995</td>\n",
              "      <td>37.800873</td>\n",
              "      <td>2015</td>\n",
              "      <td>5</td>\n",
              "      <td>13</td>\n",
              "      <td>23</td>\n",
              "    </tr>\n",
              "    <tr>\n",
              "      <th>4</th>\n",
              "      <td>-122.438738</td>\n",
              "      <td>37.771541</td>\n",
              "      <td>2015</td>\n",
              "      <td>5</td>\n",
              "      <td>13</td>\n",
              "      <td>23</td>\n",
              "    </tr>\n",
              "  </tbody>\n",
              "</table>\n",
              "</div>"
            ],
            "text/plain": [
              "            X          Y  year  month  day  hour\n",
              "0 -122.425892  37.774599  2015      5   13    23\n",
              "1 -122.425892  37.774599  2015      5   13    23\n",
              "2 -122.424363  37.800414  2015      5   13    23\n",
              "3 -122.426995  37.800873  2015      5   13    23\n",
              "4 -122.438738  37.771541  2015      5   13    23"
            ]
          },
          "metadata": {
            "tags": []
          },
          "execution_count": 260
        }
      ]
    },
    {
      "cell_type": "code",
      "metadata": {
        "colab": {
          "base_uri": "https://localhost:8080/",
          "height": 284
        },
        "id": "FyGYE0NDQ5vh",
        "outputId": "f4033154-7f33-4cd8-dbf7-e7aefe1afc28"
      },
      "source": [
        "X_train.describe()\n"
      ],
      "execution_count": 261,
      "outputs": [
        {
          "output_type": "execute_result",
          "data": {
            "text/html": [
              "<div>\n",
              "<style scoped>\n",
              "    .dataframe tbody tr th:only-of-type {\n",
              "        vertical-align: middle;\n",
              "    }\n",
              "\n",
              "    .dataframe tbody tr th {\n",
              "        vertical-align: top;\n",
              "    }\n",
              "\n",
              "    .dataframe thead th {\n",
              "        text-align: right;\n",
              "    }\n",
              "</style>\n",
              "<table border=\"1\" class=\"dataframe\">\n",
              "  <thead>\n",
              "    <tr style=\"text-align: right;\">\n",
              "      <th></th>\n",
              "      <th>X</th>\n",
              "      <th>Y</th>\n",
              "      <th>year</th>\n",
              "      <th>month</th>\n",
              "      <th>day</th>\n",
              "      <th>hour</th>\n",
              "    </tr>\n",
              "  </thead>\n",
              "  <tbody>\n",
              "    <tr>\n",
              "      <th>count</th>\n",
              "      <td>878049.000000</td>\n",
              "      <td>878049.000000</td>\n",
              "      <td>878049.000000</td>\n",
              "      <td>878049.000000</td>\n",
              "      <td>878049.000000</td>\n",
              "      <td>878049.000000</td>\n",
              "    </tr>\n",
              "    <tr>\n",
              "      <th>mean</th>\n",
              "      <td>-122.422616</td>\n",
              "      <td>37.771020</td>\n",
              "      <td>2008.712046</td>\n",
              "      <td>6.436509</td>\n",
              "      <td>15.570623</td>\n",
              "      <td>13.412655</td>\n",
              "    </tr>\n",
              "    <tr>\n",
              "      <th>std</th>\n",
              "      <td>0.030354</td>\n",
              "      <td>0.456893</td>\n",
              "      <td>3.631194</td>\n",
              "      <td>3.428972</td>\n",
              "      <td>8.783005</td>\n",
              "      <td>6.549573</td>\n",
              "    </tr>\n",
              "    <tr>\n",
              "      <th>min</th>\n",
              "      <td>-122.513642</td>\n",
              "      <td>37.707879</td>\n",
              "      <td>2003.000000</td>\n",
              "      <td>1.000000</td>\n",
              "      <td>1.000000</td>\n",
              "      <td>0.000000</td>\n",
              "    </tr>\n",
              "    <tr>\n",
              "      <th>25%</th>\n",
              "      <td>-122.432952</td>\n",
              "      <td>37.752427</td>\n",
              "      <td>2006.000000</td>\n",
              "      <td>3.000000</td>\n",
              "      <td>8.000000</td>\n",
              "      <td>9.000000</td>\n",
              "    </tr>\n",
              "    <tr>\n",
              "      <th>50%</th>\n",
              "      <td>-122.416420</td>\n",
              "      <td>37.775421</td>\n",
              "      <td>2009.000000</td>\n",
              "      <td>6.000000</td>\n",
              "      <td>16.000000</td>\n",
              "      <td>14.000000</td>\n",
              "    </tr>\n",
              "    <tr>\n",
              "      <th>75%</th>\n",
              "      <td>-122.406959</td>\n",
              "      <td>37.784369</td>\n",
              "      <td>2012.000000</td>\n",
              "      <td>9.000000</td>\n",
              "      <td>23.000000</td>\n",
              "      <td>19.000000</td>\n",
              "    </tr>\n",
              "    <tr>\n",
              "      <th>max</th>\n",
              "      <td>-120.500000</td>\n",
              "      <td>90.000000</td>\n",
              "      <td>2015.000000</td>\n",
              "      <td>12.000000</td>\n",
              "      <td>31.000000</td>\n",
              "      <td>23.000000</td>\n",
              "    </tr>\n",
              "  </tbody>\n",
              "</table>\n",
              "</div>"
            ],
            "text/plain": [
              "                   X              Y  ...            day           hour\n",
              "count  878049.000000  878049.000000  ...  878049.000000  878049.000000\n",
              "mean     -122.422616      37.771020  ...      15.570623      13.412655\n",
              "std         0.030354       0.456893  ...       8.783005       6.549573\n",
              "min      -122.513642      37.707879  ...       1.000000       0.000000\n",
              "25%      -122.432952      37.752427  ...       8.000000       9.000000\n",
              "50%      -122.416420      37.775421  ...      16.000000      14.000000\n",
              "75%      -122.406959      37.784369  ...      23.000000      19.000000\n",
              "max      -120.500000      90.000000  ...      31.000000      23.000000\n",
              "\n",
              "[8 rows x 6 columns]"
            ]
          },
          "metadata": {
            "tags": []
          },
          "execution_count": 261
        }
      ]
    },
    {
      "cell_type": "code",
      "metadata": {
        "colab": {
          "base_uri": "https://localhost:8080/",
          "height": 389
        },
        "id": "eTiopvayRC9W",
        "outputId": "307fb47f-d265-4f0c-e65b-b4425dd5eb63"
      },
      "source": [
        "sns.distplot(X_train['Y'], kde=False, rug=True)"
      ],
      "execution_count": 262,
      "outputs": [
        {
          "output_type": "stream",
          "text": [
            "/usr/local/lib/python3.6/dist-packages/seaborn/distributions.py:2551: FutureWarning: `distplot` is a deprecated function and will be removed in a future version. Please adapt your code to use either `displot` (a figure-level function with similar flexibility) or `histplot` (an axes-level function for histograms).\n",
            "  warnings.warn(msg, FutureWarning)\n",
            "/usr/local/lib/python3.6/dist-packages/seaborn/distributions.py:2055: FutureWarning: The `axis` variable is no longer used and will be removed. Instead, assign variables directly to `x` or `y`.\n",
            "  warnings.warn(msg, FutureWarning)\n"
          ],
          "name": "stderr"
        },
        {
          "output_type": "execute_result",
          "data": {
            "text/plain": [
              "<matplotlib.axes._subplots.AxesSubplot at 0x7ffa88fbb550>"
            ]
          },
          "metadata": {
            "tags": []
          },
          "execution_count": 262
        },
        {
          "output_type": "display_data",
          "data": {
            "image/png": "[encoded data removed]",
            "text/plain": [
              "<Figure size 432x288 with 1 Axes>"
            ]
          },
          "metadata": {
            "tags": [],
            "needs_background": "light"
          }
        }
      ]
    },
    {
      "cell_type": "code",
      "metadata": {
        "id": "2nIpsjwDSUsx"
      },
      "source": [
        "meanY = X_train.Y.mean()\n",
        "\n",
        "ind_train = X_train.query('Y > 70').index\n",
        "ind_test = X_test.query('Y > 70').index"
      ],
      "execution_count": 263,
      "outputs": []
    },
    {
      "cell_type": "code",
      "metadata": {
        "id": "wKL4cJFQTngS"
      },
      "source": [
        ""
      ],
      "execution_count": 263,
      "outputs": []
    },
    {
      "cell_type": "code",
      "metadata": {
        "id": "v4tK6sDsV_Rn"
      },
      "source": [
        "def changeVal(x):\n",
        "  if x>70:\n",
        "    return meanY\n",
        "  else:\n",
        "    return x"
      ],
      "execution_count": 264,
      "outputs": []
    },
    {
      "cell_type": "code",
      "metadata": {
        "id": "MO2O-3liU2Qh"
      },
      "source": [
        "tempdf = X_train['Y'].copy(deep=True)\n",
        "tempdf = tempdf.apply(changeVal)"
      ],
      "execution_count": 265,
      "outputs": []
    },
    {
      "cell_type": "code",
      "metadata": {
        "id": "R2K63u10WrIn"
      },
      "source": [
        "X_train['Y'] = tempdf"
      ],
      "execution_count": 266,
      "outputs": []
    },
    {
      "cell_type": "code",
      "metadata": {
        "id": "VQb9srnCVk89"
      },
      "source": [
        "tempdf = X_test['Y'].copy(deep=True)\n",
        "tempdf = tempdf.apply(changeVal)\n",
        "\n",
        "X_test['Y'] = tempdf"
      ],
      "execution_count": 267,
      "outputs": []
    },
    {
      "cell_type": "code",
      "metadata": {
        "colab": {
          "base_uri": "https://localhost:8080/",
          "height": 284
        },
        "id": "LaEeSQKGWXLb",
        "outputId": "d5e7582d-79fc-4e38-8ee6-96adefe4e2bd"
      },
      "source": [
        "X_test.describe()"
      ],
      "execution_count": 268,
      "outputs": [
        {
          "output_type": "execute_result",
          "data": {
            "text/html": [
              "<div>\n",
              "<style scoped>\n",
              "    .dataframe tbody tr th:only-of-type {\n",
              "        vertical-align: middle;\n",
              "    }\n",
              "\n",
              "    .dataframe tbody tr th {\n",
              "        vertical-align: top;\n",
              "    }\n",
              "\n",
              "    .dataframe thead th {\n",
              "        text-align: right;\n",
              "    }\n",
              "</style>\n",
              "<table border=\"1\" class=\"dataframe\">\n",
              "  <thead>\n",
              "    <tr style=\"text-align: right;\">\n",
              "      <th></th>\n",
              "      <th>X</th>\n",
              "      <th>Y</th>\n",
              "      <th>year</th>\n",
              "      <th>month</th>\n",
              "      <th>day</th>\n",
              "      <th>hour</th>\n",
              "    </tr>\n",
              "  </thead>\n",
              "  <tbody>\n",
              "    <tr>\n",
              "      <th>count</th>\n",
              "      <td>884262.000000</td>\n",
              "      <td>884262.000000</td>\n",
              "      <td>884262.000000</td>\n",
              "      <td>884262.000000</td>\n",
              "      <td>884262.000000</td>\n",
              "      <td>884262.000000</td>\n",
              "    </tr>\n",
              "    <tr>\n",
              "      <th>mean</th>\n",
              "      <td>-122.422693</td>\n",
              "      <td>37.766987</td>\n",
              "      <td>2008.703743</td>\n",
              "      <td>6.314065</td>\n",
              "      <td>15.650294</td>\n",
              "      <td>13.396023</td>\n",
              "    </tr>\n",
              "    <tr>\n",
              "      <th>std</th>\n",
              "      <td>0.030985</td>\n",
              "      <td>0.024178</td>\n",
              "      <td>3.637850</td>\n",
              "      <td>3.467064</td>\n",
              "      <td>8.874769</td>\n",
              "      <td>6.558899</td>\n",
              "    </tr>\n",
              "    <tr>\n",
              "      <th>min</th>\n",
              "      <td>-122.513642</td>\n",
              "      <td>37.707879</td>\n",
              "      <td>2003.000000</td>\n",
              "      <td>1.000000</td>\n",
              "      <td>1.000000</td>\n",
              "      <td>0.000000</td>\n",
              "    </tr>\n",
              "    <tr>\n",
              "      <th>25%</th>\n",
              "      <td>-122.433069</td>\n",
              "      <td>37.752374</td>\n",
              "      <td>2005.000000</td>\n",
              "      <td>3.000000</td>\n",
              "      <td>8.000000</td>\n",
              "      <td>9.000000</td>\n",
              "    </tr>\n",
              "    <tr>\n",
              "      <th>50%</th>\n",
              "      <td>-122.416517</td>\n",
              "      <td>37.775421</td>\n",
              "      <td>2009.000000</td>\n",
              "      <td>6.000000</td>\n",
              "      <td>16.000000</td>\n",
              "      <td>14.000000</td>\n",
              "    </tr>\n",
              "    <tr>\n",
              "      <th>75%</th>\n",
              "      <td>-122.406959</td>\n",
              "      <td>37.784353</td>\n",
              "      <td>2012.000000</td>\n",
              "      <td>9.000000</td>\n",
              "      <td>23.000000</td>\n",
              "      <td>19.000000</td>\n",
              "    </tr>\n",
              "    <tr>\n",
              "      <th>max</th>\n",
              "      <td>-120.500000</td>\n",
              "      <td>37.820621</td>\n",
              "      <td>2015.000000</td>\n",
              "      <td>12.000000</td>\n",
              "      <td>31.000000</td>\n",
              "      <td>23.000000</td>\n",
              "    </tr>\n",
              "  </tbody>\n",
              "</table>\n",
              "</div>"
            ],
            "text/plain": [
              "                   X              Y  ...            day           hour\n",
              "count  884262.000000  884262.000000  ...  884262.000000  884262.000000\n",
              "mean     -122.422693      37.766987  ...      15.650294      13.396023\n",
              "std         0.030985       0.024178  ...       8.874769       6.558899\n",
              "min      -122.513642      37.707879  ...       1.000000       0.000000\n",
              "25%      -122.433069      37.752374  ...       8.000000       9.000000\n",
              "50%      -122.416517      37.775421  ...      16.000000      14.000000\n",
              "75%      -122.406959      37.784353  ...      23.000000      19.000000\n",
              "max      -120.500000      37.820621  ...      31.000000      23.000000\n",
              "\n",
              "[8 rows x 6 columns]"
            ]
          },
          "metadata": {
            "tags": []
          },
          "execution_count": 268
        }
      ]
    },
    {
      "cell_type": "code",
      "metadata": {
        "colab": {
          "base_uri": "https://localhost:8080/",
          "height": 284
        },
        "id": "vWpwY4wIW8Bk",
        "outputId": "c8581be0-ae82-49b6-efa3-ef1ed5d9c965"
      },
      "source": [
        "X_train.describe()"
      ],
      "execution_count": 269,
      "outputs": [
        {
          "output_type": "execute_result",
          "data": {
            "text/html": [
              "<div>\n",
              "<style scoped>\n",
              "    .dataframe tbody tr th:only-of-type {\n",
              "        vertical-align: middle;\n",
              "    }\n",
              "\n",
              "    .dataframe tbody tr th {\n",
              "        vertical-align: top;\n",
              "    }\n",
              "\n",
              "    .dataframe thead th {\n",
              "        text-align: right;\n",
              "    }\n",
              "</style>\n",
              "<table border=\"1\" class=\"dataframe\">\n",
              "  <thead>\n",
              "    <tr style=\"text-align: right;\">\n",
              "      <th></th>\n",
              "      <th>X</th>\n",
              "      <th>Y</th>\n",
              "      <th>year</th>\n",
              "      <th>month</th>\n",
              "      <th>day</th>\n",
              "      <th>hour</th>\n",
              "    </tr>\n",
              "  </thead>\n",
              "  <tbody>\n",
              "    <tr>\n",
              "      <th>count</th>\n",
              "      <td>878049.000000</td>\n",
              "      <td>878049.000000</td>\n",
              "      <td>878049.000000</td>\n",
              "      <td>878049.000000</td>\n",
              "      <td>878049.000000</td>\n",
              "      <td>878049.000000</td>\n",
              "    </tr>\n",
              "    <tr>\n",
              "      <th>mean</th>\n",
              "      <td>-122.422616</td>\n",
              "      <td>37.767035</td>\n",
              "      <td>2008.712046</td>\n",
              "      <td>6.436509</td>\n",
              "      <td>15.570623</td>\n",
              "      <td>13.412655</td>\n",
              "    </tr>\n",
              "    <tr>\n",
              "      <th>std</th>\n",
              "      <td>0.030354</td>\n",
              "      <td>0.024164</td>\n",
              "      <td>3.631194</td>\n",
              "      <td>3.428972</td>\n",
              "      <td>8.783005</td>\n",
              "      <td>6.549573</td>\n",
              "    </tr>\n",
              "    <tr>\n",
              "      <th>min</th>\n",
              "      <td>-122.513642</td>\n",
              "      <td>37.707879</td>\n",
              "      <td>2003.000000</td>\n",
              "      <td>1.000000</td>\n",
              "      <td>1.000000</td>\n",
              "      <td>0.000000</td>\n",
              "    </tr>\n",
              "    <tr>\n",
              "      <th>25%</th>\n",
              "      <td>-122.432952</td>\n",
              "      <td>37.752427</td>\n",
              "      <td>2006.000000</td>\n",
              "      <td>3.000000</td>\n",
              "      <td>8.000000</td>\n",
              "      <td>9.000000</td>\n",
              "    </tr>\n",
              "    <tr>\n",
              "      <th>50%</th>\n",
              "      <td>-122.416420</td>\n",
              "      <td>37.775421</td>\n",
              "      <td>2009.000000</td>\n",
              "      <td>6.000000</td>\n",
              "      <td>16.000000</td>\n",
              "      <td>14.000000</td>\n",
              "    </tr>\n",
              "    <tr>\n",
              "      <th>75%</th>\n",
              "      <td>-122.406959</td>\n",
              "      <td>37.784368</td>\n",
              "      <td>2012.000000</td>\n",
              "      <td>9.000000</td>\n",
              "      <td>23.000000</td>\n",
              "      <td>19.000000</td>\n",
              "    </tr>\n",
              "    <tr>\n",
              "      <th>max</th>\n",
              "      <td>-120.500000</td>\n",
              "      <td>37.819975</td>\n",
              "      <td>2015.000000</td>\n",
              "      <td>12.000000</td>\n",
              "      <td>31.000000</td>\n",
              "      <td>23.000000</td>\n",
              "    </tr>\n",
              "  </tbody>\n",
              "</table>\n",
              "</div>"
            ],
            "text/plain": [
              "                   X              Y  ...            day           hour\n",
              "count  878049.000000  878049.000000  ...  878049.000000  878049.000000\n",
              "mean     -122.422616      37.767035  ...      15.570623      13.412655\n",
              "std         0.030354       0.024164  ...       8.783005       6.549573\n",
              "min      -122.513642      37.707879  ...       1.000000       0.000000\n",
              "25%      -122.432952      37.752427  ...       8.000000       9.000000\n",
              "50%      -122.416420      37.775421  ...      16.000000      14.000000\n",
              "75%      -122.406959      37.784368  ...      23.000000      19.000000\n",
              "max      -120.500000      37.819975  ...      31.000000      23.000000\n",
              "\n",
              "[8 rows x 6 columns]"
            ]
          },
          "metadata": {
            "tags": []
          },
          "execution_count": 269
        }
      ]
    },
    {
      "cell_type": "code",
      "metadata": {
        "colab": {
          "base_uri": "https://localhost:8080/",
          "height": 302
        },
        "id": "BharxLCQW_ZS",
        "outputId": "fef17a31-dd55-4483-a614-68d44e2dd65b"
      },
      "source": [
        "sns.scatterplot(x = 'X', y = 'Y', data = X_test)"
      ],
      "execution_count": 270,
      "outputs": [
        {
          "output_type": "execute_result",
          "data": {
            "text/plain": [
              "<matplotlib.axes._subplots.AxesSubplot at 0x7ffa6c2fad68>"
            ]
          },
          "metadata": {
            "tags": []
          },
          "execution_count": 270
        },
        {
          "output_type": "display_data",
          "data": {
            "image/png": "[encoded data removed]",
            "text/plain": [
              "<Figure size 432x288 with 1 Axes>"
            ]
          },
          "metadata": {
            "tags": [],
            "needs_background": "light"
          }
        }
      ]
    },
    {
      "cell_type": "code",
      "metadata": {
        "id": "GPiADw_mXFeI"
      },
      "source": [
        "from sklearn.preprocessing import StandardScaler\n",
        "\n",
        "scaler = StandardScaler()\n",
        "\n",
        "cols = X_train.columns\n",
        "\n",
        "X_train[cols] = scaler.fit_transform(X_train[cols])\n",
        "\n",
        "X_test[cols] = scaler.fit_transform(X_test[cols])\n"
      ],
      "execution_count": 271,
      "outputs": []
    },
    {
      "cell_type": "code",
      "metadata": {
        "colab": {
          "base_uri": "https://localhost:8080/",
          "height": 302
        },
        "id": "nGpLm1ZbXlK3",
        "outputId": "86125e0e-40f0-47c3-a7af-e07dad6ab57d"
      },
      "source": [
        "sns.scatterplot(x = 'X', y = 'Y', data = X_train)"
      ],
      "execution_count": 272,
      "outputs": [
        {
          "output_type": "execute_result",
          "data": {
            "text/plain": [
              "<matplotlib.axes._subplots.AxesSubplot at 0x7ffa6c25a9e8>"
            ]
          },
          "metadata": {
            "tags": []
          },
          "execution_count": 272
        },
        {
          "output_type": "display_data",
          "data": {
            "image/png": "[encoded data removed]",
            "text/plain": [
              "<Figure size 432x288 with 1 Axes>"
            ]
          },
          "metadata": {
            "tags": [],
            "needs_background": "light"
          }
        }
      ]
    },
    {
      "cell_type": "code",
      "metadata": {
        "colab": {
          "base_uri": "https://localhost:8080/",
          "height": 284
        },
        "id": "Vpe9q227XprD",
        "outputId": "58fda6a6-6d6a-422c-a68a-bcf2e4480d80"
      },
      "source": [
        "X_train.describe()"
      ],
      "execution_count": 273,
      "outputs": [
        {
          "output_type": "execute_result",
          "data": {
            "text/html": [
              "<div>\n",
              "<style scoped>\n",
              "    .dataframe tbody tr th:only-of-type {\n",
              "        vertical-align: middle;\n",
              "    }\n",
              "\n",
              "    .dataframe tbody tr th {\n",
              "        vertical-align: top;\n",
              "    }\n",
              "\n",
              "    .dataframe thead th {\n",
              "        text-align: right;\n",
              "    }\n",
              "</style>\n",
              "<table border=\"1\" class=\"dataframe\">\n",
              "  <thead>\n",
              "    <tr style=\"text-align: right;\">\n",
              "      <th></th>\n",
              "      <th>X</th>\n",
              "      <th>Y</th>\n",
              "      <th>year</th>\n",
              "      <th>month</th>\n",
              "      <th>day</th>\n",
              "      <th>hour</th>\n",
              "    </tr>\n",
              "  </thead>\n",
              "  <tbody>\n",
              "    <tr>\n",
              "      <th>count</th>\n",
              "      <td>8.780490e+05</td>\n",
              "      <td>8.780490e+05</td>\n",
              "      <td>8.780490e+05</td>\n",
              "      <td>8.780490e+05</td>\n",
              "      <td>8.780490e+05</td>\n",
              "      <td>8.780490e+05</td>\n",
              "    </tr>\n",
              "    <tr>\n",
              "      <th>mean</th>\n",
              "      <td>5.777453e-13</td>\n",
              "      <td>1.987629e-13</td>\n",
              "      <td>-1.228077e-12</td>\n",
              "      <td>-7.770870e-14</td>\n",
              "      <td>2.962428e-15</td>\n",
              "      <td>-1.291517e-15</td>\n",
              "    </tr>\n",
              "    <tr>\n",
              "      <th>std</th>\n",
              "      <td>1.000001e+00</td>\n",
              "      <td>1.000001e+00</td>\n",
              "      <td>1.000001e+00</td>\n",
              "      <td>1.000001e+00</td>\n",
              "      <td>1.000001e+00</td>\n",
              "      <td>1.000001e+00</td>\n",
              "    </tr>\n",
              "    <tr>\n",
              "      <th>min</th>\n",
              "      <td>-2.998840e+00</td>\n",
              "      <td>-2.448130e+00</td>\n",
              "      <td>-1.573050e+00</td>\n",
              "      <td>-1.585464e+00</td>\n",
              "      <td>-1.658957e+00</td>\n",
              "      <td>-2.047868e+00</td>\n",
              "    </tr>\n",
              "    <tr>\n",
              "      <th>25%</th>\n",
              "      <td>-3.404912e-01</td>\n",
              "      <td>-6.045246e-01</td>\n",
              "      <td>-7.468748e-01</td>\n",
              "      <td>-1.002198e+00</td>\n",
              "      <td>-8.619632e-01</td>\n",
              "      <td>-6.737321e-01</td>\n",
              "    </tr>\n",
              "    <tr>\n",
              "      <th>50%</th>\n",
              "      <td>2.041550e-01</td>\n",
              "      <td>3.470397e-01</td>\n",
              "      <td>7.930022e-02</td>\n",
              "      <td>-1.273002e-01</td>\n",
              "      <td>4.888728e-02</td>\n",
              "      <td>8.967695e-02</td>\n",
              "    </tr>\n",
              "    <tr>\n",
              "      <th>75%</th>\n",
              "      <td>5.158463e-01</td>\n",
              "      <td>7.173053e-01</td>\n",
              "      <td>9.054753e-01</td>\n",
              "      <td>7.475980e-01</td>\n",
              "      <td>8.458815e-01</td>\n",
              "      <td>8.530860e-01</td>\n",
              "    </tr>\n",
              "    <tr>\n",
              "      <th>max</th>\n",
              "      <td>6.334063e+01</td>\n",
              "      <td>2.190911e+00</td>\n",
              "      <td>1.731650e+00</td>\n",
              "      <td>1.622496e+00</td>\n",
              "      <td>1.756732e+00</td>\n",
              "      <td>1.463813e+00</td>\n",
              "    </tr>\n",
              "  </tbody>\n",
              "</table>\n",
              "</div>"
            ],
            "text/plain": [
              "                  X             Y  ...           day          hour\n",
              "count  8.780490e+05  8.780490e+05  ...  8.780490e+05  8.780490e+05\n",
              "mean   5.777453e-13  1.987629e-13  ...  2.962428e-15 -1.291517e-15\n",
              "std    1.000001e+00  1.000001e+00  ...  1.000001e+00  1.000001e+00\n",
              "min   -2.998840e+00 -2.448130e+00  ... -1.658957e+00 -2.047868e+00\n",
              "25%   -3.404912e-01 -6.045246e-01  ... -8.619632e-01 -6.737321e-01\n",
              "50%    2.041550e-01  3.470397e-01  ...  4.888728e-02  8.967695e-02\n",
              "75%    5.158463e-01  7.173053e-01  ...  8.458815e-01  8.530860e-01\n",
              "max    6.334063e+01  2.190911e+00  ...  1.756732e+00  1.463813e+00\n",
              "\n",
              "[8 rows x 6 columns]"
            ]
          },
          "metadata": {
            "tags": []
          },
          "execution_count": 273
        }
      ]
    },
    {
      "cell_type": "code",
      "metadata": {
        "colab": {
          "base_uri": "https://localhost:8080/",
          "height": 402
        },
        "id": "IcM4YOIUYBpW",
        "outputId": "18a4bcbd-ebae-42eb-e51f-4bc9c6ceb005"
      },
      "source": [
        "X_train[X_train.X > 6]"
      ],
      "execution_count": 274,
      "outputs": [
        {
          "output_type": "execute_result",
          "data": {
            "text/html": [
              "<div>\n",
              "<style scoped>\n",
              "    .dataframe tbody tr th:only-of-type {\n",
              "        vertical-align: middle;\n",
              "    }\n",
              "\n",
              "    .dataframe tbody tr th {\n",
              "        vertical-align: top;\n",
              "    }\n",
              "\n",
              "    .dataframe thead th {\n",
              "        text-align: right;\n",
              "    }\n",
              "</style>\n",
              "<table border=\"1\" class=\"dataframe\">\n",
              "  <thead>\n",
              "    <tr style=\"text-align: right;\">\n",
              "      <th></th>\n",
              "      <th>X</th>\n",
              "      <th>Y</th>\n",
              "      <th>year</th>\n",
              "      <th>month</th>\n",
              "      <th>day</th>\n",
              "      <th>hour</th>\n",
              "    </tr>\n",
              "  </thead>\n",
              "  <tbody>\n",
              "    <tr>\n",
              "      <th>660485</th>\n",
              "      <td>63.340628</td>\n",
              "      <td>0.164932</td>\n",
              "      <td>-1.022266</td>\n",
              "      <td>1.622496</td>\n",
              "      <td>1.642876</td>\n",
              "      <td>0.547722</td>\n",
              "    </tr>\n",
              "    <tr>\n",
              "      <th>660711</th>\n",
              "      <td>63.340628</td>\n",
              "      <td>0.164932</td>\n",
              "      <td>-1.022266</td>\n",
              "      <td>1.622496</td>\n",
              "      <td>1.642876</td>\n",
              "      <td>-2.047868</td>\n",
              "    </tr>\n",
              "    <tr>\n",
              "      <th>660712</th>\n",
              "      <td>63.340628</td>\n",
              "      <td>0.164932</td>\n",
              "      <td>-1.022266</td>\n",
              "      <td>1.622496</td>\n",
              "      <td>1.642876</td>\n",
              "      <td>-2.047868</td>\n",
              "    </tr>\n",
              "    <tr>\n",
              "      <th>661106</th>\n",
              "      <td>63.340628</td>\n",
              "      <td>0.164932</td>\n",
              "      <td>-1.022266</td>\n",
              "      <td>1.622496</td>\n",
              "      <td>1.529019</td>\n",
              "      <td>-2.047868</td>\n",
              "    </tr>\n",
              "    <tr>\n",
              "      <th>666430</th>\n",
              "      <td>63.340628</td>\n",
              "      <td>0.164932</td>\n",
              "      <td>-1.022266</td>\n",
              "      <td>1.330864</td>\n",
              "      <td>1.642876</td>\n",
              "      <td>-0.368368</td>\n",
              "    </tr>\n",
              "    <tr>\n",
              "      <th>...</th>\n",
              "      <td>...</td>\n",
              "      <td>...</td>\n",
              "      <td>...</td>\n",
              "      <td>...</td>\n",
              "      <td>...</td>\n",
              "      <td>...</td>\n",
              "    </tr>\n",
              "    <tr>\n",
              "      <th>844995</th>\n",
              "      <td>63.340628</td>\n",
              "      <td>0.164932</td>\n",
              "      <td>-1.573050</td>\n",
              "      <td>-0.127300</td>\n",
              "      <td>-0.520394</td>\n",
              "      <td>-0.826414</td>\n",
              "    </tr>\n",
              "    <tr>\n",
              "      <th>845842</th>\n",
              "      <td>63.340628</td>\n",
              "      <td>0.164932</td>\n",
              "      <td>-1.573050</td>\n",
              "      <td>-0.127300</td>\n",
              "      <td>-0.748107</td>\n",
              "      <td>-0.673732</td>\n",
              "    </tr>\n",
              "    <tr>\n",
              "      <th>852880</th>\n",
              "      <td>63.340628</td>\n",
              "      <td>0.164932</td>\n",
              "      <td>-1.573050</td>\n",
              "      <td>-0.418933</td>\n",
              "      <td>-1.545101</td>\n",
              "      <td>-1.895186</td>\n",
              "    </tr>\n",
              "    <tr>\n",
              "      <th>857248</th>\n",
              "      <td>63.340628</td>\n",
              "      <td>0.164932</td>\n",
              "      <td>-1.573050</td>\n",
              "      <td>-0.710566</td>\n",
              "      <td>-0.178825</td>\n",
              "      <td>0.395041</td>\n",
              "    </tr>\n",
              "    <tr>\n",
              "      <th>871198</th>\n",
              "      <td>63.340628</td>\n",
              "      <td>0.164932</td>\n",
              "      <td>-1.573050</td>\n",
              "      <td>-1.293831</td>\n",
              "      <td>-1.203532</td>\n",
              "      <td>-0.215687</td>\n",
              "    </tr>\n",
              "  </tbody>\n",
              "</table>\n",
              "<p>67 rows × 6 columns</p>\n",
              "</div>"
            ],
            "text/plain": [
              "                X         Y      year     month       day      hour\n",
              "660485  63.340628  0.164932 -1.022266  1.622496  1.642876  0.547722\n",
              "660711  63.340628  0.164932 -1.022266  1.622496  1.642876 -2.047868\n",
              "660712  63.340628  0.164932 -1.022266  1.622496  1.642876 -2.047868\n",
              "661106  63.340628  0.164932 -1.022266  1.622496  1.529019 -2.047868\n",
              "666430  63.340628  0.164932 -1.022266  1.330864  1.642876 -0.368368\n",
              "...           ...       ...       ...       ...       ...       ...\n",
              "844995  63.340628  0.164932 -1.573050 -0.127300 -0.520394 -0.826414\n",
              "845842  63.340628  0.164932 -1.573050 -0.127300 -0.748107 -0.673732\n",
              "852880  63.340628  0.164932 -1.573050 -0.418933 -1.545101 -1.895186\n",
              "857248  63.340628  0.164932 -1.573050 -0.710566 -0.178825  0.395041\n",
              "871198  63.340628  0.164932 -1.573050 -1.293831 -1.203532 -0.215687\n",
              "\n",
              "[67 rows x 6 columns]"
            ]
          },
          "metadata": {
            "tags": []
          },
          "execution_count": 274
        }
      ]
    },
    {
      "cell_type": "code",
      "metadata": {
        "id": "JrIv3feuYdbg"
      },
      "source": [
        "meanX = X_train.X.mean()\n",
        "\n",
        "\n",
        "def changeVal2(x):\n",
        "  if x>6:\n",
        "    return meanX\n",
        "  else:\n",
        "    return x"
      ],
      "execution_count": 275,
      "outputs": []
    },
    {
      "cell_type": "code",
      "metadata": {
        "id": "5RgnCAMrY3KS"
      },
      "source": [
        "tempdf = X_train['X'].copy(deep=True)\n",
        "tempdf = tempdf.apply(changeVal2)\n",
        "\n",
        "X_train['X'] = tempdf"
      ],
      "execution_count": 276,
      "outputs": []
    },
    {
      "cell_type": "code",
      "metadata": {
        "id": "GHIxwinOZEDw"
      },
      "source": [
        "tempdf = X_test['X'].copy(deep=True)\n",
        "tempdf = tempdf.apply(changeVal2)\n",
        "\n",
        "X_test['X'] = tempdf"
      ],
      "execution_count": 277,
      "outputs": []
    },
    {
      "cell_type": "code",
      "metadata": {
        "colab": {
          "base_uri": "https://localhost:8080/",
          "height": 302
        },
        "id": "ufVAdzt1ZIGb",
        "outputId": "6c352e27-f79a-4ec3-c3ea-d7a2a1ae7196"
      },
      "source": [
        "sns.scatterplot(x = 'X', y = 'Y', data = X_train)"
      ],
      "execution_count": 278,
      "outputs": [
        {
          "output_type": "execute_result",
          "data": {
            "text/plain": [
              "<matplotlib.axes._subplots.AxesSubplot at 0x7ffa6c20e7b8>"
            ]
          },
          "metadata": {
            "tags": []
          },
          "execution_count": 278
        },
        {
          "output_type": "display_data",
          "data": {
            "image/png": "[encoded data removed]",
            "text/plain": [
              "<Figure size 432x288 with 1 Axes>"
            ]
          },
          "metadata": {
            "tags": [],
            "needs_background": "light"
          }
        }
      ]
    },
    {
      "cell_type": "code",
      "metadata": {
        "colab": {
          "base_uri": "https://localhost:8080/",
          "height": 195
        },
        "id": "WPQvkhVmZLYi",
        "outputId": "f2eed589-980a-4129-b964-cc8dea0394cf"
      },
      "source": [
        "X_train.head()"
      ],
      "execution_count": 279,
      "outputs": [
        {
          "output_type": "execute_result",
          "data": {
            "text/html": [
              "<div>\n",
              "<style scoped>\n",
              "    .dataframe tbody tr th:only-of-type {\n",
              "        vertical-align: middle;\n",
              "    }\n",
              "\n",
              "    .dataframe tbody tr th {\n",
              "        vertical-align: top;\n",
              "    }\n",
              "\n",
              "    .dataframe thead th {\n",
              "        text-align: right;\n",
              "    }\n",
              "</style>\n",
              "<table border=\"1\" class=\"dataframe\">\n",
              "  <thead>\n",
              "    <tr style=\"text-align: right;\">\n",
              "      <th></th>\n",
              "      <th>X</th>\n",
              "      <th>Y</th>\n",
              "      <th>year</th>\n",
              "      <th>month</th>\n",
              "      <th>day</th>\n",
              "      <th>hour</th>\n",
              "    </tr>\n",
              "  </thead>\n",
              "  <tbody>\n",
              "    <tr>\n",
              "      <th>0</th>\n",
              "      <td>-0.107902</td>\n",
              "      <td>0.313017</td>\n",
              "      <td>1.73165</td>\n",
              "      <td>-0.418933</td>\n",
              "      <td>-0.292682</td>\n",
              "      <td>1.463813</td>\n",
              "    </tr>\n",
              "    <tr>\n",
              "      <th>1</th>\n",
              "      <td>-0.107902</td>\n",
              "      <td>0.313017</td>\n",
              "      <td>1.73165</td>\n",
              "      <td>-0.418933</td>\n",
              "      <td>-0.292682</td>\n",
              "      <td>1.463813</td>\n",
              "    </tr>\n",
              "    <tr>\n",
              "      <th>2</th>\n",
              "      <td>-0.057541</td>\n",
              "      <td>1.381384</td>\n",
              "      <td>1.73165</td>\n",
              "      <td>-0.418933</td>\n",
              "      <td>-0.292682</td>\n",
              "      <td>1.463813</td>\n",
              "    </tr>\n",
              "    <tr>\n",
              "      <th>3</th>\n",
              "      <td>-0.144262</td>\n",
              "      <td>1.400351</td>\n",
              "      <td>1.73165</td>\n",
              "      <td>-0.418933</td>\n",
              "      <td>-0.292682</td>\n",
              "      <td>1.463813</td>\n",
              "    </tr>\n",
              "    <tr>\n",
              "      <th>4</th>\n",
              "      <td>-0.531112</td>\n",
              "      <td>0.186488</td>\n",
              "      <td>1.73165</td>\n",
              "      <td>-0.418933</td>\n",
              "      <td>-0.292682</td>\n",
              "      <td>1.463813</td>\n",
              "    </tr>\n",
              "  </tbody>\n",
              "</table>\n",
              "</div>"
            ],
            "text/plain": [
              "          X         Y     year     month       day      hour\n",
              "0 -0.107902  0.313017  1.73165 -0.418933 -0.292682  1.463813\n",
              "1 -0.107902  0.313017  1.73165 -0.418933 -0.292682  1.463813\n",
              "2 -0.057541  1.381384  1.73165 -0.418933 -0.292682  1.463813\n",
              "3 -0.144262  1.400351  1.73165 -0.418933 -0.292682  1.463813\n",
              "4 -0.531112  0.186488  1.73165 -0.418933 -0.292682  1.463813"
            ]
          },
          "metadata": {
            "tags": []
          },
          "execution_count": 279
        }
      ]
    },
    {
      "cell_type": "code",
      "metadata": {
        "colab": {
          "base_uri": "https://localhost:8080/",
          "height": 195
        },
        "id": "5HEe03CeZSO-",
        "outputId": "074fc001-66ea-44e8-9719-e5c847d71f83"
      },
      "source": [
        "X_test.head()"
      ],
      "execution_count": 280,
      "outputs": [
        {
          "output_type": "execute_result",
          "data": {
            "text/html": [
              "<div>\n",
              "<style scoped>\n",
              "    .dataframe tbody tr th:only-of-type {\n",
              "        vertical-align: middle;\n",
              "    }\n",
              "\n",
              "    .dataframe tbody tr th {\n",
              "        vertical-align: top;\n",
              "    }\n",
              "\n",
              "    .dataframe thead th {\n",
              "        text-align: right;\n",
              "    }\n",
              "</style>\n",
              "<table border=\"1\" class=\"dataframe\">\n",
              "  <thead>\n",
              "    <tr style=\"text-align: right;\">\n",
              "      <th></th>\n",
              "      <th>X</th>\n",
              "      <th>Y</th>\n",
              "      <th>year</th>\n",
              "      <th>month</th>\n",
              "      <th>day</th>\n",
              "      <th>hour</th>\n",
              "    </tr>\n",
              "  </thead>\n",
              "  <tbody>\n",
              "    <tr>\n",
              "      <th>0</th>\n",
              "      <td>0.745700</td>\n",
              "      <td>-1.320842</td>\n",
              "      <td>1.730764</td>\n",
              "      <td>-0.379014</td>\n",
              "      <td>-0.63667</td>\n",
              "      <td>1.464267</td>\n",
              "    </tr>\n",
              "    <tr>\n",
              "      <th>1</th>\n",
              "      <td>1.005982</td>\n",
              "      <td>-1.429147</td>\n",
              "      <td>1.730764</td>\n",
              "      <td>-0.379014</td>\n",
              "      <td>-0.63667</td>\n",
              "      <td>1.464267</td>\n",
              "    </tr>\n",
              "    <tr>\n",
              "      <th>2</th>\n",
              "      <td>-0.106786</td>\n",
              "      <td>1.043315</td>\n",
              "      <td>1.730764</td>\n",
              "      <td>-0.379014</td>\n",
              "      <td>-0.63667</td>\n",
              "      <td>1.464267</td>\n",
              "    </tr>\n",
              "    <tr>\n",
              "      <th>3</th>\n",
              "      <td>-0.474449</td>\n",
              "      <td>-1.884940</td>\n",
              "      <td>1.730764</td>\n",
              "      <td>-0.379014</td>\n",
              "      <td>-0.63667</td>\n",
              "      <td>1.464267</td>\n",
              "    </tr>\n",
              "    <tr>\n",
              "      <th>4</th>\n",
              "      <td>-0.474449</td>\n",
              "      <td>-1.884940</td>\n",
              "      <td>1.730764</td>\n",
              "      <td>-0.379014</td>\n",
              "      <td>-0.63667</td>\n",
              "      <td>1.464267</td>\n",
              "    </tr>\n",
              "  </tbody>\n",
              "</table>\n",
              "</div>"
            ],
            "text/plain": [
              "          X         Y      year     month      day      hour\n",
              "0  0.745700 -1.320842  1.730764 -0.379014 -0.63667  1.464267\n",
              "1  1.005982 -1.429147  1.730764 -0.379014 -0.63667  1.464267\n",
              "2 -0.106786  1.043315  1.730764 -0.379014 -0.63667  1.464267\n",
              "3 -0.474449 -1.884940  1.730764 -0.379014 -0.63667  1.464267\n",
              "4 -0.474449 -1.884940  1.730764 -0.379014 -0.63667  1.464267"
            ]
          },
          "metadata": {
            "tags": []
          },
          "execution_count": 280
        }
      ]
    },
    {
      "cell_type": "code",
      "metadata": {
        "colab": {
          "base_uri": "https://localhost:8080/",
          "height": 166
        },
        "id": "MtbS3XeDZVWc",
        "outputId": "c4a2c23c-b395-4297-ebf0-7467981b6e67"
      },
      "source": [
        "y_train.describe()"
      ],
      "execution_count": 281,
      "outputs": [
        {
          "output_type": "execute_result",
          "data": {
            "text/html": [
              "<div>\n",
              "<style scoped>\n",
              "    .dataframe tbody tr th:only-of-type {\n",
              "        vertical-align: middle;\n",
              "    }\n",
              "\n",
              "    .dataframe tbody tr th {\n",
              "        vertical-align: top;\n",
              "    }\n",
              "\n",
              "    .dataframe thead th {\n",
              "        text-align: right;\n",
              "    }\n",
              "</style>\n",
              "<table border=\"1\" class=\"dataframe\">\n",
              "  <thead>\n",
              "    <tr style=\"text-align: right;\">\n",
              "      <th></th>\n",
              "      <th>Category</th>\n",
              "    </tr>\n",
              "  </thead>\n",
              "  <tbody>\n",
              "    <tr>\n",
              "      <th>count</th>\n",
              "      <td>878049</td>\n",
              "    </tr>\n",
              "    <tr>\n",
              "      <th>unique</th>\n",
              "      <td>39</td>\n",
              "    </tr>\n",
              "    <tr>\n",
              "      <th>top</th>\n",
              "      <td>LARCENY/THEFT</td>\n",
              "    </tr>\n",
              "    <tr>\n",
              "      <th>freq</th>\n",
              "      <td>174900</td>\n",
              "    </tr>\n",
              "  </tbody>\n",
              "</table>\n",
              "</div>"
            ],
            "text/plain": [
              "             Category\n",
              "count          878049\n",
              "unique             39\n",
              "top     LARCENY/THEFT\n",
              "freq           174900"
            ]
          },
          "metadata": {
            "tags": []
          },
          "execution_count": 281
        }
      ]
    },
    {
      "cell_type": "code",
      "metadata": {
        "id": "-HXIYUjMMs2y"
      },
      "source": [
        ""
      ],
      "execution_count": 281,
      "outputs": []
    },
    {
      "cell_type": "code",
      "metadata": {
        "id": "MCeV3HoWZXlC"
      },
      "source": [
        "from sklearn.preprocessing import OneHotEncoder\n",
        "\n",
        "mlb = OneHotEncoder()\n",
        "\n",
        "y_train_1 = mlb.fit_transform(y_train)"
      ],
      "execution_count": 285,
      "outputs": []
    },
    {
      "cell_type": "code",
      "metadata": {
        "id": "_D5Pq1x8MZNS"
      },
      "source": [
        "y_train = pd.DataFrame(pd.DataFrame.sparse.from_spmatrix(y_train_1))"
      ],
      "execution_count": 310,
      "outputs": []
    },
    {
      "cell_type": "code",
      "metadata": {
        "id": "EpdBjkluLSHe"
      },
      "source": [
        "y_train.columns = mlb.categories_[0]"
      ],
      "execution_count": 311,
      "outputs": []
    },
    {
      "cell_type": "code",
      "metadata": {
        "colab": {
          "base_uri": "https://localhost:8080/",
          "height": 266
        },
        "id": "90oVt0UyLSTk",
        "outputId": "ae85abc8-297e-462b-c9d5-d21cefeddac9"
      },
      "source": [
        "y_train.head()"
      ],
      "execution_count": 312,
      "outputs": [
        {
          "output_type": "execute_result",
          "data": {
            "text/html": [
              "<div>\n",
              "<style scoped>\n",
              "    .dataframe tbody tr th:only-of-type {\n",
              "        vertical-align: middle;\n",
              "    }\n",
              "\n",
              "    .dataframe tbody tr th {\n",
              "        vertical-align: top;\n",
              "    }\n",
              "\n",
              "    .dataframe thead th {\n",
              "        text-align: right;\n",
              "    }\n",
              "</style>\n",
              "<table border=\"1\" class=\"dataframe\">\n",
              "  <thead>\n",
              "    <tr style=\"text-align: right;\">\n",
              "      <th></th>\n",
              "      <th>ARSON</th>\n",
              "      <th>ASSAULT</th>\n",
              "      <th>BAD CHECKS</th>\n",
              "      <th>BRIBERY</th>\n",
              "      <th>BURGLARY</th>\n",
              "      <th>DISORDERLY CONDUCT</th>\n",
              "      <th>DRIVING UNDER THE INFLUENCE</th>\n",
              "      <th>DRUG/NARCOTIC</th>\n",
              "      <th>DRUNKENNESS</th>\n",
              "      <th>EMBEZZLEMENT</th>\n",
              "      <th>EXTORTION</th>\n",
              "      <th>FAMILY OFFENSES</th>\n",
              "      <th>FORGERY/COUNTERFEITING</th>\n",
              "      <th>FRAUD</th>\n",
              "      <th>GAMBLING</th>\n",
              "      <th>KIDNAPPING</th>\n",
              "      <th>LARCENY/THEFT</th>\n",
              "      <th>LIQUOR LAWS</th>\n",
              "      <th>LOITERING</th>\n",
              "      <th>MISSING PERSON</th>\n",
              "      <th>NON-CRIMINAL</th>\n",
              "      <th>OTHER OFFENSES</th>\n",
              "      <th>PORNOGRAPHY/OBSCENE MAT</th>\n",
              "      <th>PROSTITUTION</th>\n",
              "      <th>RECOVERED VEHICLE</th>\n",
              "      <th>ROBBERY</th>\n",
              "      <th>RUNAWAY</th>\n",
              "      <th>SECONDARY CODES</th>\n",
              "      <th>SEX OFFENSES FORCIBLE</th>\n",
              "      <th>SEX OFFENSES NON FORCIBLE</th>\n",
              "      <th>STOLEN PROPERTY</th>\n",
              "      <th>SUICIDE</th>\n",
              "      <th>SUSPICIOUS OCC</th>\n",
              "      <th>TREA</th>\n",
              "      <th>TRESPASS</th>\n",
              "      <th>VANDALISM</th>\n",
              "      <th>VEHICLE THEFT</th>\n",
              "      <th>WARRANTS</th>\n",
              "      <th>WEAPON LAWS</th>\n",
              "    </tr>\n",
              "  </thead>\n",
              "  <tbody>\n",
              "    <tr>\n",
              "      <th>0</th>\n",
              "      <td>0.0</td>\n",
              "      <td>0.0</td>\n",
              "      <td>0.0</td>\n",
              "      <td>0.0</td>\n",
              "      <td>0.0</td>\n",
              "      <td>0.0</td>\n",
              "      <td>0.0</td>\n",
              "      <td>0.0</td>\n",
              "      <td>0.0</td>\n",
              "      <td>0.0</td>\n",
              "      <td>0.0</td>\n",
              "      <td>0.0</td>\n",
              "      <td>0.0</td>\n",
              "      <td>0.0</td>\n",
              "      <td>0.0</td>\n",
              "      <td>0.0</td>\n",
              "      <td>0.0</td>\n",
              "      <td>0.0</td>\n",
              "      <td>0.0</td>\n",
              "      <td>0.0</td>\n",
              "      <td>0.0</td>\n",
              "      <td>0.0</td>\n",
              "      <td>0.0</td>\n",
              "      <td>0.0</td>\n",
              "      <td>0.0</td>\n",
              "      <td>0.0</td>\n",
              "      <td>0.0</td>\n",
              "      <td>0.0</td>\n",
              "      <td>0.0</td>\n",
              "      <td>0.0</td>\n",
              "      <td>0.0</td>\n",
              "      <td>0.0</td>\n",
              "      <td>0.0</td>\n",
              "      <td>0.0</td>\n",
              "      <td>0.0</td>\n",
              "      <td>0.0</td>\n",
              "      <td>0.0</td>\n",
              "      <td>1.0</td>\n",
              "      <td>0.0</td>\n",
              "    </tr>\n",
              "    <tr>\n",
              "      <th>1</th>\n",
              "      <td>0.0</td>\n",
              "      <td>0.0</td>\n",
              "      <td>0.0</td>\n",
              "      <td>0.0</td>\n",
              "      <td>0.0</td>\n",
              "      <td>0.0</td>\n",
              "      <td>0.0</td>\n",
              "      <td>0.0</td>\n",
              "      <td>0.0</td>\n",
              "      <td>0.0</td>\n",
              "      <td>0.0</td>\n",
              "      <td>0.0</td>\n",
              "      <td>0.0</td>\n",
              "      <td>0.0</td>\n",
              "      <td>0.0</td>\n",
              "      <td>0.0</td>\n",
              "      <td>0.0</td>\n",
              "      <td>0.0</td>\n",
              "      <td>0.0</td>\n",
              "      <td>0.0</td>\n",
              "      <td>0.0</td>\n",
              "      <td>1.0</td>\n",
              "      <td>0.0</td>\n",
              "      <td>0.0</td>\n",
              "      <td>0.0</td>\n",
              "      <td>0.0</td>\n",
              "      <td>0.0</td>\n",
              "      <td>0.0</td>\n",
              "      <td>0.0</td>\n",
              "      <td>0.0</td>\n",
              "      <td>0.0</td>\n",
              "      <td>0.0</td>\n",
              "      <td>0.0</td>\n",
              "      <td>0.0</td>\n",
              "      <td>0.0</td>\n",
              "      <td>0.0</td>\n",
              "      <td>0.0</td>\n",
              "      <td>0.0</td>\n",
              "      <td>0.0</td>\n",
              "    </tr>\n",
              "    <tr>\n",
              "      <th>2</th>\n",
              "      <td>0.0</td>\n",
              "      <td>0.0</td>\n",
              "      <td>0.0</td>\n",
              "      <td>0.0</td>\n",
              "      <td>0.0</td>\n",
              "      <td>0.0</td>\n",
              "      <td>0.0</td>\n",
              "      <td>0.0</td>\n",
              "      <td>0.0</td>\n",
              "      <td>0.0</td>\n",
              "      <td>0.0</td>\n",
              "      <td>0.0</td>\n",
              "      <td>0.0</td>\n",
              "      <td>0.0</td>\n",
              "      <td>0.0</td>\n",
              "      <td>0.0</td>\n",
              "      <td>0.0</td>\n",
              "      <td>0.0</td>\n",
              "      <td>0.0</td>\n",
              "      <td>0.0</td>\n",
              "      <td>0.0</td>\n",
              "      <td>1.0</td>\n",
              "      <td>0.0</td>\n",
              "      <td>0.0</td>\n",
              "      <td>0.0</td>\n",
              "      <td>0.0</td>\n",
              "      <td>0.0</td>\n",
              "      <td>0.0</td>\n",
              "      <td>0.0</td>\n",
              "      <td>0.0</td>\n",
              "      <td>0.0</td>\n",
              "      <td>0.0</td>\n",
              "      <td>0.0</td>\n",
              "      <td>0.0</td>\n",
              "      <td>0.0</td>\n",
              "      <td>0.0</td>\n",
              "      <td>0.0</td>\n",
              "      <td>0.0</td>\n",
              "      <td>0.0</td>\n",
              "    </tr>\n",
              "    <tr>\n",
              "      <th>3</th>\n",
              "      <td>0.0</td>\n",
              "      <td>0.0</td>\n",
              "      <td>0.0</td>\n",
              "      <td>0.0</td>\n",
              "      <td>0.0</td>\n",
              "      <td>0.0</td>\n",
              "      <td>0.0</td>\n",
              "      <td>0.0</td>\n",
              "      <td>0.0</td>\n",
              "      <td>0.0</td>\n",
              "      <td>0.0</td>\n",
              "      <td>0.0</td>\n",
              "      <td>0.0</td>\n",
              "      <td>0.0</td>\n",
              "      <td>0.0</td>\n",
              "      <td>0.0</td>\n",
              "      <td>1.0</td>\n",
              "      <td>0.0</td>\n",
              "      <td>0.0</td>\n",
              "      <td>0.0</td>\n",
              "      <td>0.0</td>\n",
              "      <td>0.0</td>\n",
              "      <td>0.0</td>\n",
              "      <td>0.0</td>\n",
              "      <td>0.0</td>\n",
              "      <td>0.0</td>\n",
              "      <td>0.0</td>\n",
              "      <td>0.0</td>\n",
              "      <td>0.0</td>\n",
              "      <td>0.0</td>\n",
              "      <td>0.0</td>\n",
              "      <td>0.0</td>\n",
              "      <td>0.0</td>\n",
              "      <td>0.0</td>\n",
              "      <td>0.0</td>\n",
              "      <td>0.0</td>\n",
              "      <td>0.0</td>\n",
              "      <td>0.0</td>\n",
              "      <td>0.0</td>\n",
              "    </tr>\n",
              "    <tr>\n",
              "      <th>4</th>\n",
              "      <td>0.0</td>\n",
              "      <td>0.0</td>\n",
              "      <td>0.0</td>\n",
              "      <td>0.0</td>\n",
              "      <td>0.0</td>\n",
              "      <td>0.0</td>\n",
              "      <td>0.0</td>\n",
              "      <td>0.0</td>\n",
              "      <td>0.0</td>\n",
              "      <td>0.0</td>\n",
              "      <td>0.0</td>\n",
              "      <td>0.0</td>\n",
              "      <td>0.0</td>\n",
              "      <td>0.0</td>\n",
              "      <td>0.0</td>\n",
              "      <td>0.0</td>\n",
              "      <td>1.0</td>\n",
              "      <td>0.0</td>\n",
              "      <td>0.0</td>\n",
              "      <td>0.0</td>\n",
              "      <td>0.0</td>\n",
              "      <td>0.0</td>\n",
              "      <td>0.0</td>\n",
              "      <td>0.0</td>\n",
              "      <td>0.0</td>\n",
              "      <td>0.0</td>\n",
              "      <td>0.0</td>\n",
              "      <td>0.0</td>\n",
              "      <td>0.0</td>\n",
              "      <td>0.0</td>\n",
              "      <td>0.0</td>\n",
              "      <td>0.0</td>\n",
              "      <td>0.0</td>\n",
              "      <td>0.0</td>\n",
              "      <td>0.0</td>\n",
              "      <td>0.0</td>\n",
              "      <td>0.0</td>\n",
              "      <td>0.0</td>\n",
              "      <td>0.0</td>\n",
              "    </tr>\n",
              "  </tbody>\n",
              "</table>\n",
              "</div>"
            ],
            "text/plain": [
              "   ARSON  ASSAULT  BAD CHECKS  ...  VEHICLE THEFT  WARRANTS  WEAPON LAWS\n",
              "0    0.0      0.0         0.0  ...            0.0       1.0          0.0\n",
              "1    0.0      0.0         0.0  ...            0.0       0.0          0.0\n",
              "2    0.0      0.0         0.0  ...            0.0       0.0          0.0\n",
              "3    0.0      0.0         0.0  ...            0.0       0.0          0.0\n",
              "4    0.0      0.0         0.0  ...            0.0       0.0          0.0\n",
              "\n",
              "[5 rows x 39 columns]"
            ]
          },
          "metadata": {
            "tags": []
          },
          "execution_count": 312
        }
      ]
    },
    {
      "cell_type": "code",
      "metadata": {
        "id": "EbS8YwWeLSXG"
      },
      "source": [
        ""
      ],
      "execution_count": null,
      "outputs": []
    },
    {
      "cell_type": "code",
      "metadata": {
        "id": "KRiu2na-Zo9d"
      },
      "source": [
        "from sklearn.model_selection import train_test_split\n",
        "Xtrain, Xtest, ytrain, ytest = train_test_split(X_train, y_train, test_size=0.30, random_state=100)\n"
      ],
      "execution_count": 313,
      "outputs": []
    },
    {
      "cell_type": "code",
      "metadata": {
        "colab": {
          "base_uri": "https://localhost:8080/"
        },
        "id": "iM0qazOhVnVv",
        "outputId": "fef4d580-418f-49a3-8782-6deaa2decaaa"
      },
      "source": [
        "y_train.columns"
      ],
      "execution_count": 326,
      "outputs": [
        {
          "output_type": "execute_result",
          "data": {
            "text/plain": [
              "Index(['ARSON', 'ASSAULT', 'BAD CHECKS', 'BRIBERY', 'BURGLARY',\n",
              "       'DISORDERLY CONDUCT', 'DRIVING UNDER THE INFLUENCE', 'DRUG/NARCOTIC',\n",
              "       'DRUNKENNESS', 'EMBEZZLEMENT', 'EXTORTION', 'FAMILY OFFENSES',\n",
              "       'FORGERY/COUNTERFEITING', 'FRAUD', 'GAMBLING', 'KIDNAPPING',\n",
              "       'LARCENY/THEFT', 'LIQUOR LAWS', 'LOITERING', 'MISSING PERSON',\n",
              "       'NON-CRIMINAL', 'OTHER OFFENSES', 'PORNOGRAPHY/OBSCENE MAT',\n",
              "       'PROSTITUTION', 'RECOVERED VEHICLE', 'ROBBERY', 'RUNAWAY',\n",
              "       'SECONDARY CODES', 'SEX OFFENSES FORCIBLE', 'SEX OFFENSES NON FORCIBLE',\n",
              "       'STOLEN PROPERTY', 'SUICIDE', 'SUSPICIOUS OCC', 'TREA', 'TRESPASS',\n",
              "       'VANDALISM', 'VEHICLE THEFT', 'WARRANTS', 'WEAPON LAWS'],\n",
              "      dtype='object')"
            ]
          },
          "metadata": {
            "tags": []
          },
          "execution_count": 326
        }
      ]
    },
    {
      "cell_type": "code",
      "metadata": {
        "colab": {
          "base_uri": "https://localhost:8080/"
        },
        "id": "iFOk2U-WEFwS",
        "outputId": "c4d52a4a-b054-468a-c747-68b8ef25b1eb"
      },
      "source": [
        "from sklearn.tree import DecisionTreeClassifier\n",
        "from sklearn.multiclass import OneVsOneClassifier, OneVsRestClassifier\n",
        "from sklearn.linear_model import LogisticRegression\n",
        "\n",
        "model = OneVsRestClassifier(DecisionTreeClassifier())\n",
        "\n",
        "model.fit(X_train, y_train)\n",
        "\n",
        "print('Training Score: ', model.score(X_train, y_train))"
      ],
      "execution_count": 328,
      "outputs": [
        {
          "output_type": "stream",
          "text": [
            "Training Score:  0.7485094795392968\n"
          ],
          "name": "stdout"
        }
      ]
    },
    {
      "cell_type": "code",
      "metadata": {
        "id": "99-KpsoFGWRX"
      },
      "source": [
        "y_test_predict = model.predict(X_test)\n",
        "y_train_predict = model.predict(X_train)\n"
      ],
      "execution_count": 329,
      "outputs": []
    },
    {
      "cell_type": "code",
      "metadata": {
        "id": "hRDT8UxRHPD3"
      },
      "source": [
        "y_test_predict = pd.DataFrame(y_test_predict,columns=mlb.categories_[0])"
      ],
      "execution_count": 330,
      "outputs": []
    },
    {
      "cell_type": "code",
      "metadata": {
        "id": "uNhMgoKtHUt0"
      },
      "source": [
        "df = pd.concat([pd.DataFrame(y_Id, columns=['Id']), y_test_predict], axis=1, ignore_index=True)\n"
      ],
      "execution_count": 331,
      "outputs": []
    },
    {
      "cell_type": "code",
      "metadata": {
        "id": "CRRPlEZ9KE0z"
      },
      "source": [
        "df.columns = ['Id', 'ARSON', 'ASSAULT', 'BAD CHECKS', 'BRIBERY', 'BURGLARY',\n",
        "       'DISORDERLY CONDUCT', 'DRIVING UNDER THE INFLUENCE', 'DRUG/NARCOTIC',\n",
        "       'DRUNKENNESS', 'EMBEZZLEMENT', 'EXTORTION', 'FAMILY OFFENSES',\n",
        "       'FORGERY/COUNTERFEITING', 'FRAUD', 'GAMBLING', 'KIDNAPPING',\n",
        "       'LARCENY/THEFT', 'LIQUOR LAWS', 'LOITERING', 'MISSING PERSON',\n",
        "       'NON-CRIMINAL', 'OTHER OFFENSES', 'PORNOGRAPHY/OBSCENE MAT',\n",
        "       'PROSTITUTION', 'RECOVERED VEHICLE', 'ROBBERY', 'RUNAWAY',\n",
        "       'SECONDARY CODES', 'SEX OFFENSES FORCIBLE', 'SEX OFFENSES NON FORCIBLE',\n",
        "       'STOLEN PROPERTY', 'SUICIDE', 'SUSPICIOUS OCC', 'TREA', 'TRESPASS',\n",
        "       'VANDALISM', 'VEHICLE THEFT', 'WARRANTS', 'WEAPON LAWS']"
      ],
      "execution_count": 333,
      "outputs": []
    },
    {
      "cell_type": "code",
      "metadata": {
        "colab": {
          "base_uri": "https://localhost:8080/",
          "height": 266
        },
        "id": "HiKVN4nyXRDV",
        "outputId": "726c18d9-9adf-4d5e-eef3-86aa398b1322"
      },
      "source": [
        "df.head()"
      ],
      "execution_count": 334,
      "outputs": [
        {
          "output_type": "execute_result",
          "data": {
            "text/html": [
              "<div>\n",
              "<style scoped>\n",
              "    .dataframe tbody tr th:only-of-type {\n",
              "        vertical-align: middle;\n",
              "    }\n",
              "\n",
              "    .dataframe tbody tr th {\n",
              "        vertical-align: top;\n",
              "    }\n",
              "\n",
              "    .dataframe thead th {\n",
              "        text-align: right;\n",
              "    }\n",
              "</style>\n",
              "<table border=\"1\" class=\"dataframe\">\n",
              "  <thead>\n",
              "    <tr style=\"text-align: right;\">\n",
              "      <th></th>\n",
              "      <th>Id</th>\n",
              "      <th>ARSON</th>\n",
              "      <th>ASSAULT</th>\n",
              "      <th>BAD CHECKS</th>\n",
              "      <th>BRIBERY</th>\n",
              "      <th>BURGLARY</th>\n",
              "      <th>DISORDERLY CONDUCT</th>\n",
              "      <th>DRIVING UNDER THE INFLUENCE</th>\n",
              "      <th>DRUG/NARCOTIC</th>\n",
              "      <th>DRUNKENNESS</th>\n",
              "      <th>EMBEZZLEMENT</th>\n",
              "      <th>EXTORTION</th>\n",
              "      <th>FAMILY OFFENSES</th>\n",
              "      <th>FORGERY/COUNTERFEITING</th>\n",
              "      <th>FRAUD</th>\n",
              "      <th>GAMBLING</th>\n",
              "      <th>KIDNAPPING</th>\n",
              "      <th>LARCENY/THEFT</th>\n",
              "      <th>LIQUOR LAWS</th>\n",
              "      <th>LOITERING</th>\n",
              "      <th>MISSING PERSON</th>\n",
              "      <th>NON-CRIMINAL</th>\n",
              "      <th>OTHER OFFENSES</th>\n",
              "      <th>PORNOGRAPHY/OBSCENE MAT</th>\n",
              "      <th>PROSTITUTION</th>\n",
              "      <th>RECOVERED VEHICLE</th>\n",
              "      <th>ROBBERY</th>\n",
              "      <th>RUNAWAY</th>\n",
              "      <th>SECONDARY CODES</th>\n",
              "      <th>SEX OFFENSES FORCIBLE</th>\n",
              "      <th>SEX OFFENSES NON FORCIBLE</th>\n",
              "      <th>STOLEN PROPERTY</th>\n",
              "      <th>SUICIDE</th>\n",
              "      <th>SUSPICIOUS OCC</th>\n",
              "      <th>TREA</th>\n",
              "      <th>TRESPASS</th>\n",
              "      <th>VANDALISM</th>\n",
              "      <th>VEHICLE THEFT</th>\n",
              "      <th>WARRANTS</th>\n",
              "      <th>WEAPON LAWS</th>\n",
              "    </tr>\n",
              "  </thead>\n",
              "  <tbody>\n",
              "    <tr>\n",
              "      <th>0</th>\n",
              "      <td>0</td>\n",
              "      <td>0</td>\n",
              "      <td>0</td>\n",
              "      <td>0</td>\n",
              "      <td>0</td>\n",
              "      <td>0</td>\n",
              "      <td>0</td>\n",
              "      <td>0</td>\n",
              "      <td>0</td>\n",
              "      <td>0</td>\n",
              "      <td>0</td>\n",
              "      <td>0</td>\n",
              "      <td>0</td>\n",
              "      <td>0</td>\n",
              "      <td>0</td>\n",
              "      <td>0</td>\n",
              "      <td>0</td>\n",
              "      <td>0</td>\n",
              "      <td>0</td>\n",
              "      <td>0</td>\n",
              "      <td>0</td>\n",
              "      <td>0</td>\n",
              "      <td>0</td>\n",
              "      <td>0</td>\n",
              "      <td>0</td>\n",
              "      <td>0</td>\n",
              "      <td>0</td>\n",
              "      <td>0</td>\n",
              "      <td>0</td>\n",
              "      <td>0</td>\n",
              "      <td>0</td>\n",
              "      <td>0</td>\n",
              "      <td>0</td>\n",
              "      <td>0</td>\n",
              "      <td>0</td>\n",
              "      <td>0</td>\n",
              "      <td>0</td>\n",
              "      <td>0</td>\n",
              "      <td>0</td>\n",
              "      <td>0</td>\n",
              "    </tr>\n",
              "    <tr>\n",
              "      <th>1</th>\n",
              "      <td>1</td>\n",
              "      <td>0</td>\n",
              "      <td>0</td>\n",
              "      <td>0</td>\n",
              "      <td>0</td>\n",
              "      <td>0</td>\n",
              "      <td>0</td>\n",
              "      <td>0</td>\n",
              "      <td>0</td>\n",
              "      <td>0</td>\n",
              "      <td>0</td>\n",
              "      <td>0</td>\n",
              "      <td>0</td>\n",
              "      <td>0</td>\n",
              "      <td>0</td>\n",
              "      <td>0</td>\n",
              "      <td>0</td>\n",
              "      <td>0</td>\n",
              "      <td>0</td>\n",
              "      <td>0</td>\n",
              "      <td>0</td>\n",
              "      <td>0</td>\n",
              "      <td>0</td>\n",
              "      <td>0</td>\n",
              "      <td>0</td>\n",
              "      <td>0</td>\n",
              "      <td>0</td>\n",
              "      <td>0</td>\n",
              "      <td>0</td>\n",
              "      <td>0</td>\n",
              "      <td>0</td>\n",
              "      <td>0</td>\n",
              "      <td>0</td>\n",
              "      <td>0</td>\n",
              "      <td>0</td>\n",
              "      <td>0</td>\n",
              "      <td>0</td>\n",
              "      <td>0</td>\n",
              "      <td>0</td>\n",
              "      <td>0</td>\n",
              "    </tr>\n",
              "    <tr>\n",
              "      <th>2</th>\n",
              "      <td>2</td>\n",
              "      <td>0</td>\n",
              "      <td>0</td>\n",
              "      <td>0</td>\n",
              "      <td>0</td>\n",
              "      <td>0</td>\n",
              "      <td>0</td>\n",
              "      <td>0</td>\n",
              "      <td>0</td>\n",
              "      <td>0</td>\n",
              "      <td>0</td>\n",
              "      <td>0</td>\n",
              "      <td>0</td>\n",
              "      <td>0</td>\n",
              "      <td>0</td>\n",
              "      <td>0</td>\n",
              "      <td>0</td>\n",
              "      <td>0</td>\n",
              "      <td>0</td>\n",
              "      <td>0</td>\n",
              "      <td>0</td>\n",
              "      <td>0</td>\n",
              "      <td>0</td>\n",
              "      <td>0</td>\n",
              "      <td>0</td>\n",
              "      <td>0</td>\n",
              "      <td>0</td>\n",
              "      <td>0</td>\n",
              "      <td>0</td>\n",
              "      <td>0</td>\n",
              "      <td>0</td>\n",
              "      <td>0</td>\n",
              "      <td>0</td>\n",
              "      <td>0</td>\n",
              "      <td>0</td>\n",
              "      <td>0</td>\n",
              "      <td>0</td>\n",
              "      <td>0</td>\n",
              "      <td>0</td>\n",
              "      <td>0</td>\n",
              "    </tr>\n",
              "    <tr>\n",
              "      <th>3</th>\n",
              "      <td>3</td>\n",
              "      <td>0</td>\n",
              "      <td>1</td>\n",
              "      <td>0</td>\n",
              "      <td>0</td>\n",
              "      <td>0</td>\n",
              "      <td>0</td>\n",
              "      <td>0</td>\n",
              "      <td>1</td>\n",
              "      <td>0</td>\n",
              "      <td>0</td>\n",
              "      <td>0</td>\n",
              "      <td>0</td>\n",
              "      <td>0</td>\n",
              "      <td>0</td>\n",
              "      <td>0</td>\n",
              "      <td>0</td>\n",
              "      <td>0</td>\n",
              "      <td>0</td>\n",
              "      <td>0</td>\n",
              "      <td>0</td>\n",
              "      <td>0</td>\n",
              "      <td>0</td>\n",
              "      <td>0</td>\n",
              "      <td>0</td>\n",
              "      <td>0</td>\n",
              "      <td>1</td>\n",
              "      <td>0</td>\n",
              "      <td>0</td>\n",
              "      <td>0</td>\n",
              "      <td>0</td>\n",
              "      <td>0</td>\n",
              "      <td>0</td>\n",
              "      <td>0</td>\n",
              "      <td>0</td>\n",
              "      <td>0</td>\n",
              "      <td>0</td>\n",
              "      <td>0</td>\n",
              "      <td>0</td>\n",
              "      <td>0</td>\n",
              "    </tr>\n",
              "    <tr>\n",
              "      <th>4</th>\n",
              "      <td>4</td>\n",
              "      <td>0</td>\n",
              "      <td>1</td>\n",
              "      <td>0</td>\n",
              "      <td>0</td>\n",
              "      <td>0</td>\n",
              "      <td>0</td>\n",
              "      <td>0</td>\n",
              "      <td>1</td>\n",
              "      <td>0</td>\n",
              "      <td>0</td>\n",
              "      <td>0</td>\n",
              "      <td>0</td>\n",
              "      <td>0</td>\n",
              "      <td>0</td>\n",
              "      <td>0</td>\n",
              "      <td>0</td>\n",
              "      <td>0</td>\n",
              "      <td>0</td>\n",
              "      <td>0</td>\n",
              "      <td>0</td>\n",
              "      <td>0</td>\n",
              "      <td>0</td>\n",
              "      <td>0</td>\n",
              "      <td>0</td>\n",
              "      <td>0</td>\n",
              "      <td>1</td>\n",
              "      <td>0</td>\n",
              "      <td>0</td>\n",
              "      <td>0</td>\n",
              "      <td>0</td>\n",
              "      <td>0</td>\n",
              "      <td>0</td>\n",
              "      <td>0</td>\n",
              "      <td>0</td>\n",
              "      <td>0</td>\n",
              "      <td>0</td>\n",
              "      <td>0</td>\n",
              "      <td>0</td>\n",
              "      <td>0</td>\n",
              "    </tr>\n",
              "  </tbody>\n",
              "</table>\n",
              "</div>"
            ],
            "text/plain": [
              "   Id  ARSON  ASSAULT  ...  VEHICLE THEFT  WARRANTS  WEAPON LAWS\n",
              "0   0      0        0  ...              0         0            0\n",
              "1   1      0        0  ...              0         0            0\n",
              "2   2      0        0  ...              0         0            0\n",
              "3   3      0        1  ...              0         0            0\n",
              "4   4      0        1  ...              0         0            0\n",
              "\n",
              "[5 rows x 40 columns]"
            ]
          },
          "metadata": {
            "tags": []
          },
          "execution_count": 334
        }
      ]
    },
    {
      "cell_type": "code",
      "metadata": {
        "id": "U_rCV-LaXIwX"
      },
      "source": [
        "df.to_csv('Submission.csv', index=False)"
      ],
      "execution_count": 335,
      "outputs": []
    },
    {
      "cell_type": "code",
      "metadata": {
        "colab": {
          "base_uri": "https://localhost:8080/"
        },
        "id": "EDzrBYp1U3ab",
        "outputId": "7b8c8e88-0bbe-4855-85a3-c981b910b38b"
      },
      "source": [
        "!kaggle competitions submit -c sf-crime -f /content/Submission.csv -m \"Submission 1\""
      ],
      "execution_count": 336,
      "outputs": [
        {
          "output_type": "stream",
          "text": [
            "Warning: Looks like you're using an outdated API Version, please consider updating (server 1.5.9 / client 1.5.4)\n",
            "100% 71.6M/71.6M [00:02<00:00, 37.1MB/s]\n",
            "Successfully submitted to San Francisco Crime Classification"
          ],
          "name": "stdout"
        }
      ]
    },
    {
      "cell_type": "code",
      "metadata": {
        "id": "YHIrffaSVR8o"
      },
      "source": [
        ""
      ],
      "execution_count": null,
      "outputs": []
    }
  ]
}